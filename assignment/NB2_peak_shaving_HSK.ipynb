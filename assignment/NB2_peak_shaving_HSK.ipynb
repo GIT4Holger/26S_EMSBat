{
 "cells": [
  {
   "cell_type": "markdown",
   "metadata": {},
   "source": [
    "# Peak shaving und Optimierung\n",
    "\n",
    "Das Stromnetz ist dimensioneiert, um einen zuverlässigen Dienst zu erfüllen und dennoch in Kosten beherschbar zu bleiben. Das bedeutet oft, dass die Komponenten so dimensioniert sind, dass sie den höchsten *zu erwartenden* Bedarf decken, auch wenn dieser nur selten auftritt. Hohe Lastspitzen sind unerwünscht, da sie zu einer überdimensionierten und teuren Infrastruktur führen, um Netzunterbrechungen zu vermeiden.\n",
    "\n",
    "Um Großverbraucher dazu zu bewegen, ihre Leistungsspitzen zu reduzieren, werden auf ihrer Stromrechnung neben den regulären Energieverbrauchskosten auch Gebühren für die während des Abrechnungszeitraums (z.B. ein Jahr, z.T. auch ein Monat) gemessene Höchstleistung ausgewiesen.\n",
    "Die Verbraucher könnten diesen \"Leistungspries\" senken, indem sie  z.B. ihr Verbrauchsverhalten anpassen und flexible Lasten in verbrauchsarmen Zeiten verschieben.\n",
    "Eine Alternative, ist die Nutzung eines Batteriespeichersystems, um die zeitliche Abfolge der Lastbedarfs zu verschieben und Spitzen abzufangen.\n",
    "Im Ergebnis kann ein Lastprofil \"abgeflacht\" werden, während der Verbrauch gleich bleibt (bzw. sich wegend des Eigenverbrauchs des Speichers leicht erhöt).\n",
    "\n",
    "In diesem Jupyter Notebook werden wir:\n",
    "* Das Peak-Shaving mittels Batteriespeicherals als Möglichkeit zur Reduzierung der Stromspitzenkosten genauer analysieren.\n",
    "* Lineare Optimierungsmodelle einsetzen, um eine *Steuerungsstrategie* für das Batteriesystem zur Spitzenlastreduzierung zu entwerfen.\n",
    "* Das o.g. Modell erweitern um eine Möglichkeit auch die *Dimensionierung* unseres Speichersystems zu optimieren."
   ]
  },
  {
   "cell_type": "code",
   "execution_count": null,
   "metadata": {},
   "outputs": [],
   "source": [
    "import pandas as pd\n",
    "import pyomo.environ as opt\n",
    "import plotly.graph_objects as go"
   ]
  },
  {
   "cell_type": "code",
   "execution_count": null,
   "metadata": {},
   "outputs": [],
   "source": [
    "pd.options.plotting.backend = \"plotly\"\n",
    "template = \"plotly_white\"\n",
    "# template = \"plotly_dark\""
   ]
  },
  {
   "cell_type": "markdown",
   "metadata": {},
   "source": [
    "## Use case - dataset and base-scenario definition\n",
    "For our example we take an historic load profile from HS Kempten Campus. For simplicity, we will consider a single billing period of 1 year."
   ]
  },
  {
   "cell_type": "code",
   "execution_count": null,
   "metadata": {
    "tags": []
   },
   "outputs": [],
   "source": [
    "# use 15 min time step:\n",
    "# optimization time:\n",
    "#   task 1:     25s\n",
    "#   task 2:     3m11s * 2\n",
    "# profile =df_15min\n",
    "\n",
    "# use 1h time step:\n",
    "# optimization time:\n",
    "#   task 1:     5s\n",
    "#   task 2:     28s * 2 \n",
    "dt = 0.25 # h\n",
    "\n",
    "if dt == 0.25:    \n",
    "    # load profile: version: 1h / 15 min time step version\n",
    "    profile = pd.read_csv(\"../data/HSK/HSK_22_15min.csv\", index_col=['time_date'], parse_dates=True).drop(columns=['Unnamed: 0','time']).rename(columns={'pUser': 'load'})\n",
    "\n",
    "if dt == 1:\n",
    "    # load profile: version: 1h / 15 min time step version\n",
    "    profile = pd.read_csv(\"../data/HSK/HSK_22_1h.csv\", index_col=0, parse_dates=True).rename(columns={'pUser': 'load'})\n",
    "\n",
    "profile.plot(template=template, labels={\"value\": \"Power [kW]\"})"
   ]
  },
  {
   "cell_type": "markdown",
   "metadata": {},
   "source": [
    "<div class=\"alert alert-block alert-info\">\n",
    "<b>Task IV </b> Calculate energy consumption, peak power and the resulting electricity bill.\n",
    "</div>"
   ]
  },
  {
   "cell_type": "markdown",
   "metadata": {},
   "source": [
    "<div class=\"alert alert-block alert-warning\">\n",
    "<b>Hint!</b> Hint! Pay attention when converting power to energy. </li>\n",
    "</div>"
   ]
  },
  {
   "cell_type": "code",
   "execution_count": null,
   "metadata": {
    "scrolled": true
   },
   "outputs": [],
   "source": [
    "# cost\n",
    "electricity_cost =   0.12 # €/kWh\n",
    "peak_power_cost  = 120.00 # €/kW"
   ]
  },
  {
   "cell_type": "code",
   "execution_count": null,
   "metadata": {},
   "outputs": [],
   "source": [
    "# task IV: Calculate energy consumption, peak power and the resulting electricity bill.\n",
    "def baseline_analysis(profile, dt, electricity_cost, peak_power_cost):\n",
    "    demand = sum(profile[\"pRes\"]*dt)\n",
    "    peak = max(profile[\"pRes\"])\n",
    "    cost =   peak*peak_power_cost+ demand*electricity_cost                \n",
    "    print(f\"Consumption: {demand:10.2f} kWh\")\n",
    "    print(f\"Peak power:  {peak:10.2f} kW\")\n",
    "    print(f\"Total costs: {cost:10.2f} €\")"
   ]
  },
  {
   "cell_type": "code",
   "execution_count": null,
   "metadata": {},
   "outputs": [],
   "source": [
    "print(\"--- without storage ---\")\n",
    "baseline_analysis(profile, dt, electricity_cost,peak_power_cost)    "
   ]
  },
  {
   "cell_type": "markdown",
   "metadata": {},
   "source": [
    "## Optimization model - Operation\n",
    "\n",
    "An energy storage system can reduce costs by performing peak shaving. But how exactly should it operate? \n",
    "\n",
    "We can define a target maximum power peak and charge or discharge the storage depending on if the load is currently above or below this threshold.\n",
    "Defining a peak target could be nonetheless difficult, if the threshold is too high the storage system may not be used at its full potential, if it is too low, the storage system would not be able to fulfil it.\n",
    "\n",
    "We can instead use mathematical optimization techniques to find the optimal storage charge/discharge schedule to best fulfill the task. The [*pyomo* library](https://www.pyomo.org/) allows us to easily formulate *linear programming* models with python."
   ]
  },
  {
   "attachments": {},
   "cell_type": "markdown",
   "metadata": {},
   "source": [
    "<div class=\"alert alert-block alert-info\">\n",
    "<b>Task V</b> Formulate and optimize the model\n",
    "<ol>\n",
    "    <li> Formulate the optimization problem in a markdown cell using \\( \\LaTeX \\). </li>\n",
    "    <li> Create a function <code>build_model</code> that takes storage system parameters <code>storage_params</code>, load profile <code>load_profile</code>, electricity costs <code>electricity_cost</code>, peak costs <code>peak_power_cost</code> and returns a pyomo optimization model <code>model</code>. </li>\n",
    "    <li> Build the model based on the given storage parameters and optimize it with the GLPK solver. </li>\n",
    "    <li> Recover the optimization results. Combine the time series results togther in a dataframe with the load profile. Make the following plots:\n",
    "    <ol>\n",
    "        <li> Load profile and grid power in the same plot. </li>\n",
    "        <li> Storage power. </li>\n",
    "        <li> Storage energy content or SOC. </li>\n",
    "    </ol>\n",
    "    </li>\n",
    "    <li> Calculate the new total consumption, peak-power and total costs. Evaluate the improvements against the scenario without storage system. </li>\n",
    "    \n",
    "</ol>\n",
    "</div>"
   ]
  },
  {
   "attachments": {},
   "cell_type": "markdown",
   "metadata": {},
   "source": [
    "<div class=\"alert alert-block alert-info\">\n",
    "TASK V.1: Formulate the optimization problem in a markdown cell using \\( \\LaTeX \\)\n",
    "\n",
    "<b>Hint!</b> Read the <a href=\"https://pyomo.readthedocs.io/en/stable/\">pyomo documentation</a>. </li>\n",
    "</div>"
   ]
  },
  {
   "cell_type": "markdown",
   "metadata": {},
   "source": [
    "$$\n",
    "\\begin{aligned}\n",
    "&\\min_{a, b, c} \\quad f(b, c) = 2 * \\sum_{T}{b_t} + c^2 \\\\\n",
    "s.t.  &  \\\\\n",
    "b_t &\\leq a_t, \\quad &\\forall t \\in T \\\\\n",
    "b_t &\\geq c, \\quad &\\forall t \\in T \\\\\n",
    "c &= d,  \\\\\n",
    "\\end{aligned}\n",
    "$$"
   ]
  },
  {
   "cell_type": "code",
   "execution_count": null,
   "metadata": {},
   "outputs": [],
   "source": [
    "# Storage parameters - Definition as \"Dictionary\"\n",
    "storage_params = {\n",
    "    \"capacity\": 200.0,  # kWh\n",
    "    \"power\": 200.0,      # kW\n",
    "\n",
    "    \"soc_bounds\": (0.1, 0.9),\n",
    "    \"soc_start\": 0.1,\n",
    "\n",
    "    \"effc\": 0.9,     # charge efficiency\n",
    "    \"effd\": 0.9,     # discharge efficiency\n",
    "}"
   ]
  },
  {
   "cell_type": "code",
   "execution_count": null,
   "metadata": {},
   "outputs": [],
   "source": [
    "storage_params[\"effc\"]"
   ]
  },
  {
   "attachments": {},
   "cell_type": "markdown",
   "metadata": {},
   "source": [
    "<div class=\"alert alert-block alert-info\">\n",
    "\n",
    "### Task V.2:  Create a function <code>build_model</code> that takes storage system parameters <code>storage_params</code>, load profile <code>load_profile</code>, electricity costs <code>electricity_cost</code>, peak costs <code>peak_power_cost</code> and returns a pyomo optimization model <code>model</code>.\n"
   ]
  },
  {
   "cell_type": "code",
   "execution_count": null,
   "metadata": {},
   "outputs": [],
   "source": [
    "# Task V.2: Build the model based on the given storage parameters and optimize it with the GLPK solver.\n",
    "def build_model(storage_params, load_profile, electricity_cost, peak_power_cost):\n",
    "    # Optimization model\n",
    "    model = opt.ConcreteModel()\n",
    "    ## =====  Parameters  ===== ##\n",
    "    n = len(load_profile)   # number of timesteps\n",
    "    model.time = opt.RangeSet(0, n-1) # T\n",
    "    max_power = storage_params[\"power\"]\n",
    "    ...\n",
    "\n",
    "    ## =====  Variables  ===== ##\n",
    "    # BESS: power charge/discharge, energy content\n",
    "    model.power_charge    = opt.Var(model.time, bounds=(0.0, max_power))\n",
    "    ...\n",
    "\n",
    "    # Grid: power, peak-power limit (for peak-shaving)\n",
    "\n",
    "    ## =====  Objective  ===== ##\n",
    "    ...\n",
    "    model.obj = opt.Objective(sense=opt.minimize,.......)\n",
    "\n",
    "    ## ===== Constraints ===== ##\n",
    "   # power balance\n",
    "    def power_balance_rule(m, t):\n",
    "        .....\n",
    "    \n",
    "    return model"
   ]
  },
  {
   "cell_type": "code",
   "execution_count": null,
   "metadata": {},
   "outputs": [],
   "source": [
    "# task V.3: build model\n",
    "model = build_model(\n",
    "    ...\n",
    ")"
   ]
  },
  {
   "cell_type": "code",
   "execution_count": null,
   "metadata": {},
   "outputs": [],
   "source": [
    "model.pprint()"
   ]
  },
  {
   "cell_type": "code",
   "execution_count": null,
   "metadata": {},
   "outputs": [],
   "source": [
    "solver = opt.SolverFactory('glpk')  # glpk is an open source LP solver"
   ]
  },
  {
   "cell_type": "code",
   "execution_count": null,
   "metadata": {},
   "outputs": [],
   "source": [
    "status = solver.solve(model, tee=True)"
   ]
  },
  {
   "cell_type": "code",
   "execution_count": null,
   "metadata": {},
   "outputs": [],
   "source": [
    "# taskV.4: recover results\n",
    "def recover_results(model, profile):\n",
    "    df = profile.copy() # Solutions dataframe\n",
    "    df[\"BESS_power\"] =\n",
    "    df[\"BESS_energy\"] =\n",
    "    df[\"grid_power\"] =\n",
    "    return df"
   ]
  },
  {
   "cell_type": "code",
   "execution_count": null,
   "metadata": {},
   "outputs": [],
   "source": [
    "# task V.4: plot results \n",
    "\n",
    "def plot_storage_power(profile, model):\n",
    "    ...\n",
    "    return fig"
   ]
  },
  {
   "cell_type": "code",
   "execution_count": null,
   "metadata": {},
   "outputs": [],
   "source": [
    "# PLOT: Load profile and grid power in the same plot."
   ]
  },
  {
   "cell_type": "code",
   "execution_count": null,
   "metadata": {},
   "outputs": [],
   "source": [
    "# PLOT:  Storage power. \n"
   ]
  },
  {
   "cell_type": "code",
   "execution_count": null,
   "metadata": {},
   "outputs": [],
   "source": [
    "# PLOT:  Storage energy content or SOE (i.e. State of Energy)."
   ]
  },
  {
   "cell_type": "code",
   "execution_count": null,
   "metadata": {},
   "outputs": [],
   "source": [
    "# task V.5: analyze results\n",
    "def analyze_results(...):\n",
    "    \n",
    "    ...\n",
    "\n",
    "    print(f\"Consumption: {opt_demand:10.2f} kWh ({delta_demand:+7.2%})\")\n",
    "    print(f\"Peak power:  {opt_peak:10.2f} kW  ({delta_peak:+7.2%})\")\n",
    "    print(f\"Total costs: {opt_cost:10.2f} €   ({delta_cost:+7.2%})\")"
   ]
  },
  {
   "cell_type": "markdown",
   "metadata": {},
   "source": [
    "<div class=\"alert alert-block alert-success\">\n",
    "Weitere Tasks in Diskussion erst nach dem 27.5.24\n"
   ]
  },
  {
   "cell_type": "markdown",
   "metadata": {},
   "source": [
    "## System dimension\n",
    "\n",
    "We have succesfully optimized our storage operation to minimizes costs. This was done with a predefined system. But what if we find ourselfs on the planning stage, contemplating the idea of aquiring a storage system to perform peak shaving? The storage system comes with respective investment costs, so me might want to \n",
    "re-formulate the optimization problem with a further degree of freedom to find the best system size that minimizes the total costs.\n",
    "\n",
    "Two storage system are considered, their ANNUAL specific costs and efficiency are described in the following table:\n",
    "\n",
    "|                                   | Storage System 1  | Sotrage System 2  |\n",
    "|:---------------------------------:|:-----------------:|:-----------------:|\n",
    "| Specific capacity costs           | 50.00 €/kWh       | 20.00 €/kWh       |\n",
    "| Specific power costs              | 20.00 €/kW        | 50.00 €/kW        |\n",
    "| Efficiency charge ; discharge     | 95% ; 95%         | 90%  ; 90%        |"
   ]
  },
  {
   "attachments": {},
   "cell_type": "markdown",
   "metadata": {},
   "source": [
    "<div class=\"alert alert-block alert-info\">\n",
    "<b>Task!</b> Formulate and optimize the dimensioning model\n",
    "<ol>\n",
    "    <li> Formulate the optimal sizing problem in a markdown cell using \\( \\LaTeX \\). </li>\n",
    "    <li> Create a function <code>build_dimension_model</code> that takes storage system parameters <code>storage_params</code>, load profile <code>load_profile</code>, electricity costs <code>electricity_cost</code>, peak costs <code>peak_power_cost</code> and returns a pyomo optimization model <code>model</code>. </li>\n",
    "    <li> Build the model based on the given storage parameters and optimize it with the GLPK solver. </li>\n",
    "    <li> Recover the optimization results. Combine the load profile and the time series results of both storage systems in a dataframe. Make the following plots:\n",
    "    <ol>\n",
    "        <li> Load profile and grid power in the same plot. </li>\n",
    "        <li> Storage power. </li>\n",
    "        <li> Storage energy content or SOC. </li>\n",
    "    </ol>\n",
    "    </li>\n",
    "    <li> Calculate the new total consumption, peak-power and total costs for both systems. Which system would you choose? Give your arguments in a markdown cell. </li>\n",
    "    \n",
    "</ol>\n",
    "</div>"
   ]
  },
  {
   "attachments": {},
   "cell_type": "markdown",
   "metadata": {},
   "source": [
    "TASK 1: LATEX\n",
    "\n",
    "\n",
    "...\n",
    "...\n",
    "...\n",
    "\n",
    "\n",
    "**Variables**: Storage system installed capacity $E^{N}$, storage system installed power $p^{N}$, energy charge state at $t$ timestep $E^{bess}$, charge power at $t$ timestep $p^{ch}_t$, discharge power at $t$ timestep $p^{ch}_t$, grid power supply at $t$ timestep $p^{grid,buy}_t$, peak power $p^{peak}$.\n",
    "\n",
    "**Parameters**: Energy capacity specific investment costs $k^{inv,E}$, power specific investment costs $k^{inv,E}$, electricity cost $k^{electricity}$, peak power cost $p^{peak}$, lower SOC limit $SOC^{min}$, upper SOC limit $SOC^{min}$, start SOC value $SOC^{init}$, charge efficiency $\\eta^{ch}$, discharge efficiency $\\eta^{dch}$, power demand at $t$ timestep $p^{load}_t$."
   ]
  },
  {
   "cell_type": "code",
   "execution_count": null,
   "metadata": {},
   "outputs": [],
   "source": [
    "# Storage parameters\n",
    "storage1_params = {\n",
    "    \"capacity_cost\": 50.00,  # €/kWh\n",
    "    \"power_cost\": 20.00,     # €/kW\n",
    "\n",
    "    \"soc_bounds\": (0.1, 0.9),\n",
    "    \"soc_start\": 0.0,\n",
    "\n",
    "    \"effc\": 0.95,     # charge efficiency\n",
    "    \"effd\": 0.95,     # discharge efficiency\n",
    "}\n",
    "\n",
    "storage2_params = {\n",
    "    \"capacity_cost\": 20.00,  # €/kWh\n",
    "    \"power_cost\": 50.00,     # €/kW\n",
    "\n",
    "    \"soc_bounds\": (0.1, 0.9),\n",
    "    \"soc_start\": 0.0,\n",
    "\n",
    "    \"effc\": 0.9,     # charge efficiency\n",
    "    \"effd\": 0.9,     # discharge efficiency\n",
    "}"
   ]
  },
  {
   "cell_type": "code",
   "execution_count": null,
   "metadata": {},
   "outputs": [],
   "source": [
    "def build_dimension_model(storage_params, load_profile, electricity_cost, peak_power_cost):\n",
    "    # task\n",
    "    ...\n",
    "\n",
    "    return model"
   ]
  },
  {
   "cell_type": "code",
   "execution_count": null,
   "metadata": {},
   "outputs": [],
   "source": [
    "model_dim1 = build_dimension_model(\n",
    "    ...\n",
    ")"
   ]
  },
  {
   "cell_type": "code",
   "execution_count": null,
   "metadata": {},
   "outputs": [],
   "source": [
    "#solve model 1\n",
    "status = solver.solve(model_dim1, tee=True)"
   ]
  },
  {
   "cell_type": "code",
   "execution_count": null,
   "metadata": {},
   "outputs": [],
   "source": [
    "model_dim2 = build_dimension_model(\n",
    "    ...\n",
    ")"
   ]
  },
  {
   "cell_type": "code",
   "execution_count": null,
   "metadata": {},
   "outputs": [],
   "source": [
    "#solve model 2\n",
    "status = solver.solve(model_dim2, tee=True)"
   ]
  },
  {
   "cell_type": "code",
   "execution_count": null,
   "metadata": {},
   "outputs": [],
   "source": [
    "# task: recover results\n",
    "..."
   ]
  },
  {
   "cell_type": "code",
   "execution_count": null,
   "metadata": {},
   "outputs": [],
   "source": [
    "# task: analyze results\n",
    "def analyze_dimension_results(...):\n",
    "    # system dimension\n",
    "    ...\n",
    "    # operation\n",
    "    ...\n",
    "    \n",
    "    \n",
    "    print(f\"Installed capacity: {capacity:7.2f} kWh\")\n",
    "    print(f\"Installed power:    {power:7.2f} kW\")\n",
    "    print(f\"System costs:       {system_cost:7.2f} €\\n\")\n",
    "    \n",
    "    print(f\"Consumption: {opt_demand:10.2f} kWh ({delta_demand:+7.2%})\")\n",
    "    print(f\"Peak power:  {opt_peak:10.2f} kW  ({delta_peak:+7.2%})\")\n",
    "    print(f\"Total costs: {opt_cost:10.2f} €   ({delta_cost:+7.2%})\")\n",
    "\n"
   ]
  },
  {
   "cell_type": "code",
   "execution_count": null,
   "metadata": {},
   "outputs": [],
   "source": [
    "# task: analyze resuls\n",
    "print(\"--- storage 1 ---\")\n",
    "analyze_dimension_results(res_dim1, model_dim1, storage1_params, electricity_cost, peak_power_cost)\n",
    "print()\n",
    "print(\"--- storage 2 ---\")\n",
    "analyze_dimension_results(res_dim2, model_dim2, storage2_params, electricity_cost, peak_power_cost)"
   ]
  },
  {
   "cell_type": "code",
   "execution_count": null,
   "metadata": {},
   "outputs": [],
   "source": [
    "# task: plot results"
   ]
  },
  {
   "cell_type": "markdown",
   "metadata": {},
   "source": []
  }
 ],
 "metadata": {
  "kernelspec": {
   "display_name": "STAT_bat",
   "language": "python",
   "name": "python3"
  },
  "language_info": {
   "codemirror_mode": {
    "name": "ipython",
    "version": 3
   },
   "file_extension": ".py",
   "mimetype": "text/x-python",
   "name": "python",
   "nbconvert_exporter": "python",
   "pygments_lexer": "ipython3",
   "version": "3.8.19"
  }
 },
 "nbformat": 4,
 "nbformat_minor": 4
}
