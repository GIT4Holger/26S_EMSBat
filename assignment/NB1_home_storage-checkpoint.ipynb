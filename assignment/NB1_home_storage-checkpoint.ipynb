{
 "cells": [
  {
   "cell_type": "markdown",
   "metadata": {},
   "source": [
    "# NB1: Home-storage systems and operational strategies\n",
    "\n",
    "*Distributed energy resources* are advocated to substitute big centralized power stations in an attempt to push the decarbonization of our energy systems. With the latest advanced of renewable energy integration, particularly rooftop PV, the next logical step is to combine these with energy storage systems and improve the local consumption of the locally generated electricity.\n",
    "\n",
    "From the consumer perspective there might be also other advantages of owning an energy storage system beyond simply an altruistic goal of maximizing autarky and a low carbon footprint. Increasing electricity prices, fading feed-in tariffs and falling ownership costs of battery energy storage systems have created the ideal conditions for the economic benefit. This has lead to a recent significant growth of the home-storage market.\n",
    "[It is estimated, that in Germany alone](https://arxiv.org/abs/2203.06762v2) 145,000 new home-storage systems with a combined capacity of 1.27 GWh were commissioned in 2021, increasing the total installed capacity to 3.5 GWh.\n",
    "\n",
    "These batteries allow great amount of flexibility in their control, and for this reason designing proper operational strategies is an important aspect in the effort to get the most out of the investment.\n",
    "\n",
    "This notebook explores the following:\n",
    "- Time-series simulation of battery energy storage systems.\n",
    "- Techno-economic analysis of home-storage systems.\n",
    "- The impact of operational strategies on the system performance."
   ]
  },
  {
   "cell_type": "code",
   "execution_count": null,
   "metadata": {
    "tags": []
   },
   "outputs": [],
   "source": [
    "import pandas as pd"
   ]
  },
  {
   "cell_type": "code",
   "execution_count": null,
   "metadata": {},
   "outputs": [],
   "source": [
    "# plotting options\n",
    "pd.options.plotting.backend = \"plotly\"\n",
    "template = \"plotly_white\"\n",
    "# template = \"plotly_dark\""
   ]
  },
  {
   "cell_type": "markdown",
   "metadata": {},
   "source": [
    "## Use case - dataset and base-scenario definition\n",
    "For our analysis we take a look into a *representative* household with a solar PV system. The data is taken from the [*Standard Battery Application Profiles (SBAP) paper*](https://doi.org/10.1016/j.est.2019.101077), which provides curated profiles of multiple battery storage applications that researches can take to test against."
   ]
  },
  {
   "cell_type": "code",
   "execution_count": null,
   "metadata": {},
   "outputs": [],
   "source": [
    "profile = pd.read_csv(\"../data/household_profile.csv\", index_col=0, parse_dates=True)\n",
    "profile.plot(template=template, labels={\"value\": \"Power [kW]\"})"
   ]
  },
  {
   "cell_type": "markdown",
   "metadata": {},
   "source": [
    "Let's take first a look into our baseline scenario: a system with no battery energy storage:"
   ]
  },
  {
   "attachments": {},
   "cell_type": "markdown",
   "metadata": {},
   "source": [
    "<div class=\"alert alert-block alert-info\">\n",
    "<b>Task!</b> Analyze the consumption and generation profiles:\n",
    "<ul>\n",
    "    <li> Calculate the residual load, include it as new column of the dataframe and plot it. </li>\n",
    "    <li> Find the total energy consumption and generation in a year and calculate the resulting electricity costs. Consider 0.485 €/kWh for the electricity price and 0.085 €/kWh for the feed-in tariff. </li>\n",
    "    <li> Implement functions to compute both the self-consumption-rate and the self-sufficiency-rate, use them to determine the values for this scenario. </li> \n",
    "</ul>\n",
    "</div>"
   ]
  },
  {
   "cell_type": "markdown",
   "metadata": {},
   "source": [
    "<div class=\"alert alert-block alert-warning\">\n",
    "<b>Hint!</b> Take attention when converting between power and energy. Don't forget to properly label the plot axes.\n",
    "</div>"
   ]
  },
  {
   "cell_type": "code",
   "execution_count": null,
   "metadata": {},
   "outputs": [],
   "source": [
    "# task\n",
    "profile[\"residual\"] = ..."
   ]
  },
  {
   "cell_type": "code",
   "execution_count": null,
   "metadata": {},
   "outputs": [],
   "source": [
    "# task"
   ]
  },
  {
   "cell_type": "code",
   "execution_count": null,
   "metadata": {},
   "outputs": [],
   "source": [
    "# task"
   ]
  },
  {
   "cell_type": "markdown",
   "metadata": {},
   "source": [
    "## Greedy strategy\n",
    "\n",
    "To make better use of the solar energy, the household decides to install a storage system, designed with 5 kWh nominal capacity and 5 kW max. power. Nonetheless, the battery won't do the work for itself... We have to tell it first what to do!\n",
    "\n",
    "For our first attempt, we can try out the most trivial solutions possible to **improve the self-consumption**: make the storage system observe the residual load and as soon as the PV generation exceeds the current load, it will charge the battery. Then, as soon when the PV generation falls below the demand, the battery will discharge back to cover the difference. This *dumb* strategy tries to blindly storage all the solar energy available, that is why it is given the name of *greedy* strategy."
   ]
  },
  {
   "cell_type": "markdown",
   "metadata": {},
   "source": [
    "<div class=\"alert alert-block alert-info\">\n",
    "<b>Task!</b> Analyze the greedy strategy:\n",
    "<ul>\n",
    "    <li> Implement the greedy strategy for self-consumption increase. Define a function that takes the profile dataframe and the storage system size (capacity and power), and returns a new dataframe with the battery SOC and power, and the resulting grid power at each timestep. Check during the entire operation, that the power and SOC limits are not violated. Consider the system losses with charge/discharge efficiencies of 95%. </li>\n",
    "    <li> Calculate the new self-consumption and self-sufficiency rates. Evaluate the improvement from the base scenario. </li>\n",
    "    <li> Calculate the new electricity bill and the resulting <i>savings</t>. </li>\n",
    "</ul>\n",
    "</div>"
   ]
  },
  {
   "cell_type": "markdown",
   "metadata": {},
   "source": [
    "<div class=\"alert alert-block alert-warning\">\n",
    "<b>Hint!</b> Iterate through the dataframe to calculate the power and SOC at each timestep. Follow the convention of positive power for charging, negative power for discharging.\n",
    "Again, take attention when converting between power and energy values.\n",
    "</div>"
   ]
  },
  {
   "cell_type": "code",
   "execution_count": null,
   "metadata": {},
   "outputs": [],
   "source": [
    "def greedy_strategy(profile, capacity, max_power, eff=0.95, initial_soc=0.0):\n",
    "    df = profile.copy() # make a new copy of the dataframe\n",
    "    # add new empty columns to the dataframe\n",
    "    df[\"grid\"] = 0.0   # grid power in kW\n",
    "    df[\"power\"] = 0.0  # battery power in kW\n",
    "    df[\"soc\"]  = 0.0   # battery SOC in p.u.\n",
    "\n",
    "    # task\n",
    "    ..."
   ]
  },
  {
   "cell_type": "markdown",
   "metadata": {},
   "source": [
    "Let's simulate the operation and visualize the results."
   ]
  },
  {
   "cell_type": "code",
   "execution_count": null,
   "metadata": {},
   "outputs": [],
   "source": [
    "capacity = 5.0 # kWh\n",
    "max_power = 5.0 # kW"
   ]
  },
  {
   "cell_type": "code",
   "execution_count": null,
   "metadata": {},
   "outputs": [],
   "source": [
    "df_greedy = greedy_strategy(profile=profile, capacity=capacity, max_power=max_power) # this can take some time to compute"
   ]
  },
  {
   "cell_type": "code",
   "execution_count": null,
   "metadata": {},
   "outputs": [],
   "source": [
    "df_greedy[[\"residual\", \"power\"]].plot(template=template, labels={\"value\": \"Power [kW]\"})# .update_yaxes(autorange=\"reversed\")"
   ]
  },
  {
   "cell_type": "code",
   "execution_count": null,
   "metadata": {},
   "outputs": [],
   "source": [
    "df_greedy[\"soc\"].plot(template=template, labels={\"value\": \"SOC\"})"
   ]
  },
  {
   "cell_type": "code",
   "execution_count": null,
   "metadata": {},
   "outputs": [],
   "source": [
    "# task"
   ]
  },
  {
   "cell_type": "markdown",
   "metadata": {},
   "source": [
    "## Feed-in damp strategy\n",
    "\n",
    "The *greedy* strategy seems to get the work done. After all, it is the *go-to* strategy most vendors probably embed for their home-storage systems. Nonetheless, there might be room for improvement.\n",
    "\n",
    "The battery seems to full up very early, specially on summer days. This means the battery is often unable to mitigate the peak generation of the PV, which impact may cause the need of expensive reinforcements of the grid infrastructure. With that in mind, [Zeh & Witzman](https://doi.org/10.1016/j.egypro.2014.01.164) propose the *feed-in damp* strategy. This follows a similar logic to the *greedy* tactic: check the residual load and charge and discharge whenever available. With a twist however, the *feed-in damp* strategy aims to fill the storage 1 hour before sunset and limits the power based on the remaining capacity and time.\n",
    "\n",
    "$$ P_{max, damp} = \\frac{E_{remaining}}{t_{sunset} - t_{now} - 1 \\text{ h}} $$\n",
    "\n",
    "Can we benefit both our household and the grid? Let's see how this algorithm performs."
   ]
  },
  {
   "cell_type": "markdown",
   "metadata": {},
   "source": [
    "The challenging element of this method is having to estimate the time of the sunset for a particular day (and location!). Luckily for *any* problem we might encounter, someone else might have implemented it already and published as a Python package. This time the [*suntime*](https://github.com/SatAgro/suntime) package comes to our rescue and saves us for having to worry about the details."
   ]
  },
  {
   "cell_type": "code",
   "execution_count": null,
   "metadata": {},
   "outputs": [],
   "source": [
    "# documentation: https://github.com/SatAgro/suntime\n",
    "from suntime import Sun\n",
    "from datetime import timedelta, timezone"
   ]
  },
  {
   "cell_type": "markdown",
   "metadata": {},
   "source": [
    "Here is a small demo on how to use *suntime*"
   ]
  },
  {
   "cell_type": "code",
   "execution_count": null,
   "metadata": {},
   "outputs": [],
   "source": [
    "# calculate sunset time for a particular location and date\n",
    "latitude = 48.8\n",
    "longitude = 11.34\n",
    "sun = Sun(latitude, longitude) # Munich location\n",
    "\n",
    "# suntime returns time in UTC, so it has to be first translated to the local timezone\n",
    "sunset_time_utc   = sun.get_sunset_time()\n",
    "sunset_time_local = sunset_time_utc.astimezone(timezone(timedelta(hours=+1), name=\"Europe/Berlin\")) # \"Europe/Berlin\" timezone\n",
    "print(f\"UTC time:   \", sunset_time_utc)\n",
    "print(f\"Local time: \", sunset_time_local)"
   ]
  },
  {
   "cell_type": "code",
   "execution_count": null,
   "metadata": {},
   "outputs": [],
   "source": [
    "# calculate remainig time for the sunset\n",
    "day = profile.index[1]\n",
    "sunset_time = sun.get_sunset_time(day).replace(tzinfo=None) # delete timezone metadata to allow datetime-arithmetic\n",
    "offset = sunset_time - day\n",
    "print(offset)\n",
    "print(offset.seconds, \"s\") # offset in seconds"
   ]
  },
  {
   "cell_type": "markdown",
   "metadata": {},
   "source": [
    "<div class=\"alert alert-block alert-info\">\n",
    "<b>Task!</b> Analyze the feed-in damp strategy:\n",
    "<ul>\n",
    "    <li> Implement the feed-in damp strategy for self-consumption increase. Define a function that takes the profile dataframe and the storage system size (capacity and power), and returns a new dataframe with the SOC and power of the battery at each timestep. Check during the entire operation, that the power and SOC limits are not violated. Consider the system losses with charge/discharge efficiencies of 95%. </li>\n",
    "    <li> Calculate the new self-consumption and self-sufficiency rates. Evaluate the improvement from the base scenario. </li>\n",
    "    <li> Calculate the new electricity bill and the resulting <i>savings</t>. </li>\n",
    "</ul>\n",
    "</div>"
   ]
  },
  {
   "cell_type": "markdown",
   "metadata": {},
   "source": [
    "<div class=\"alert alert-block alert-warning\">\n",
    "<b>Hint!</b> Use <i> suntime </i> to estimate the sunset time for each day.\n",
    "</div>"
   ]
  },
  {
   "cell_type": "code",
   "execution_count": null,
   "metadata": {},
   "outputs": [],
   "source": [
    "def feedin_damp(profile, capacity, max_power, eff=0.95, initial_soc=0.0):\n",
    "    df = profile.copy() # make a new copy of the dataframe\n",
    "    # add new empty columns to the dataframe\n",
    "    df[\"grid\"] = 0.0   # grid power in kW\n",
    "    df[\"power\"] = 0.0  # battery power in kW\n",
    "    df[\"soc\"]  = 0.0   # battery SOC in p.u.\n",
    "    \n",
    "    # task\n",
    "    ..."
   ]
  },
  {
   "cell_type": "code",
   "execution_count": null,
   "metadata": {},
   "outputs": [],
   "source": [
    "df_damp = feedin_damp(profile, capacity=capacity, max_power=max_power) # this will also take some time to compute"
   ]
  },
  {
   "cell_type": "code",
   "execution_count": null,
   "metadata": {},
   "outputs": [],
   "source": [
    "df_damp[[\"residual\", \"grid\", \"power\"]].plot(template=template)"
   ]
  },
  {
   "cell_type": "code",
   "execution_count": null,
   "metadata": {},
   "outputs": [],
   "source": [
    "# task"
   ]
  },
  {
   "cell_type": "markdown",
   "metadata": {},
   "source": [
    "### Comparing *Greedy* vs. *Feed-in Damp*\n",
    "\n",
    "We have implemented and analyzed both operational strategies for the self-consumption increase. \n",
    "There is a lot going on so let's compare both approaches hand-in-hand with some visualizations."
   ]
  },
  {
   "cell_type": "code",
   "execution_count": null,
   "metadata": {},
   "outputs": [],
   "source": [
    "dfbat = pd.concat([df_greedy[\"power\"].rename(\"power - greedy\"), df_damp[\"power\"].rename(\"power - feed-in damp\")], axis=1)\n",
    "dfbat.plot(template=template, labels={\"value\": \"Power [kW]\"})"
   ]
  },
  {
   "cell_type": "code",
   "execution_count": null,
   "metadata": {},
   "outputs": [],
   "source": [
    "dfbat.plot.hist(template=template, log_y=True, labels={\"value\": \"Power [kW]\"}).update_layout(barmode='overlay').update_traces(opacity=0.75)"
   ]
  },
  {
   "cell_type": "code",
   "execution_count": null,
   "metadata": {},
   "outputs": [],
   "source": [
    "dfsoc = pd.concat([df_greedy[\"soc\"].rename(\"soc - greedy\"), df_damp[\"soc\"].rename(\"soc - feed-in damp\")], axis=1)\n",
    "dfsoc.plot(template=template, labels={\"value\": \"SOC\"})"
   ]
  },
  {
   "cell_type": "code",
   "execution_count": null,
   "metadata": {},
   "outputs": [],
   "source": [
    "dfsoc.plot.hist(template=template, log_y=True, labels={\"value\": \"SOC\"}).update_layout(barmode='overlay').update_traces(opacity=0.75)"
   ]
  },
  {
   "cell_type": "code",
   "execution_count": null,
   "metadata": {},
   "outputs": [],
   "source": [
    "dfgrid = pd.concat([df_greedy[\"grid\"].rename(\"soc - greedy\"), df_damp[\"grid\"].rename(\"soc - feed-in damp\")], axis=1)\n",
    "dfgrid.plot(template=template, labels={\"value\": \"Power [kW]\"})"
   ]
  },
  {
   "cell_type": "code",
   "execution_count": null,
   "metadata": {},
   "outputs": [],
   "source": [
    "dfgrid.plot.hist(template=template, log_y=True, labels={\"value\": \"Grid power [kW]\"}).update_layout(barmode='overlay').update_traces(opacity=0.75)"
   ]
  },
  {
   "cell_type": "markdown",
   "metadata": {},
   "source": [
    "<div class=\"alert alert-block alert-info\">\n",
    "<b> Task! </b> Compare both strategies. List pros and cons, assessing from both the homeowner and the grid operator perspective.\n",
    "</div>"
   ]
  },
  {
   "cell_type": "markdown",
   "metadata": {},
   "source": [
    "<div class=\"alert alert-block alert-warning\">\n",
    "<b>Hint!</b> Write your response in a <b> markdown</b> cell.\n",
    "</div>"
   ]
  },
  {
   "cell_type": "markdown",
   "metadata": {},
   "source": []
  }
 ],
 "metadata": {
  "interpreter": {
   "hash": "6a41cf45b2bd78bebbe5ff69d73815f9ebec36634ee9b167acd479bf9a87d18c"
  },
  "kernelspec": {
   "display_name": "Python 3 (ipykernel)",
   "language": "python",
   "name": "python3"
  },
  "language_info": {
   "codemirror_mode": {
    "name": "ipython",
    "version": 3
   },
   "file_extension": ".py",
   "mimetype": "text/x-python",
   "name": "python",
   "nbconvert_exporter": "python",
   "pygments_lexer": "ipython3",
   "version": "3.9.7"
  }
 },
 "nbformat": 4,
 "nbformat_minor": 4
}
