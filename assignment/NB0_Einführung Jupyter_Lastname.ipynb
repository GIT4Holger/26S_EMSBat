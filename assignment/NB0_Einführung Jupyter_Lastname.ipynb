{
 "cells": [
  {
   "attachments": {},
   "cell_type": "markdown",
   "metadata": {},
   "source": [
    "# Credits / Disclaimer\n",
    "Dieses Jupyter Notebook basiert auf Materialen des Leukipp Kurses \"Einführung in die Programmierung\" von Prof. Dr. Peter Vennemann (Hochschule Münster). Das Notebook ist zum einen Teil der Protfolioprüfung (Kennzeichnung der \"TASK\"-Elemente) aber zum anderen auch der Ergänzung zu den folgenden Kursinhalten. Nutzern ohne jedwede Vorerfahrung im Programmieren sei hier der \"Kompaktkurs\" des Leukipp Kurses \"Einführung in die Programmierung\" empfohlen:\n",
    "https://leukipp.fh-muenster.de/#/courses/20211005T113323-cour730 \n",
    "Erfahrenere Nutzer können die Elemente direkt bearbeiten oder per Internet-Suche passende Ergänzungen finden. "
   ]
  },
  {
   "cell_type": "markdown",
   "metadata": {},
   "source": [
    "## Dieses Notebook ist Teil der Vorlesung STAT_Abt und Teil der Portfolio-Abgabeaufgabe \n",
    "## Abgabefrist: 21.4.2024 (über moodle)"
   ]
  },
  {
   "cell_type": "markdown",
   "metadata": {},
   "source": [
    "<div class=\"alert alert-block alert-info\">\n",
    "TASK 01 \n"
   ]
  },
  {
   "cell_type": "markdown",
   "metadata": {},
   "source": [
    "<div class=\"alert alert-block alert-info\">\n",
    "Task 01_1: Schreiben Sie mit geeigneter Funktion die Ausgabe \"Hallo\" auf die Konsole"
   ]
  },
  {
   "cell_type": "code",
   "execution_count": null,
   "metadata": {},
   "outputs": [],
   "source": [
    "# hier in der folgneden Zeile wird das Wort \"Hallo\" auf die Konsole ausgegeben\n",
    "<<< IHRE EINGABE >>>"
   ]
  },
  {
   "attachments": {},
   "cell_type": "markdown",
   "metadata": {},
   "source": [
    "\n",
    "<div class=\"alert alert-block alert-info\">\n",
    "Task 01_2: Erstellen Sie eine \"Markdown-Zelle\" mit dem Inhalt: \"Ihr_Vorname Ihr_Nachname\"\n"
   ]
  },
  {
   "cell_type": "markdown",
   "metadata": {},
   "source": [
    "<div class=\"alert alert-block alert-info\">\n",
    "Task 01_3: Erstellen Sie einen \"Code-Block\" - es soll die Berechnung von \"1+2+3\" durchgeführt werden."
   ]
  },
  {
   "cell_type": "code",
   "execution_count": null,
   "metadata": {},
   "outputs": [],
   "source": [
    "# Die folgende Zeile beechnet 1+2+3\n"
   ]
  },
  {
   "cell_type": "markdown",
   "metadata": {},
   "source": [
    "<div class=\"alert alert-block alert-info\">\n",
    "TASK 01_6: Testen Sie den nachfolgenden Ausdruck, um Hilfe für ihnen nicht bekannte Python Packages direkt zu erhalten"
   ]
  },
  {
   "cell_type": "code",
   "execution_count": null,
   "metadata": {},
   "outputs": [],
   "source": [
    "import math\n",
    "help(math)\n"
   ]
  },
  {
   "cell_type": "markdown",
   "metadata": {},
   "source": [
    "Beachten Sie, dass hilfe zu Python Packages auch deutlich konfortabler auf Webseiten erhältlich ist: siehe z.B.: https://pandas.pydata.org/docs/ "
   ]
  },
  {
   "attachments": {},
   "cell_type": "markdown",
   "metadata": {
    "tags": []
   },
   "source": [
    "<div class=\"alert alert-block alert-info\">\n",
    "# Task 2: Python als Taschenrechner\n",
    "Sie können die Python-Shell bzw. das Jupyter Notebook wie einen Taschenrechner benutzen. Hierzu müssen Sie lediglich Ihre Rechnungen eingeben und mit Enter bestätigen.\n",
    "\n",
    "Testen Sie einige der folgenden Rechnungen und interpretieren Sie die Ausgabe.\n",
    "\n",
    "1. )  4 * 5 \n",
    "2. )  2 ** 3\n",
    "3. )  26 / 6\n",
    "4. )  26 // 6\n",
    "5. )  26 % 6\n"
   ]
  },
  {
   "cell_type": "code",
   "execution_count": null,
   "metadata": {},
   "outputs": [],
   "source": [
    "4 * 5 \n",
    "# Der Befehl berechnet:"
   ]
  },
  {
   "cell_type": "code",
   "execution_count": null,
   "metadata": {},
   "outputs": [],
   "source": [
    "2 ** 3 \n",
    "# Der Befehl berechnet:"
   ]
  },
  {
   "cell_type": "code",
   "execution_count": null,
   "metadata": {},
   "outputs": [],
   "source": [
    "26 / 6\n",
    "# Der Befehl berechnet:"
   ]
  },
  {
   "cell_type": "code",
   "execution_count": null,
   "metadata": {},
   "outputs": [],
   "source": [
    "26 // 6\n",
    "# Der Befehl berechnet:"
   ]
  },
  {
   "cell_type": "code",
   "execution_count": null,
   "metadata": {},
   "outputs": [],
   "source": [
    "26 % 6\n",
    "# Der Befehl berechnet:"
   ]
  },
  {
   "attachments": {},
   "cell_type": "markdown",
   "metadata": {},
   "source": [
    "<div class=\"alert alert-block alert-info\">\n",
    "# Erweiterte Rechenoperationen\n",
    "\n",
    "Wenn Sie weitere Rechenoperationen wie Wurzeln, die trigonometrischen Funktionen oder bestimmte Konstanten (z.B. Pi) nutzen möchten, können Sie dies ebenfalls mit Python lösen. Hierzu benötigen Sie das Modul <b>math</b>. Bevor Sie das Modul nutzen können, müssen Sie es allerdings mit dem Befehl <b>import</b> laden. Auf \"Module\", die in Python integriert sind und ihre Funktionen, wird später noch genauer eingegangen.\n",
    "\n",
    "Testen Sie folgende Ausdrücke in der Python-Shell:\n",
    "\n",
    "1. ) import math\n",
    "2. ) math.pi\n",
    "3. ) math.sin(180)\n",
    "4. ) math.cos(2 * math.pi)\n",
    "5. ) math.sqrt(49)\n",
    "6. ) math.exp(2)\n",
    "7. ) math.log(8, 2)\n",
    "\n"
   ]
  },
  {
   "cell_type": "code",
   "execution_count": null,
   "metadata": {},
   "outputs": [],
   "source": [
    "import math"
   ]
  },
  {
   "cell_type": "code",
   "execution_count": null,
   "metadata": {},
   "outputs": [],
   "source": [
    "math.pi"
   ]
  },
  {
   "cell_type": "code",
   "execution_count": null,
   "metadata": {},
   "outputs": [],
   "source": [
    "9"
   ]
  },
  {
   "cell_type": "code",
   "execution_count": null,
   "metadata": {},
   "outputs": [],
   "source": [
    "math.sqrt(_)"
   ]
  },
  {
   "cell_type": "code",
   "execution_count": null,
   "metadata": {},
   "outputs": [],
   "source": [
    "math.sin(_)"
   ]
  },
  {
   "cell_type": "markdown",
   "metadata": {},
   "source": [
    "<div class=\"alert alert-block alert-info\">\n",
    "# Task 03:\n",
    "\n",
    "Finden Sie durch Probieren heraus:\n",
    "\n",
    "- Welche Bedeutung hat der Unterstrich (_) in der interaktiven Shell?\n",
    "- Was berechnet die Anweisung round(_, 2)?\n",
    "- Berechnen Sie den Binär-Logarithmus aus 4294967296! Tipp: Geben Sie vorher dir(math) ein.\n"
   ]
  },
  {
   "cell_type": "markdown",
   "metadata": {},
   "source": [
    "- Welche Bedeutung hat der Unterstrich (_) in der interaktiven Shell?\n",
    "\n",
    "<< Ihre Antwort>>"
   ]
  },
  {
   "cell_type": "markdown",
   "metadata": {},
   "source": [
    "- Was berechnet die Anweisung round(_, 2)?\n",
    "\n",
    "<< Ihre Antwort>>"
   ]
  },
  {
   "cell_type": "markdown",
   "metadata": {},
   "source": [
    "- Berechnen Sie den Binär-Logarithmus aus 4294967296! Tipp: Geben Sie vorher dir(math) ein.\n",
    "\n",
    "<< Ihre Antwort>>"
   ]
  },
  {
   "attachments": {},
   "cell_type": "markdown",
   "metadata": {},
   "source": [
    "<div class=\"alert alert-block alert-info\">\n",
    "# Task 04. Grundrechenarten in Python\n",
    "Probieren Sie die Grundrechenarten aus. Das Gleichheitszeichen verwenden Sie, um Variablen Werte zuzuweisen. Die Platzhalter n und m können Sie durch beliebige natürliche Zahlen ersetzen.\n",
    "\n",
    "Weisen Sie den Variablen a und b folgende Werte zu:\n",
    "\n",
    "- a = letzte zwei Ziffern ihrer Matrikelnummer\n",
    "- b = 1.5\n",
    "\n",
    "Testen Sie nun folgende Rechenoperationen\n",
    "\n",
    "- a + n * b\n",
    "- (a + n) * b\n",
    "- a / b\n",
    "\n"
   ]
  },
  {
   "attachments": {},
   "cell_type": "markdown",
   "metadata": {},
   "source": [
    "Testen Sie die folgenden beiden Code Blöck abwechselnd und mehrfach hintereinander:"
   ]
  },
  {
   "cell_type": "code",
   "execution_count": null,
   "metadata": {},
   "outputs": [],
   "source": [
    "a=10\n",
    "b=1.5"
   ]
  },
  {
   "cell_type": "code",
   "execution_count": null,
   "metadata": {},
   "outputs": [],
   "source": [
    "# Block 1\n",
    "a = a + 3\n",
    "print(a)"
   ]
  },
  {
   "cell_type": "code",
   "execution_count": null,
   "metadata": {},
   "outputs": [],
   "source": [
    "# Block 2:\n",
    "print(a) \n"
   ]
  },
  {
   "attachments": {},
   "cell_type": "markdown",
   "metadata": {},
   "source": [
    "Soll eine Variable a mit sich selbst verrechnet werden, so können abgekürzte Schreibweisen verwendet werden. Anstelle von a = a + 3 kann auch die abgekürzte Form a += 3 geschrieben werden. Dies gilt für alle mathematischen Grundoperationen. Testen Sie auch diese alternative Schreibweise."
   ]
  },
  {
   "cell_type": "code",
   "execution_count": null,
   "metadata": {},
   "outputs": [],
   "source": [
    "a+=3"
   ]
  },
  {
   "attachments": {},
   "cell_type": "markdown",
   "metadata": {},
   "source": [
    "ergänzen Sie folgende Funktion mit passenden Werten"
   ]
  },
  {
   "cell_type": "code",
   "execution_count": null,
   "metadata": {},
   "outputs": [],
   "source": [
    "capacity=5"
   ]
  },
  {
   "cell_type": "markdown",
   "metadata": {},
   "source": [
    "<div class=\"alert alert-block alert-info\">\n",
    "# TASK 05: erste Funktion in Python"
   ]
  },
  {
   "cell_type": "code",
   "execution_count": null,
   "metadata": {},
   "outputs": [],
   "source": [
    "specific_cost = 100 # Hier steht Ihr Schätzwert für Speicherkosten der Lithium-Ionen Technologie in €/kWh\n",
    "installation_cost = 1000 # Hier steht Ihr Schätzwert für Installationskosten eines Speichers in €\n",
    "\n",
    "def bess_cost(specific_cost, installation_cost, capacity): # installation_cost und specific_cost sind Platzhalter für die oben gesetzen Werte innerhalb der Funktion (Funktionsargument)\n",
    "\tcost = specific_cost*capacity+installation_cost  # berechnen Sie hier die Kosten des Speichersystems inklusive der Inatallationskosten\n",
    "\treturn(cost)\n"
   ]
  },
  {
   "attachments": {},
   "cell_type": "markdown",
   "metadata": {},
   "source": [
    "Berechnen Sie die Kosten eines Speichers mit einer Kapazität von 55 kWh, spezifischen Kosten von 150 €/kWh und Installationskosten von 1000 € unter Verswendung der Funktion bess_cost"
   ]
  },
  {
   "cell_type": "code",
   "execution_count": null,
   "metadata": {},
   "outputs": [],
   "source": [
    "bess_cost(100,10,23)"
   ]
  },
  {
   "cell_type": "code",
   "execution_count": null,
   "metadata": {},
   "outputs": [],
   "source": []
  },
  {
   "attachments": {},
   "cell_type": "markdown",
   "metadata": {},
   "source": [
    "<div class=\"alert alert-block alert-success\">\n",
    "\n",
    "## Task Opt1: Elementare Datentypen\n",
    "\n",
    "Bitte absolvierene Sie die Lektion \"Elementare Datentypen\" in Leukipp: https://leukipp.fh-muenster.de/#/course/20211005T113323-cour730/units/u2019-06-26T12-02-26-G__1374/play \n",
    "Sie lernen u.a. boolean, integer und float Variablen kennen..."
   ]
  },
  {
   "attachments": {},
   "cell_type": "markdown",
   "metadata": {},
   "source": [
    "<div class=\"alert alert-block alert-success\">\n",
    "\n",
    "## Task Opt2:  Formatierte Ausgabe\n",
    "Ingenieure werden meist Zahlen-Daten in Dateien schreiben. String Objekte besitzen das Attribut format, mit dem Zahlen-Daten einfach formatiert werden können. Die Logik der String-Formatierung beruht auf Platzhalter-Feldern in geschweiften Klammern. Text außerhalb der Platzhalter-Felder wird nicht formatiert. Testen Sie folgende Ausdrücke in der Python-Shell:\n",
    "\n",
    "- from math import pi\n",
    "- \"{}; {}\".format(pi, -pi)\n",
    "- \"{1}, {0}\".format(pi, -pi)\n",
    "- \"{1:.3f}, {0:.3f}\".format(pi, -pi)\n",
    "- \"{:.3e}, {:.3e}\".format(pi, -pi)\n",
    "- {:+.3}, {:+.3}\".format(pi, -pi)\n",
    "- {: .3}, {: .3}\".format(pi, -pi)\n",
    "- {:^30}\".format(\"EGU\")\n",
    "- {:*^30}’.format(’EGU’)\n",
    "- {:>30}’.format(’EGU’)\n",
    "- antwort = 6 * 7\n",
    "- \"{} ist die Antwort auf alle Fragen.\".format(antwort)\n",
    "- euro = 10\n",
    "- cent = 95\n",
    "- \"Ihr Einkauf kostet {0},{1} Euro.\".format(euro, cent)"
   ]
  },
  {
   "cell_type": "code",
   "execution_count": null,
   "metadata": {},
   "outputs": [],
   "source": [
    "from math import pi"
   ]
  },
  {
   "cell_type": "code",
   "execution_count": null,
   "metadata": {},
   "outputs": [],
   "source": [
    "\"{}; {}\".format(pi, -pi)\n",
    "# Der Befehl führt zur Anzeige von:"
   ]
  },
  {
   "cell_type": "code",
   "execution_count": null,
   "metadata": {},
   "outputs": [],
   "source": [
    "\"{1}, {0}\".format(pi, -pi)\n",
    "# Der Befehl führt zur Anzeige von:"
   ]
  },
  {
   "cell_type": "code",
   "execution_count": null,
   "metadata": {},
   "outputs": [],
   "source": [
    "\"{1:.3f}, {0:.3f}\".format(pi, -pi)\n",
    "# Der Befehl führt zur Anzeige von:"
   ]
  },
  {
   "cell_type": "markdown",
   "metadata": {},
   "source": [
    "setzen Sie fort mit den Befehlen aus dem Markdown-Block oben\n"
   ]
  },
  {
   "cell_type": "code",
   "execution_count": null,
   "metadata": {},
   "outputs": [],
   "source": [
    "\"{:>30}\".format(\"EGU\")"
   ]
  },
  {
   "attachments": {},
   "cell_type": "markdown",
   "metadata": {},
   "source": [
    "<div class=\"alert alert-block alert-success\">\n",
    "\n",
    "## Task Opt3. Datentypumwandlung\n",
    "Wie Sie in den vorangegangen Lerneinheiten gesehen haben, ist es in Python nicht notwendig, den Datentyp einer Variable oder eines Objekts zu deklarieren. Python erkennt automatisch, um welchen Datentyp es sich handelt. Manchmal ist es jedoch erforderlich, den Datentyp in einen anderen umzuwandeln. Hierzu schreiben Sie die Variable einfach in Klammern hinter den Zieldatentyp, z.B. float(10) für die Umwandlung des Integers 10 in einen Float 10.0.\n",
    "\n",
    "Die Funktion input() gibt die Eingabe des Nutzers in Form eines Strings aus. Werden jedoch numerische Werte abgefragt und sollen anschließend weiterverarbeitet werden, so müssen Sie den Datentyp entsprechend ändern.\n",
    "\n",
    "Testen Sie folgende Ausdrücke in der Python-Shell. Lassen Sie sich immer auch den Typ einer Variablen mit type() ausgeben!\n",
    "\n"
   ]
  },
  {
   "cell_type": "code",
   "execution_count": null,
   "metadata": {},
   "outputs": [],
   "source": [
    "x = \"123\"\n",
    "3 * x\n",
    "x = int(x)\n",
    "3 * x\n",
    "name = input(\"Wie heißen Sie? \")\n",
    "print(\"Hallo \", name + \"!\")\n",
    "jahrgang = int(input(\"In welchem Jahr sind Sie geboren? \"))\n",
    "alter = 2023 - jahrgang\n"
   ]
  },
  {
   "cell_type": "code",
   "execution_count": null,
   "metadata": {},
   "outputs": [],
   "source": [
    "print(\"Sie sind\", alter, \"Jahre alt.\")\n",
    "# "
   ]
  },
  {
   "attachments": {},
   "cell_type": "markdown",
   "metadata": {},
   "source": [
    "warum funktioniert folgender Aufruf nicht?\n",
    "--> Testen Sie und ergänzen Sie die Codezeile mit einer Integer to String conversion"
   ]
  },
  {
   "cell_type": "code",
   "execution_count": null,
   "metadata": {},
   "outputs": [],
   "source": [
    "print(\"Sie sind \" + alter + \" Jahre alt.\")\n"
   ]
  },
  {
   "attachments": {},
   "cell_type": "markdown",
   "metadata": {},
   "source": [
    "<div class=\"alert alert-block alert-success\">\n",
    "\n",
    "# Zusatzinfo für interessierte: Zusammengesetzte Datentypen\n"
   ]
  },
  {
   "attachments": {},
   "cell_type": "markdown",
   "metadata": {},
   "source": [
    "\n",
    "<div class=\"alert alert-block alert-success\">\n",
    "\n",
    "## 5.1 Listen (list)\n",
    "Listen sind das Universalwerkzeug in Python. Sie können beliebige Datentypen enthalten, auch gemischt. Listenelemente sind im Gegensatz zu String-Elementen veränderbar. Wir werden sehen, dass sich sogar die Länge von Listen ändern lässt. Listen sind in Python der zentrale Datentyp mit den vielfältigsten Verwendungsmöglichkeiten und gehören neben Strings und Tupeln zu den sogenannten 'sequentiellen Datentypen'.\n",
    "\n",
    "Die Angabe einer Liste erfolgt durch eckige Klammern [ ] .\n",
    "\n",
    "Einzelne Elemente einer Liste können genauso wie in Strings mit Hilfe des Index (Indexing) aufgerufen werden, also z.B. a[0] für das erste Element der Liste a.\n",
    "\n",
    "Listen sind iterierbar, also Element für Element durchlaufbar. Sie können daher mithilfe von for-Schleifen durchgegangen werden. Schleifen werden im nächsten Kapitel noch näher behandelt.\n",
    "\n",
    "Python-Referenz: list: https://docs.python.org/3/library/stdtypes.html?highlight=str#lists "
   ]
  },
  {
   "cell_type": "code",
   "execution_count": null,
   "metadata": {},
   "outputs": [],
   "source": [
    "s = 'python'\n",
    "a = ['m', 'y', 't', 'h', 'o', 'n']"
   ]
  },
  {
   "attachments": {},
   "cell_type": "markdown",
   "metadata": {},
   "source": [
    "Testen Sie folgende Ausdrücke in der Python-Shell:"
   ]
  },
  {
   "cell_type": "code",
   "execution_count": null,
   "metadata": {},
   "outputs": [],
   "source": [
    "print(a)\n",
    "# Was ist a?: "
   ]
  },
  {
   "cell_type": "code",
   "execution_count": null,
   "metadata": {},
   "outputs": [],
   "source": [
    "print(s)\n"
   ]
  },
  {
   "cell_type": "code",
   "execution_count": null,
   "metadata": {},
   "outputs": [],
   "source": [
    "a[0] = 'P'\n"
   ]
  },
  {
   "cell_type": "code",
   "execution_count": null,
   "metadata": {},
   "outputs": [],
   "source": [
    "s[0] = 'P'"
   ]
  },
  {
   "cell_type": "code",
   "execution_count": null,
   "metadata": {},
   "outputs": [],
   "source": [
    "print(a)\n",
    "print(s)\n"
   ]
  },
  {
   "cell_type": "code",
   "execution_count": null,
   "metadata": {},
   "outputs": [],
   "source": [
    "print(type(a))\n",
    "print(type(s))"
   ]
  },
  {
   "attachments": {},
   "cell_type": "markdown",
   "metadata": {},
   "source": [
    "<div class=\"alert alert-block alert-success\">\n",
    "\n",
    "## 5.2. Nützliche Methoden für Listen\n",
    "Es gibt einige nützliche Methoden, die Python für Listen liefert. Einige hiervon werden Ihnen im Folgenden vorgestellt. Weitere Infos finden Sie auf der Python-Homepage.\n",
    "\n",
    "### Erweitern (Appending)\n",
    "Listen können beliebig erweitert werden. Ein neues Element kann mit der Methode .append() am Ende der Liste hinzugefügt werden. Möchten Sie ein Element an einer bestimmten Stelle in der Liste hinzufügen, nutzen Sie die .insert() Methode.\n",
    "\n",
    "Testen Sie folgende Ausdrücke in der Python-Shell und lassen Sie sich list_1 nach jedem Schritt ausgeben:\n",
    "\n",
    "- list_1.append(7)\n",
    "- list_1.append(-1)\n",
    "- list_1.insert(2, 3)\n",
    "- list_1.insert(0, 0)"
   ]
  },
  {
   "cell_type": "code",
   "execution_count": null,
   "metadata": {},
   "outputs": [],
   "source": [
    "list_1 = [1, 2, 4, 5, 6]\n"
   ]
  },
  {
   "cell_type": "code",
   "execution_count": null,
   "metadata": {},
   "outputs": [],
   "source": [
    "list_1.append(7)\n",
    "list_1.append(-1)\n",
    "list_1.insert(2, 3)\n",
    "list_1.insert(0, 0)"
   ]
  },
  {
   "cell_type": "code",
   "execution_count": null,
   "metadata": {},
   "outputs": [],
   "source": [
    "list_1"
   ]
  },
  {
   "attachments": {},
   "cell_type": "markdown",
   "metadata": {},
   "source": [
    "<div class=\"alert alert-block alert-success\">\n",
    "\n",
    "## 5.3 Löschen (Deleting) und Slicing\n",
    "Um den Inhalt einer Liste vollständig zu löschen, können Sie die Methode .clear() nutzen. Möchten Sie lediglich einzelne Elemente entfernen, können Sie verschiedene Varianten anwenden:\n",
    "\n",
    ".remove() Methode: löscht das erste Element in einer Liste, das dem vorgegebenen Wert entspricht\n",
    "\n",
    ".pop() Methode: löscht das Element an der vorgegebenen Position bzw. an der letzten Position, wenn kein Index angegeben wird\n",
    "\n",
    "del Befehl: löscht die angegebenen Elemente in der Liste; \n"
   ]
  },
  {
   "cell_type": "code",
   "execution_count": null,
   "metadata": {},
   "outputs": [],
   "source": [
    "list = [2.3, 'a', 5, 14.7, 'w', 'xyz', 33, '15', 'w', 9.4]\n"
   ]
  },
  {
   "attachments": {},
   "cell_type": "markdown",
   "metadata": {},
   "source": [
    "TASK: Testen Sie folgende Ausdrücke in der Python-Shell und lassen Sie sich list nach jedem Schritt ausgeben:\n",
    "\n",
    "- list.remove('w')\n",
    "- list.pop(3)\n",
    "- del list[-1]\n",
    "- list[0:2] = []"
   ]
  },
  {
   "attachments": {},
   "cell_type": "markdown",
   "metadata": {},
   "source": [
    "<div class=\"alert alert-block alert-success\">\n",
    "\n",
    "## 5.4 Sortieren (Sorting)\n",
    "Der Inhalt von Listen kann sortiert werden. Standardmäßig sortiert Python in aufsteigender Reihenfolge, soll absteigend sortiert werden kann der Parameter reverse = True angegeben werden. Zum Sortieren stehen zwei unterschiedliche Möglichkeiten zur Auswahl:\n",
    "\n",
    ".sort() Methode: sortiert die Werte und liefert kein Ergebnis zurück, die alte Liste wird überschrieben\n",
    "\n",
    "sorted() Funktion: sortiert die Werte und liefert als Ergebnis eine neue, sortierte Liste zurück, die alte Liste bleibt in der ursprünglichen Form erhalten\n",
    "\n",
    "Testen Sie folgende Ausdrücke in der Python-Shell und lassen Sie sich die Listen nach jedem Schritt ausgeben:\n",
    "\n",
    "- liste.sort()\n",
    "- liste.sort(reverse=True)\n",
    "- liste_aufsteigend = liste.sort()\n",
    "- liste_1_aufsteigend = sorted(liste_1)\n",
    "- liste_1_absteigend = sorted(liste_1, reverse=True)"
   ]
  },
  {
   "cell_type": "code",
   "execution_count": null,
   "metadata": {},
   "outputs": [],
   "source": [
    "liste = [2, -3.5, 4.2, 0, 8.6, -5, -1.7, 9.6]\n",
    "liste_1 = ['z', 'f', 'h', 'b', 'r', 'p', 'a', 'k']"
   ]
  },
  {
   "cell_type": "code",
   "execution_count": null,
   "metadata": {},
   "outputs": [],
   "source": [
    "liste_1.sort()\n"
   ]
  },
  {
   "attachments": {},
   "cell_type": "markdown",
   "metadata": {},
   "source": [
    "<div class=\"alert alert-block alert-success\">\n",
    "\n",
    "# 5.5 Verschachtelung (Nesting)\n",
    "Python bietet die Möglichkeit, Listen in Listen anzulegen. Auf die Daten kann durch n-fache Indizierung zugegriffen werden.\n",
    "\n",
    "Testen Sie folgende Ausdrücke in der Python-Shell:\n",
    "\n",
    "- liste\n",
    "- liste[0]\n",
    "- liste[0][0]\n",
    "- liste[1][2]\n",
    "- liste[2][-1]\n",
    "- einwohner[0][1]\n",
    "- einwohner[1][0]"
   ]
  },
  {
   "cell_type": "code",
   "execution_count": null,
   "metadata": {},
   "outputs": [],
   "source": [
    "liste = [['a', 'b', 'c', 'd', 'e', 'f'], [0, 1, 2, 3, 4, 5], ['Python', 'ist', 'eine', 'Programmiersprache']]\n",
    "einwohner = [[\"Berlin\", 3375222], [\"Muenchen\", 1388308], [\"Kempten\", 68907]]"
   ]
  },
  {
   "attachments": {},
   "cell_type": "markdown",
   "metadata": {},
   "source": [
    "<div class=\"alert alert-block alert-info\">\n",
    "\n",
    "# Task:  6. Kopie oder Referenz?\n",
    "Variablen können in jeder Programmiersprache grundsätzlich auf zwei Arten übergeben werden: Als Kopie oder als Referenz. Eine Referenz kann als Zeiger (Pointer) auf einen bestimmten Bereich im Speicher aufgefasst werden. In C werden alle Variablen grundsätzlich als Kopie weitergegeben. Im Beispiel würde also nur die Variable newList verändert, nicht aber die Variable a.\n",
    "\n",
    "In Java und in Python werden alle Variablen grundsätzlich nur als Referenz übergeben. Die Variablen a und newList sind daher nur zwei Zeiger auf denselben Speicherbereich. Beide Zeiger können verwendet werden, um dieselben Daten zu verändern. Die Übergabe als Referenz ist, vor allem bei größeren Objekten, natürlich deutlich performanter als die Übergabe als Kopie. Möchte man in C statt einer Kopie, eine Referenz übergeben, so wird der übergebenden Variablen ein Stern vorangestellt. Im Beispiel müsste es also in der ersten Zeile heißen: newList = * a. \n",
    "\n",
    "Möchte man in Python eine Kopie erzeugen, so können die Methoden copy.copy() und copy.deepcopy() verwendet werden (hierfür muss das Modul copy importiert werden). In Java besitzt jedes Objekt entsprechende Memberfunktionen.\n",
    "\n",
    "\n"
   ]
  },
  {
   "cell_type": "code",
   "execution_count": null,
   "metadata": {},
   "outputs": [],
   "source": [
    "a = ['W', 'i', 'e', 's', 'e', 'l']"
   ]
  },
  {
   "attachments": {},
   "cell_type": "markdown",
   "metadata": {},
   "source": [
    "Testen Sie folgende Ausdrücke in der Python Shell bzw. im Code-Editor:"
   ]
  },
  {
   "cell_type": "code",
   "execution_count": null,
   "metadata": {},
   "outputs": [],
   "source": [
    "newList = a\n",
    "newList[0] = 'D'\n",
    "print(a)\n",
    "print(newList)"
   ]
  },
  {
   "cell_type": "code",
   "execution_count": null,
   "metadata": {},
   "outputs": [],
   "source": [
    "newList2 = a.copy()\n",
    "newList2[0] = 'D'\n",
    "print(a)\n",
    "print(newList2)"
   ]
  },
  {
   "attachments": {},
   "cell_type": "markdown",
   "metadata": {},
   "source": [
    "<div class=\"alert alert-block alert-info\">\n",
    "\n",
    "## 6.1 Zerlegung (Slicing)\n",
    "Slicing erzeugt eine neue Liste und kann daher neben den copy()-Methoden verwendet werden, um eine Kopie zu erhalten.\n",
    "\n",
    "Testen Sie folgende Ausdrücke in der Python-Shell oder im Code-Editor oben:\n",
    "\n",
    "a = newList[:]\n",
    "a[0] = 'N'\n",
    "print(a)\n",
    "print(newList)"
   ]
  },
  {
   "cell_type": "code",
   "execution_count": null,
   "metadata": {},
   "outputs": [],
   "source": [
    "a = newList[:]\n",
    "a[0] = 'N'\n",
    "print(a)\n",
    "print(newList)"
   ]
  },
  {
   "cell_type": "code",
   "execution_count": null,
   "metadata": {},
   "outputs": [],
   "source": [
    "b=newList.copy()\n",
    "b[0] = 'W'\n",
    "print(b)\n",
    "print(a)\n",
    "print(newList)\n"
   ]
  },
  {
   "attachments": {},
   "cell_type": "markdown",
   "metadata": {},
   "source": [
    "<div class=\"alert alert-block alert-success\">\n",
    "\n",
    "# Zusatzinfo: 7. Tupel (tuple)\n",
    "Eng verwandt mit Listen sind Tupel; sie gehören ebenfalls zu den sequentiellen Datentypen, sind aber unveränderbar (immutable), d.h. Werte können weder hinzugefügt, noch verändert oder gelöscht werden. Allerdings können Tupel änderbare Objekte wie Listen enthalten. Sie können mit runden Klammern () oder ganz ohne Klammern erzeugt werden.\n",
    "\n",
    "Tupel können \"gepackt\" und \"entpackt\" werden, ersteres findet sich im Beispiel in Code-Zeile 1 und 2 wieder, letzteres in Code-Zeile 4. Werden Tupel entpackt, spricht man auch von \"Mehrfachzuweisung\".\n",
    "\n",
    "Python-Referenz: tuple\n",
    "\n",
    "Der Begriff Tupel wird in der Informatik für geordnete Wertesammlungen und – insbesondere in der relationalen Algebra – als Synonym für Datensatz verwendet. Seine Werte werden Attribute (Datenfeld) genannt.\n",
    "\n"
   ]
  },
  {
   "cell_type": "code",
   "execution_count": null,
   "metadata": {},
   "outputs": [],
   "source": [
    "tuple_1 = 13, 14 # Packen eines Tupels (Variante 1)\n",
    "tuple_2 = (9, 11, 12) # Packen eines Tupels (Variante 2)\n",
    "\n",
    "x, y = tuple_1 # Entpacken eines Tupels (=\"Mehrfachzuweisung\"))"
   ]
  },
  {
   "attachments": {},
   "cell_type": "markdown",
   "metadata": {},
   "source": [
    "Testen Sie folgende Ausdrücke in der Python-Shell:\n"
   ]
  },
  {
   "cell_type": "code",
   "execution_count": null,
   "metadata": {},
   "outputs": [],
   "source": [
    "tuple_1[0]\n"
   ]
  },
  {
   "cell_type": "code",
   "execution_count": null,
   "metadata": {},
   "outputs": [],
   "source": [
    "type(tuple_2)\n"
   ]
  },
  {
   "cell_type": "code",
   "execution_count": null,
   "metadata": {},
   "outputs": [],
   "source": [
    "tuple_2[0] = 10\n"
   ]
  },
  {
   "cell_type": "code",
   "execution_count": null,
   "metadata": {},
   "outputs": [],
   "source": [
    "print(x)\n"
   ]
  },
  {
   "cell_type": "code",
   "execution_count": null,
   "metadata": {},
   "outputs": [],
   "source": [
    "a, b, c = tuple_2\n"
   ]
  },
  {
   "cell_type": "code",
   "execution_count": null,
   "metadata": {},
   "outputs": [],
   "source": [
    "print(b)"
   ]
  },
  {
   "cell_type": "markdown",
   "metadata": {},
   "source": [
    "Soll nur ein Wert eines Tupels einer Variablen zugewiesen und der Rest als Liste gespeichert werden, kann der Sternoperator * vor der Liste genutzt werden.\n",
    "\n"
   ]
  },
  {
   "cell_type": "code",
   "execution_count": null,
   "metadata": {},
   "outputs": [],
   "source": [
    "a, *d = tuple_2\n",
    "print(d)"
   ]
  },
  {
   "attachments": {},
   "cell_type": "markdown",
   "metadata": {},
   "source": [
    "<div class=\"alert alert-block alert-info\">\n",
    "\n",
    "# Task 8. Schlüssel-Wert-Paare (dictionaries)\n",
    "\n",
    "Dictionaries bestehen aus ungeordneten Schlüssel-Wert (Key Value)-Paaren, wobei die Zuordnung Schlüssel/Wert über einen Doppelpunkt erfolgt. Über den Schlüsselnamen kann auf den Wert zugegriffen werden. Sowohl Schlüssel als auch Wert können von beliebigem Datentyp sein. Dictionaries sind veränderbar. Sie werden mit geschweiften Klammern erzeugt.\n",
    "\n",
    "Python-Referenz: dict https://docs.python.org/3/tutorial/datastructures.html#dictionaries \n",
    "\n",
    "Eine Schlüssel-Werte-Datenbank dient zur elektronischen Datenverwaltung in Computersystemen. Sie basiert auf dem Schlüssel-Werte-Datenmodell, um assoziative Datenfelder zu speichern.\n",
    "\n"
   ]
  },
  {
   "cell_type": "code",
   "execution_count": null,
   "metadata": {},
   "outputs": [],
   "source": [
    "geburtstage = {'Max': 19780321, 'Anna': 19950611, 'Gerd': 19631015,\n",
    "               'Julia': 20011206, 'Wiebke': 19900707, 'Karl': 19420130}"
   ]
  },
  {
   "attachments": {},
   "cell_type": "markdown",
   "metadata": {},
   "source": [
    "Testen Sie folgenden Code in der Python-Shell und lassen Sie sich das Dictionary nach jedem Schritt ausgeben:\n"
   ]
  },
  {
   "cell_type": "code",
   "execution_count": null,
   "metadata": {},
   "outputs": [],
   "source": [
    "print(geburtstage.keys())\n",
    "# Der Befehl bewirkt: "
   ]
  },
  {
   "cell_type": "code",
   "execution_count": null,
   "metadata": {},
   "outputs": [],
   "source": [
    "print(geburtstage.get('Karl'))\n",
    "# Der Befehl bewirkt: "
   ]
  },
  {
   "cell_type": "code",
   "execution_count": null,
   "metadata": {},
   "outputs": [],
   "source": [
    "print(geburtstage['Anna'])\n",
    "# Der Befehl bewirkt: "
   ]
  },
  {
   "cell_type": "code",
   "execution_count": null,
   "metadata": {},
   "outputs": [],
   "source": [
    "del geburtstage['Karl']\n",
    "print(geburtstage)\n",
    "# Der Befehl bewirkt: "
   ]
  },
  {
   "cell_type": "code",
   "execution_count": null,
   "metadata": {},
   "outputs": [],
   "source": [
    "geburtstage.update({'Jupp': 19500818})\n",
    "print(geburtstage)\n",
    "# Der Befehl bewirkt: "
   ]
  },
  {
   "cell_type": "code",
   "execution_count": null,
   "metadata": {},
   "outputs": [],
   "source": [
    "geburtstage.pop('Gerd')\n",
    "print(geburtstage)\n",
    "# Der Befehl bewirkt: "
   ]
  },
  {
   "cell_type": "code",
   "execution_count": null,
   "metadata": {},
   "outputs": [],
   "source": [
    "geburtstage['Trudi'] = 19480227\n",
    "print(geburtstage)\n",
    "# Der Befehl bewirkt: "
   ]
  },
  {
   "attachments": {},
   "cell_type": "markdown",
   "metadata": {},
   "source": [
    "Mithilfe der Funktion zip() lassen sich Objekte wie z.B. Listen zu einem dictionary zusammensetzen.\n",
    "\n",
    "Testen Sie folgende Ausdrücke in der Python-Shell: "
   ]
  },
  {
   "cell_type": "code",
   "execution_count": null,
   "metadata": {},
   "outputs": [],
   "source": [
    "postleitzahl = [48565, 48149, 48231, 48369]\n",
    "stadt = ['Steinfurt', 'Münster', 'Warendorf', 'Saerbeck']"
   ]
  },
  {
   "cell_type": "code",
   "execution_count": null,
   "metadata": {},
   "outputs": [],
   "source": [
    "adresse = zip(postleitzahl, stadt)\n",
    "print('zip:', adresse)\n",
    "# Der Befehl bewirkt: "
   ]
  },
  {
   "cell_type": "code",
   "execution_count": null,
   "metadata": {},
   "outputs": [],
   "source": [
    "adresse = dict(adresse)\n",
    "print('dict:', adresse)\n",
    "# Der Befehl bewirkt: "
   ]
  },
  {
   "attachments": {},
   "cell_type": "markdown",
   "metadata": {},
   "source": [
    "<div class=\"alert alert-block alert-success\">\n",
    "\n",
    "# Zusatzinfo: 9. Sets (set)\n",
    "Sets sind ungeordnete Listen, d.h. die Daten werden in einem Set zufällig angeordnet. Slicing ist daher nicht möglich. Ein Element kann in einem Set nur einmal vorkommen. Sets sind daher hilfreich zur Reduzierung regelmäßiger Daten. Die Elemente können aus verschiedenen Datentypen bestehen, ausgenommen sind jedoch veränderliche Datentypen wie z.B. Listen.\n",
    "\n",
    "Sets können wie Dictionaries mit geschweiften Klammern erzeugt werden. Mit der expliziten Typumwandlung kann ein Set auch aus einer Liste oder einem String erzeugt werden.\n",
    "\n",
    "Python-Referenz: set https://docs.python.org/3/tutorial/datastructures.html#sets \n",
    "\n",
    "Die Datenstruktur Menge, auch Set genannt, ist eine ungeordnete Sammlung von Elementen eines bestimmten Datentyps, von denen jeweils maximal ein Exemplar enthalten ist. Sie ist der endlichen Menge in der Mathematik nachempfunden. Es ist meist aus Effizienzgründen sinnvoll, konstante Mengen anders zu repräsentieren als dynamische Mengen.\n",
    "\n",
    "\n",
    "Testen Sie folgende Ausdrücke in der Python-Shell:"
   ]
  },
  {
   "cell_type": "code",
   "execution_count": null,
   "metadata": {},
   "outputs": [],
   "source": [
    "l = [1, 2, 3, 4, 4, 5, 6, 6, 7]\n",
    "s = set(l)\n"
   ]
  },
  {
   "cell_type": "code",
   "execution_count": null,
   "metadata": {},
   "outputs": [],
   "source": [
    "print(l)\n",
    "print(s)"
   ]
  },
  {
   "attachments": {},
   "cell_type": "markdown",
   "metadata": {},
   "source": [
    "Mengenoperationen auf Sets\n",
    "Für Sets sind Operationen der Mengenlehre, wie Schnittmenge, Differenz oder Vereinigung definiert.\n",
    "\n",
    "Testen Sie folgende Ausdrücke in der Python-Shell:"
   ]
  },
  {
   "cell_type": "code",
   "execution_count": null,
   "metadata": {},
   "outputs": [],
   "source": [
    "a = set('Simsalabim')\n",
    "b = set('Abrakadabra')\n",
    "\n",
    "print(a)\n",
    "print(b)\n",
    "\n",
    "print(a - b) # Differenz (a ohne b)\n",
    "print(a | b) # Vereinigung (a oder b)\n",
    "print(a & b) # Schnittmenge (a und b)\n",
    "print(a.intersection(b)) # Schnittmenge (a und b)\n",
    "print(a ^ b) # Differenz (nur in a oder nur in b)"
   ]
  },
  {
   "cell_type": "markdown",
   "metadata": {},
   "source": [
    "<div class=\"alert alert-block alert-info\">\n",
    "\n",
    "# Task 9: Pandas Series und Dataframe\n",
    "\n",
    "Testen  Sie die nachfolgdenden Codeblocks und kommentieren Sie die Funktionen\n"
   ]
  },
  {
   "cell_type": "code",
   "execution_count": null,
   "metadata": {},
   "outputs": [],
   "source": [
    "import pandas as pd\n",
    "cap_2019 = [60.7, 49.1, 30.6, 22.7, 20.9, 14.7, 10.3, 9.5, 4.4, 0.2, 0.05, 3.3]\n",
    "capacity_2019 = pd.Series(cap_2019)\n",
    "capacity_2019\n"
   ]
  },
  {
   "cell_type": "code",
   "execution_count": null,
   "metadata": {},
   "outputs": [],
   "source": [
    "\n",
    "capacity_2019.index\n"
   ]
  },
  {
   "cell_type": "code",
   "execution_count": null,
   "metadata": {},
   "outputs": [],
   "source": [
    "\n",
    "capacity_2019.values\n"
   ]
  },
  {
   "cell_type": "code",
   "execution_count": null,
   "metadata": {},
   "outputs": [],
   "source": [
    "\n",
    "source = [\"Wind\", \"Photovoltaik\", \"Gas\", \"Steinkohle\", \"Braunkohle\", \"Wasser\", \"Biomasse\", \"Kernenergie\", \"Heizöl\", \"Batteriespeicher\", \"Geothermie\", \"Sonstige\"]\n",
    "capacity_2019 = pd.Series(cap_2019, index=source)\n"
   ]
  },
  {
   "cell_type": "code",
   "execution_count": null,
   "metadata": {},
   "outputs": [],
   "source": [
    "capacity_2019"
   ]
  },
  {
   "cell_type": "code",
   "execution_count": null,
   "metadata": {},
   "outputs": [],
   "source": [
    "\n",
    "capacity_2019[[\"Wind\", \"Photovoltaik\", \"Wasser\"]]\n"
   ]
  },
  {
   "cell_type": "code",
   "execution_count": null,
   "metadata": {},
   "outputs": [],
   "source": [
    "# Einstellungen zu Darstellungen \"Plotting\", optional aber hilfreich\n",
    "pd.options.plotting.backend = \"plotly\"\n",
    "template = \"plotly_white\"\n",
    "# template = \"plotly_dark\"\n"
   ]
  },
  {
   "cell_type": "code",
   "execution_count": null,
   "metadata": {},
   "outputs": [],
   "source": [
    "capacity_2019.plot.bar()"
   ]
  },
  {
   "cell_type": "code",
   "execution_count": null,
   "metadata": {},
   "outputs": [],
   "source": [
    "\n",
    "cap_2009 = [25.8, 9.9, 23.1, 29.0, 22.4, 10.3, 4.9, 21.5, 5.2, 0, 0.01, 5.7]\n",
    "capacity_2009 = pd.Series(cap_2009, index=source)\n",
    "\n"
   ]
  },
  {
   "cell_type": "code",
   "execution_count": null,
   "metadata": {},
   "outputs": [],
   "source": [
    "capacity_2009"
   ]
  },
  {
   "cell_type": "code",
   "execution_count": null,
   "metadata": {},
   "outputs": [],
   "source": [
    "#Dataframes\n",
    "df_cap=pd.DataFrame({'2009': capacity_2009, '2019': capacity_2019})"
   ]
  },
  {
   "cell_type": "code",
   "execution_count": null,
   "metadata": {},
   "outputs": [],
   "source": [
    "df_cap"
   ]
  },
  {
   "cell_type": "code",
   "execution_count": null,
   "metadata": {},
   "outputs": [],
   "source": [
    "df_cap.plot.bar(labels={\"value\": \"Energieerzeugung in TWh\", \"index\": \"Energieträger\"}).update_layout(barmode='group').update_traces(opacity=0.75)"
   ]
  },
  {
   "cell_type": "markdown",
   "metadata": {},
   "source": [
    "<div class=\"alert alert-block alert-info\">\n",
    "\n",
    "# Task 10: Operationen mit Pandas Dataframes\n",
    "\n",
    "Erstellen Sie eine weitere Zeile in dem Dataframe df_cap, welches die summierte Erzeugungskpazität aller Energieträger enthält (per Rechenoperation) und stellen Sie das Ergebnis als Barplot dar.\n"
   ]
  },
  {
   "cell_type": "code",
   "execution_count": null,
   "metadata": {},
   "outputs": [],
   "source": [
    "def meineFkt() -> int:\n",
    "    print('a')\n",
    "    return 12345\n",
    "\n",
    "print('b)')\n",
    "c=meineFkt()"
   ]
  },
  {
   "cell_type": "code",
   "execution_count": null,
   "metadata": {},
   "outputs": [],
   "source": [
    "type(c)"
   ]
  },
  {
   "cell_type": "code",
   "execution_count": null,
   "metadata": {},
   "outputs": [],
   "source": [
    "df_cap.sum()"
   ]
  },
  {
   "cell_type": "code",
   "execution_count": null,
   "metadata": {},
   "outputs": [],
   "source": [
    "df_cap['2009'].loc[df_cap['2009']>10].sum()"
   ]
  },
  {
   "cell_type": "markdown",
   "metadata": {},
   "source": [
    "<div class=\"alert alert-block alert-info\">\n",
    "\n",
    "# Ihr Lösungsvorschlag:\n",
    "\n",
    "       \n",
    "\n",
    "Speichern sie das ipnb File ab, laden es auf ihren Computer und laden Sie es als Abgabe in Moodle hoch!\n"
   ]
  },
  {
   "cell_type": "code",
   "execution_count": null,
   "metadata": {},
   "outputs": [],
   "source": []
  },
  {
   "attachments": {},
   "cell_type": "markdown",
   "metadata": {},
   "source": [
    "<div class=\"alert alert-block alert-warning\">\n",
    "\n",
    "# Weitere Blocks: TBD in kommenden Stunden!!!\n",
    "\n",
    "10. Schleifen und Struktogramme\n",
    "\n",
    "1. Siehe VL Slides\n",
    "2. Siehe Leukipp Lektion: https://leukipp.fh-muenster.de/#/course/20211005T113323-cour730/units/u2019-06-26T15-25-05-G__11/play "
   ]
  },
  {
   "attachments": {},
   "cell_type": "markdown",
   "metadata": {},
   "source": [
    "TASK X.1\n",
    "\n",
    "Berechnen Sie die Fibonacci-Folge bis Einhundert. (https://de.wikipedia.org/wiki/Fibonacci-Folge) --> In VL\n"
   ]
  },
  {
   "cell_type": "code",
   "execution_count": null,
   "metadata": {},
   "outputs": [],
   "source": [
    "# ihr Code"
   ]
  },
  {
   "attachments": {},
   "cell_type": "markdown",
   "metadata": {},
   "source": [
    "TASK X.2. \n",
    "\n",
    "Das Verhältnis zweier aufeinanderfolgender Fibonacci-Zahlen strebt gegen den Wert des goldenen Schnitts. Approximieren Sie diesen Wert auf 12 Stellen genau. Wie kann das Abbruch-Kriterium formuliert werden? (Hausaufgabe)\n"
   ]
  },
  {
   "cell_type": "code",
   "execution_count": null,
   "metadata": {},
   "outputs": [],
   "source": [
    "# ihr Code"
   ]
  },
  {
   "attachments": {},
   "cell_type": "markdown",
   "metadata": {},
   "source": [
    "## 11. Zählergesteuerte Schleife (for loop)\n",
    "\n",
    "Die for-Schleife iteriert über die Elemente eines iterierbaren Objekts (z.B. eine Liste). Mit der eingebauten Funktion range() können jederzeit iterierbare Ganzzahllisten erzeugt werden.  Im Schleifenkopf werden die Iterationsschritte und die Laufvariable definiert. Die Laufvariable ändert bei jedem Durchlauf ihren Wert.\n",
    "\n",
    "Viele Programmiersprachen definieren eine For-Schleife als eine Kontrollstruktur, mit der man eine Gruppe von Anweisungen (Block) mit einer bestimmten Anzahl von Wiederholungen bzw. Argumenten ausführen kann.\n",
    "\n",
    "\n"
   ]
  },
  {
   "cell_type": "markdown",
   "metadata": {},
   "source": [
    "Testen Sie den folgenden Code in der Python-Shell:"
   ]
  },
  {
   "cell_type": "code",
   "execution_count": null,
   "metadata": {},
   "outputs": [],
   "source": [
    "range(10)"
   ]
  },
  {
   "cell_type": "code",
   "execution_count": null,
   "metadata": {},
   "outputs": [],
   "source": [
    "squares = []\n",
    "for n in range(10):\n",
    "  print(n)\n",
    "  squares.append(n**2)\n",
    "squares"
   ]
  },
  {
   "cell_type": "code",
   "execution_count": null,
   "metadata": {},
   "outputs": [],
   "source": [
    "for squares in range(10):\n",
    "  print(\"Wert squares: \", squares)\n",
    "len(squares)"
   ]
  },
  {
   "attachments": {},
   "cell_type": "markdown",
   "metadata": {},
   "source": [
    "## 12. List Comprehensions\n",
    "Unter der \"List Comprehension\" (https://de.wikipedia.org/wiki/List_Comprehension) versteht man das einfache Befüllen einer Liste mit Hilfe von Anweisungen während der Initialisierung, d.h. Erzeugung einer Liste, deren Elemente durch verschiedene Operationen mit for-Schleifen oder if-Bedingungen generiert werden.\n",
    "\n",
    "List Comprehensions sind nach dem Muster [<Ausdruck> <Schleife> <Bedingung>] aufgebaut, wobei mehrere Schleifen und Bedingungen nacheinander stehen dürfen. Auch geschachtelte List Comprehensions sind möglich.\n",
    "\n"
   ]
  },
  {
   "cell_type": "markdown",
   "metadata": {},
   "source": [
    "Schreiben Sie folgenden Code mithilfe einer List Comprehension Schreibweise in einer Zeile kompakt:"
   ]
  },
  {
   "cell_type": "code",
   "execution_count": null,
   "metadata": {},
   "outputs": [],
   "source": [
    "squares = []\n",
    "for n in range(10):\n",
    "    squares.append(n**2)"
   ]
  },
  {
   "cell_type": "code",
   "execution_count": null,
   "metadata": {},
   "outputs": [],
   "source": [
    "#    Ihr Lösungsvorschlag:\n",
    "squares2 = [n**2 for n in range(10)]\n"
   ]
  },
  {
   "cell_type": "code",
   "execution_count": null,
   "metadata": {},
   "outputs": [],
   "source": [
    "squares"
   ]
  },
  {
   "cell_type": "code",
   "execution_count": null,
   "metadata": {},
   "outputs": [],
   "source": [
    "squares2"
   ]
  },
  {
   "attachments": {},
   "cell_type": "markdown",
   "metadata": {},
   "source": [
    "List Comprehensions können eine starke Vereinfachung sein, bei ihrer Nutzung sollte aber beachtet werden, dass der Code schnell dazu neigt an Nachvollziehbarkeit einzubüßen.\n",
    "\n",
    "Ein Beispiel für eine verschachtelte List Comprehension finden Sie im nachfolgenden Code-Beispiel. Programmieren Sie den Code nach und versuchen Sie nachzuvollziehen, was passiert. Welche Zahlenfolge wird ausgegeben?"
   ]
  },
  {
   "cell_type": "code",
   "execution_count": null,
   "metadata": {},
   "outputs": [],
   "source": [
    "[k for k in range(1, 100) if len([n for n in range(1, k) if k % n == 0]) == 1]"
   ]
  },
  {
   "attachments": {},
   "cell_type": "markdown",
   "metadata": {},
   "source": [
    "OPTIONAL!!! Versuchen Sie, die verschachtelte List Comprehension in Code über mehrere Zeilen zu schreiben, sodass zwar das Ergebnis gleich ist, der Code jedoch leichter zu lesen ist:\n"
   ]
  },
  {
   "cell_type": "markdown",
   "metadata": {},
   "source": [
    "## 13. Schleifenanweisungen (break und continue)\n",
    "Die break-Anweisung springt aus der Schleife heraus (Fortführung nach der Schleife), die continue-Anweisung springt an den Schleifenanfang (Prüfung der Ausführungsbedingung). Die Schlüsselwörter \"break\" und \"continue\" können sowohl in for- als auch in while-Schleifen genutzt werden.\n",
    "\n",
    "Testen Sie den folgenden Code; nutzen Sie im ersten Durchlauf die break-Anweisung und ersetzen Sie diese im zweiten Durchlauf durch die continue-Anweisung. Was ändert sich?\n",
    "i = 3\n",
    "\n",
    "print(i)\n",
    "\n",
    "while i <= 20:\n",
    "  i += 1\n",
    "  print(i)\n",
    "  if i % 7 == 2:\n",
    "    print(\"Restwert 2: \", i)\n",
    "    break\n",
    "\n",
    "print('Ende')\n",
    "Prüfen Sie ihre Lernergebnisse mit dem folgenden Quizz:\n",
    "https://leukipp.fh-muenster.de/#/course/20211005T113323-cour730/units/u2021-11-03T09-41-47-G__138/play "
   ]
  },
  {
   "attachments": {},
   "cell_type": "markdown",
   "metadata": {},
   "source": [
    "# 15. Funktionen\n"
   ]
  },
  {
   "cell_type": "code",
   "execution_count": null,
   "metadata": {},
   "outputs": [],
   "source": [
    "def stellDichVor(name): # Dies ist die Funktiondefinition für StellDichVor()\n",
    "  print(\"Hi! Mein Name ist \" + name + \"!\\n\")\n",
    "\n",
    "# Hier startet das Programm\n",
    "print(3-2-1)\n",
    "stellDichVor('Peter') # Dies ist ein Funktionsaufruf von stellDichVor()\n",
    "print ('dudeldudeldu...\\n')\n",
    "1+2+3\n",
    "print('lalala\\n')\n",
    "stellDichVor('Bruno') # Dies ist ein weiterer Funktionsaufruf von stellDichVor()\n",
    "stellDichVor('Sebastian') # und noch ein Funktionsaufruf von stellDichVor()"
   ]
  },
  {
   "cell_type": "code",
   "execution_count": null,
   "metadata": {},
   "outputs": [],
   "source": [
    "def hello(name1, name2):\n",
    "  print('Hello', name1, 'und', name2, '!')\n",
    "\n",
    "hello('Max', 'Moritz')"
   ]
  },
  {
   "cell_type": "code",
   "execution_count": null,
   "metadata": {},
   "outputs": [],
   "source": [
    "def hello(name1:str='Max Mustermann', name2='Marie Mustermann'):\n",
    "  print('Hallo', name1, 'und', name2, '!')\n",
    "\n",
    "hello()\n",
    "\n",
    "hello('Paul')\n",
    "\n",
    "hello(name2='bnbmnm')"
   ]
  },
  {
   "attachments": {},
   "cell_type": "markdown",
   "metadata": {},
   "source": [
    "## 15.1 Lokale / globale Fkt."
   ]
  },
  {
   "cell_type": "code",
   "execution_count": null,
   "metadata": {},
   "outputs": [],
   "source": [
    "# Definition einer Funktion test_loc_glob\n",
    "def test_loc_glob():\n",
    "    print(s)\n",
    "    print(i)\n",
    "\n",
    "# zwei Variablen außerhalb der Funktion definieren\n",
    "# GLOBAL\n",
    "s = 'Ich bin ein String im Programmcode.'\n",
    "i = 7\n",
    "\n",
    "# die Funktion aufrufen\n",
    "test_loc_glob()\n",
    "\n",
    "# Ausgabe der Variablen s und i\n",
    "print(s)\n",
    "print(i)\n"
   ]
  },
  {
   "cell_type": "code",
   "execution_count": null,
   "metadata": {},
   "outputs": [],
   "source": [
    "def test_loc_glob():\n",
    "    i = 42\n",
    "    s = 'Ich bin ein String in der Funktion.'\n",
    "    print(s)\n",
    "    print(i)\n",
    "\n",
    "s = 'Ich bin ein String im Programmcode.'\n",
    "i = 7\n",
    "\n",
    "test_loc_glob()\n"
   ]
  },
  {
   "cell_type": "code",
   "execution_count": null,
   "metadata": {},
   "outputs": [],
   "source": [
    "print(s)\n",
    "print(i)"
   ]
  },
  {
   "attachments": {},
   "cell_type": "markdown",
   "metadata": {},
   "source": [
    "*** Soll ein in einer Funktion definierter Variablenname sowohl in einer Funktion als auch im Programmcode gleichermaßen verwendet werden, kann diese Variable als \"globale\" Variable definiert werden, dies geschieht durch das Schlüsselwort global dem der Variablenname folgt (im Beispiel i). Das Vermischen von lokalen und globalen Variablen mit demselben Namen innerhalb einer Funktion funktioniert nicht und führt zu einem Fehler. Sollte s im dritten Beispiel innerhalb der Funktion verändert werden, müsste s vor dem ersten print()-Aufruf als globale Variable definiert werden."
   ]
  },
  {
   "cell_type": "code",
   "execution_count": null,
   "metadata": {},
   "outputs": [],
   "source": [
    "def test_loc_glob():\n",
    "    global i\n",
    "    print(i)\n",
    "    i = 42\n",
    "    print(i)\n",
    "    # print(s)\n",
    "    s = 'Ich bin ein String in der Funktion.'\n",
    "    print(s)\n",
    "\n",
    "s = 'Ich bin ein String im Programmcode.'\n",
    "i = 7\n",
    "\n",
    "test_loc_glob()\n",
    "print(s)\n",
    "print(i)"
   ]
  },
  {
   "attachments": {},
   "cell_type": "markdown",
   "metadata": {},
   "source": [
    "*** Die Definition globaler Variablen wird schnell einem schlechten Programmierstil zugewiesen und kann die Fehlersuche schwierig gestalten. Sie können es vermeiden, globale Variablen definieren zu müssen, indem Sie Variablen aus dem Programmcode der Funktion als Funktionsargument übergeben und die Variable mit dem veränderten Inhalt und ggf. weitere Variablen, die auch außerhalb der Funktion zur Verfügung stehen sollen, als Rückgabewert zurückliefern."
   ]
  },
  {
   "cell_type": "code",
   "execution_count": null,
   "metadata": {},
   "outputs": [],
   "source": [
    "def test_loc_glob(s):\n",
    "    i = 42\n",
    "    print(i)\n",
    "    print(s)\n",
    "    s = 'Ich bin ein String in der Funktion.'\n",
    "    print(s)\n",
    "    return i, s\n",
    "\n",
    "s = 'Ich bin ein String im Programmcode.'\n",
    "i = 7\n",
    "\n",
    "i, s = test_loc_glob(s)\n",
    "print(s)\n",
    "print(i)"
   ]
  },
  {
   "attachments": {},
   "cell_type": "markdown",
   "metadata": {},
   "source": [
    "## ** OPTIONAL 16. Annonyme Funktionen (Lambda Funktionen)\n",
    "Neben den klassischen Funktionen, die Sie in diesem Kapitel kennengelernt haben und die immer einen Funktionsnamen besitzen, über den Sie aufgerufen werden können, gibt es in Python noch die sog. \"anonymen Funktionen\". Diese Funktionen besitzen keinen Funktionsnamen, sondern werden mit Hilfe des \"Lambda-Operators\" definiert. Viele Funktionen, häufig mathematischer Natur, bestehen lediglich aus einer Zeile. Solche einfachen Funktionen können mit Hilfe des \"Lambda-Operators\" sehr effizient geschrieben werden.\n",
    "\n",
    "Je nach Einsatz kann eine anonyme Funktion einer Variablen (im Beispiel f) zugewiesen, oder aber direkt als namenlose Funktion übergeben werden (im Beispiel zur filter()-Funktion). Praktisch ist der \"Lambda-Operator\", wenn einer Funktion eine Funktion übergeben werden soll, wie es z.B. bei map() oder filter() der Fall ist: die zu übergebende Funktion muss dann nicht an anderer Stelle definiert werden, sondern kann direkt in der Parameterliste definiert werden.\n",
    "\n",
    "Die map-Funktion ist eine Funktion, die als ersten Parameter eine Funktion und als zweiten ein iterierbares Objekt (z.B. eine Liste) erwartet. Sie wendet die Funktion auf alle Listenelemente an und gibt ein iterierbares Objekt zurück. Im Beispiel wird dieses Objekt explizit in eine Liste umgewandelt, damit es in der Shell angezeigt wird. Praktisch alle mit map und lambda durchgeführten Operationen lassen sich auch mit \"List-Comprehensions\" umsetzen.\n",
    "\n"
   ]
  },
  {
   "cell_type": "code",
   "execution_count": null,
   "metadata": {},
   "outputs": [],
   "source": [
    "#f = lambda x: x**2 + 2*x - 1\n",
    "#print(list(map(f, range(-10,11))))\n",
    "\n",
    "# Alternativschreibweise mit List Comprehension\n",
    "print([x**2 + 2*x - 1 for x in range(-10,11)])\n",
    "\n",
    "# direkte Anwendung der anonymen Funktion in map\n",
    "#print(list(map(lambda a, b: a + b, [1, 2, 3], [10, 11, 12])))"
   ]
  },
  {
   "attachments": {},
   "cell_type": "markdown",
   "metadata": {},
   "source": [
    "## 17. Module"
   ]
  },
  {
   "cell_type": "markdown",
   "metadata": {},
   "source": [
    "Dieses Kapitel wird bei Bedarf ergänzt..."
   ]
  },
  {
   "attachments": {},
   "cell_type": "markdown",
   "metadata": {},
   "source": [
    "## 18. Pandas Series und Dataframe"
   ]
  }
 ],
 "metadata": {
  "kernelspec": {
   "display_name": "STAT_bat",
   "language": "python",
   "name": "python3"
  },
  "language_info": {
   "codemirror_mode": {
    "name": "ipython",
    "version": 3
   },
   "file_extension": ".py",
   "mimetype": "text/x-python",
   "name": "python",
   "nbconvert_exporter": "python",
   "pygments_lexer": "ipython3",
   "version": "3.8.19"
  },
  "orig_nbformat": 4
 },
 "nbformat": 4,
 "nbformat_minor": 2
}
