{
 "cells": [
  {
   "attachments": {},
   "cell_type": "markdown",
   "metadata": {},
   "source": [
    "Credits: Dieses Notebook baut auf Code/Codebausteinen von Hr. Martin Cornejo (TUM) auf \n",
    "Das Aufgaben-Notebook wurde für die Vorlesung STAT-bat im SoSe2023 an der HS Kempten von Prof. Dr. Holger Hesse zur Verfügung gestellt.\n"
   ]
  },
  {
   "attachments": {},
   "cell_type": "markdown",
   "metadata": {},
   "source": [
    "# NB1: Betriebsstrategien für Heimspeichersysteme\n",
    "\n",
    "Heimspeichersysteme dienen der Eigenverbrauchserhöhung in Privathaushalten, bei denen eine lokale Erzeugungsanlage (meist: Photovoltaik) einen Teil der Stromversorgung deckt. \n",
    "\n",
    "Aus Kundensicht können neben monetären Faktoren auch ein Bestreben nach \"mehr Autrarkie\" oder einer mögl. positiven Auswirkung auf den CO2 Fußabdruck eine Rolle spielen. \n",
    "\n",
    "Im Betrieb können Heimspeicher sehr unterschiedlich agieren - je nach Steuerungsvorgabe durch den Systemhersteller bzw. teilweise auch durch nutzer-spezifische Vorgabe. Die Betreibsstrategie hat einen wesentlichen Einfluss auf z.B. die Speicherperformance, die Systemalterung und  auch auf das ölkonomische Potential.\n",
    "\n",
    "Im Notebook soll folgendes untersucht werden:\n",
    "- Durchführung einer Zeitreihensimulation für einen stationären Batteriespeicher\n",
    "- Techno-ökonomische Analyse des Anwendungsfalls \"Heimspeicher\"\n",
    "- Auswirkungen unterschiedlicher Betreibsstrategien auf die Systemperformance"
   ]
  },
  {
   "cell_type": "code",
   "execution_count": null,
   "metadata": {
    "tags": []
   },
   "outputs": [],
   "source": [
    "# Import wichtiger Packages - nicht ändern, Codeblock unbedingt ausführen!\n",
    "import pandas as pd      # Das pandas Paket dient der Datenanalyse - siehe: https://pandas.pydata.org/"
   ]
  },
  {
   "cell_type": "code",
   "execution_count": null,
   "metadata": {},
   "outputs": [],
   "source": [
    "# Einstellungen zu Darstellungen \"Plotting\", optional aber hilfreich\n",
    "pd.options.plotting.backend = \"plotly\"\n",
    "template = \"plotly_white\"\n",
    "# template = \"plotly_dark\""
   ]
  },
  {
   "attachments": {},
   "cell_type": "markdown",
   "metadata": {},
   "source": [
    "## Datensatz für Heimspeicheranwendung (und weitere)\n",
    "Für unsere Analyse werfen wir einen Blick in einen *repräsentativen* Haushalt mit einer Solar-PV-Anlage. Die Daten stammen aus der Publikation [*Standard Battery Application Profiles (SBAP) paper*](https://doi.org/10.1016/j.est.2019.101077), welches Anwendungs- und Speicher-Betreibsprofile mehrerer Beispielanwendungen bereitstellt - alle dort genutzen Profildaten können als \"Open Data\" verwendet werden! Bei Verswendung von Excel / Matlab: sie finden Diese Daten im CSV Format unter folgender Adresse:  https://gitlab.com/HesseHSKempten/23s_statbat/-/blob/main/data/household_profile.csv\n"
   ]
  },
  {
   "cell_type": "code",
   "execution_count": null,
   "metadata": {},
   "outputs": [],
   "source": [
    "profile = pd.read_csv(\"../data/household_profile.csv\", index_col=0, parse_dates=True) # Einlesen des Profils aus der CSV Datei\n",
    "profile.plot(template=template, labels={\"value\": \"Power [kW]\"}) # Darstellung der Profildaten mit der \"Plotly\" Bibilothek"
   ]
  },
  {
   "attachments": {},
   "cell_type": "markdown",
   "metadata": {},
   "source": [
    "Werfen wir zunächst einen Blick auf unser Basisszenario - ein System ohne Batterie-Energiespeicher:"
   ]
  },
  {
   "attachments": {},
   "cell_type": "markdown",
   "metadata": {},
   "source": [
    "<div class=\"alert alert-block alert-info\">\n",
    "<b>Task I</b> Analysieren Sie die Verbrauchs- und Erzeugungsprofile:\n",
    "<ol>\n",
    "    <li> Berechnen Sie die Residuallast, speichern Sie diese als neue Spalte im Dataframe \"profile\" und visualisieren Sie diese als Grafik </li>\n",
    "    <li> Ermitteln Sie den gesamten Energieverbrauch und die Erzeugung in einem Jahr und berechnen Sie die daraus resultierenden Stromkosten. Betrachten Sie 0,35 €/kWh für den Strompreis und 0,07 €/kWh für die Einspeisevergütung </li>\n",
    "    <li> Implementieren Sie die Fun ktion \"self_cponsumption_rate\" , welche den Eigenverbrauch berechnet </li>\n",
    "    <li> Implementieren Sie die Fun ktion \"self_sufficiency_rate\" , welche den Autarkiegrad berechnet </li>\n",
    "    <li> Verwenden Sie diese beiden Funktionen, um Werte für oben gennate Stromtarife zu berechnen.\n",
    "</ol>\n",
    "</div>"
   ]
  },
  {
   "cell_type": "markdown",
   "metadata": {},
   "source": [
    "<div class=\"alert alert-block alert-warning\">\n",
    "<b>Achtung!</b> Achten Sie auf passende Unterscheidung zwischen \"Leistung\" und \"Enerige\" - berücksichtigen Sie die Zeitauflösung der Daten von 15 Minuten (!)\n",
    "</div>"
   ]
  },
  {
   "cell_type": "code",
   "execution_count": null,
   "metadata": {},
   "outputs": [],
   "source": [
    "# Task I.1: Berechnen Sie die Residuallast, speichern Sie diese als neue Spalte im Dataframe \"profile\" und visualisieren Sie diese als Grafik\n",
    "profile[\"residual\"] = profile['load'] - profile['pv']\n",
    "profile.plot(template=template, labels={\"value\": \"Power [kW]\"}) # Darstellung der Profildaten mit der \"Plotly\" Bibilothek"
   ]
  },
  {
   "cell_type": "code",
   "execution_count": null,
   "metadata": {},
   "outputs": [],
   "source": [
    "# Task I.2: Ermitteln Sie den gesamten Energieverbrauch und die Erzeugung in einem Jahr und berechnen Sie die daraus resultierenden Stromkosten. Betrachten Sie 0,35 €/kWh für den Strompreis und 0,07 €/kWh für die Einspeisevergütung"
   ]
  },
  {
   "cell_type": "code",
   "execution_count": null,
   "metadata": {},
   "outputs": [],
   "source": [
    "# Task I.3: Implementieren Sie eine Funktion \"self_consumption_rate\" , welche Eigenverbrauchsanteil berechnet\n",
    "def self_consumption_rate(...)\n",
    "\n"
   ]
  },
  {
   "cell_type": "code",
   "execution_count": null,
   "metadata": {},
   "outputs": [],
   "source": [
    "# Task I.4: Implementieren Sie die Fun ktion \"self_sufficiency_rate\" , welche den Autarkiegrad berechnet"
   ]
  },
  {
   "cell_type": "code",
   "execution_count": null,
   "metadata": {},
   "outputs": [],
   "source": [
    "# Task I.5: Verwenden Sie diese beiden Funktionen, um Werte für oben gennate Stromtarife zu berechnen."
   ]
  },
  {
   "attachments": {},
   "cell_type": "markdown",
   "metadata": {},
   "source": [
    "## Greedy strategy\n",
    "\n",
    "Um die Sonnenenergie besser zu nutzen, entscheidet sich der Haushalt für die Installation eines Speichersystems mit  5 kWh Nennleistung und 5 kW max. Leistung. Allerdings wird die Batterie \"die Arbeit nicht für sich selbst erledigen ...\"  - Wir müssen vorgeben, was sie tun soll!\n",
    "\n",
    "Für unseren ersten Versuch nutzen wir die einfachste Strategie zur **Verbesserung des Eigenverbrauchs** : Der Speicher prüft die Residuallast  - sobald die PV-Erzeugung die aktuelle Last übersteigt, lädt er die Batterie. Sobald die PV-Erzeugung hingegen unter den Bedarf fällt, entlädt sich die Batterie wieder, um die Differenz auszugleichen. Diese *simple* Strategie versucht, die gesamte überschüssige lokal erzeugte Energie zwischenzuspeichern, sie wird als *greedy* Strategie bezeichnet."
   ]
  },
  {
   "attachments": {},
   "cell_type": "markdown",
   "metadata": {},
   "source": [
    "<div class=\"alert alert-block alert-info\">\n",
    "<b>Task II</b> Implementieren und Analysieren Sie eine Greedy Strategie für den Heimspeicher\n",
    "<ol>\n",
    "    <li> Implementieren Sie die Greedy Strategie zur Steigerung des Eigenverbrauchs. Definieren Sie eine Funktion, welche das \"Dataframe\" \"profile\" sowie maximale Kapazität & maximale Leistung des Speichers als Eingangsgrößen übernimmt und ein neues Dataframe (Kopie!) mit  Batterie-SOC, der Leistung des Speichers und der resultierenden Netzleistung für jeden Zeitschritt zurückgibt. Prüfen Sie während des gesamten Betriebs, dass die Leistungs- und SOC-Grenzwerte nicht verletzt werden. Nehemn Sie Systemverluste mit Lade-/Entladeeffizienzen von 95 % an.</li>\n",
    "    <li> Nehmen Sie Beispielwerte für Kapazität und Leistung an und berechnen Sie die sich nun ergebende Eigenverbrauchsquote und den Autraktiegrad des Haushalts mit Speicher. Vergelichen Sie die Ergebnisse mirt der zuvor analysierten Situation ohne Speicher. </li>\n",
    "    <li> Berechnen Sie die nun auftretenden Stromkosten und ihre <i>Ersparnisse</i> gegenüber dem Referenzszenario. </li>\n",
    "</ol>\n",
    "</div>"
   ]
  },
  {
   "attachments": {},
   "cell_type": "markdown",
   "metadata": {},
   "source": [
    "<div class=\"alert alert-block alert-warning\">\n",
    "<b>Hint!</b> Durchlaufen Sie das Dataframe, um die Leistung und den SOC in jedem Zeitschritt zu berechnen. Befolgen Sie die Konvention von positiver Leistung zum Laden und negativer Leistung zum Entladen. Beachten Sie die richtige Umrechnung von Leistung zu Energie\n",
    "\n",
    "</div>"
   ]
  },
  {
   "cell_type": "code",
   "execution_count": null,
   "metadata": {},
   "outputs": [],
   "source": [
    "# Task II.1: Implementieren Sie die Greedy Strategie zur Steigerung des Eigenverbrauchs. \n",
    "    # Definieren Sie eine Funktion, welche das \"Dataframe\" \"profile\" sowie maximale Kapazität & maximale Leistung des Speichers als Eingangsgrößen übernimmt \n",
    "    # und ein neues Dataframe (Kopie!) mit  Batterie-SOC, der Leistung des Speichers und der resultierenden Netzleistung für jeden Zeitschritt zurückgibt. \n",
    "    # Prüfen Sie während des gesamten Betriebs, dass die Leistungs- und SOC-Grenzwerte nicht verletzt werden. Nehemn Sie Systemverluste mit Lade-/Entladeeffizienzen von 95 % an.\n",
    "\n",
    "def greedy_strategy(profile, capacity, max_power, eff=0.95, initial_soc=0.0):\n",
    "    df = profile.copy() # make a new copy of the dataframe\n",
    "    # add new empty columns to the dataframe\n",
    "    df[\"grid\"] = 0.0   # grid power in kW\n",
    "    df[\"power\"] = 0.0  # battery power in kW\n",
    "    df[\"soc\"]  = 0.0   # battery SOC in p.u.\n",
    "\n",
    "        ..."
   ]
  },
  {
   "cell_type": "markdown",
   "metadata": {},
   "source": [
    "Let's simulate the operation and visualize the results."
   ]
  },
  {
   "cell_type": "code",
   "execution_count": null,
   "metadata": {},
   "outputs": [],
   "source": [
    "# Nehmen Sie Beispielwerte für Kapazität (Wert zwischen 1 und 20 kWh) und Leistung an:\n",
    "capacity = 5.0 # kWh\n",
    "max_power = 5.0 # kW"
   ]
  },
  {
   "cell_type": "code",
   "execution_count": null,
   "metadata": {},
   "outputs": [],
   "source": [
    "df_greedy = greedy_strategy(profile=profile, capacity=capacity, max_power=max_power) # this can take some time to compute"
   ]
  },
  {
   "cell_type": "code",
   "execution_count": null,
   "metadata": {},
   "outputs": [],
   "source": [
    "df_greedy[[\"residual\", \"power\"]].plot(template=template, labels={\"value\": \"Power [kW]\"})# .update_yaxes(autorange=\"reversed\")"
   ]
  },
  {
   "cell_type": "code",
   "execution_count": null,
   "metadata": {},
   "outputs": [],
   "source": [
    "df_greedy[\"soc\"].plot(template=template, labels={\"value\": \"SOC\"})"
   ]
  },
  {
   "cell_type": "code",
   "execution_count": null,
   "metadata": {},
   "outputs": [],
   "source": [
    "# TASK II.2: Berechnen Sie die sich nun ergebende Eigenverbrauchsquote und den Autraktiegrad des Haushalts mit Speicher. \n",
    "# Vergelichen Sie die Ergebnisse mirt der zuvor analysierten Situation ohne Speicher.\n"
   ]
  },
  {
   "cell_type": "code",
   "execution_count": null,
   "metadata": {},
   "outputs": [],
   "source": [
    "# TASK II.3: Berechnen Sie die nun auftretenden Stromkosten und ihre Ersparnisse gegenüber dem Referenzszenario.\n"
   ]
  },
  {
   "attachments": {},
   "cell_type": "markdown",
   "metadata": {},
   "source": [
    "## Feed-in damp Strategie\n",
    "\n",
    "Lassen Sie uns eine aus Stomnetz und Batteriealterungs-Sicht \"verbesserte\" Strategie entwerfen: die \"Feed-in Damp\" Strategie\n",
    "\n",
    "Im Falle der Greedy strategie füllt sich die Batterie insbesondere im Sommer bereits früh am Tage. So kann die Batterie Einspeisespitzen der PV-Analge (Rückspeisung ins Stromnetz) nicht effektiv verhindern - ein Netzausbau wird so schneller benötigt. Wir wollen daher die im Paper [Zeh & Witzman](https://doi.org/10.1016/j.egypro.2014.01.164) vorgestellte *feed-in damp* Strategie umsetzen. Nutzen sie (wie im Greedy Beispeil) eine Überprüfung der Residuallast, und laden bzw. entladen Sie den Speicher exakt wie zuvor diskutiert (Greedy Strategie). Nun soll jedoch der Speicher erst genau eine Stunde vor Sonnenuntergang zum Limit gefüllt werden  - die entsprechende Ladeleistung ergibt sich wie folgt:\n",
    "\n",
    "$$ P_{max, damp} = \\frac{E_{remaining}}{t_{sunset} - t_{now} - 1 \\text{ h}} $$\n",
    "\n",
    "Lassen Sie uns prüfen, ob Netzentlasung und Eigenverbrauchs-Erhöhung parallel gut möglich sind, soweit die Prognosedaten passend vorliegen."
   ]
  },
  {
   "attachments": {},
   "cell_type": "markdown",
   "metadata": {},
   "source": [
    "Die Schwierigkeit dieser Aufgabe liegt darin die Sunnenuntergangszeit für den jew. Tag und unseren Anlagenstandort passend zu berechnen. Zum Glück können wir uns an der enorm großen Anzahl an freien Programmbibliotheken (\"Package\") für Python bedienen.  Wir wählen hier das Package [*suntime*](https://github.com/SatAgro/suntime)"
   ]
  },
  {
   "cell_type": "code",
   "execution_count": null,
   "metadata": {},
   "outputs": [],
   "source": [
    "# documentation: https://github.com/SatAgro/suntime\n",
    "from suntime import Sun\n",
    "from datetime import timedelta, timezone"
   ]
  },
  {
   "attachments": {},
   "cell_type": "markdown",
   "metadata": {},
   "source": [
    "Im folgenden ein Beispiel zur Nutzung von suntime"
   ]
  },
  {
   "cell_type": "code",
   "execution_count": null,
   "metadata": {},
   "outputs": [],
   "source": [
    "# calculate sunset time for a particular location and date\n",
    "latitude = 47.7 # Daten für Kempten\n",
    "longitude = 10.31 # Daten für Kempten\n",
    "sun = Sun(latitude, longitude) \n",
    "\n",
    "# suntime returns time in UTC, so it has to be first translated to the local timezone\n",
    "sunset_time_utc   = sun.get_sunset_time()\n",
    "sunset_time_local = sunset_time_utc.astimezone(timezone(timedelta(hours=+1), name=\"Europe/Berlin\")) # \"Europe/Berlin\" timezone\n",
    "print(f\"UTC time:   \", sunset_time_utc)\n",
    "print(f\"Local time: \", sunset_time_local)"
   ]
  },
  {
   "cell_type": "code",
   "execution_count": null,
   "metadata": {},
   "outputs": [],
   "source": [
    "# calculate remainig time for the sunset\n",
    "day = profile.index[1]\n",
    "sunset_time = sun.get_sunset_time(day).replace(tzinfo=None) # delete timezone metadata to allow datetime-arithmetic\n",
    "offset = sunset_time - day\n",
    "print(offset)\n",
    "print(offset.seconds, \"s\") # offset in seconds"
   ]
  },
  {
   "attachments": {},
   "cell_type": "markdown",
   "metadata": {},
   "source": [
    "<div class=\"alert alert-block alert-info\">\n",
    "<b>Task III</b> Implementieren und analysieren Sie die feed-in damp Strategie:\n",
    "<ol>\n",
    "    <li> Immplementieren Sie die \"Feed-In Damping Strategie (FID)\"  für die Eigenverbrauchserhöhung. Erstellen Sie eine Funktion, die das \"profile\" dataframe sowie Speicherleistung und -Kapazität einliest und ein neues Dataframe mit den Zeitreihen für SOC und Batterieleistung ausgibt. Überprüfen Sie im gesamten Betreib, dass Leistung und SOC Limits nicht verletzt werden. Die Lade-/Entladeverluste sind abermals auf  95% zu setzen. </li>\n",
    "    <li> Berechnen Sie Eigenverbrauch und Autarkiegrad der FID Strategie. Vergleichen Sie zum Basisszenario. </li>\n",
    "    <li> Berechnen Sie die Elektrizitätskosten und die <i>Ersparnisse</i> ggü. dem Referenzfall. </li>\n",
    "</ol>\n",
    "</div>"
   ]
  },
  {
   "attachments": {},
   "cell_type": "markdown",
   "metadata": {},
   "source": [
    "<div class=\"alert alert-block alert-warning\">\n",
    "<b>Hinweis!</b> Nutzen Sie <i> suntime </i> zur Prognose des Sonnenuntergangs an einem jeweiligen Tag\n",
    "</div>"
   ]
  },
  {
   "cell_type": "code",
   "execution_count": null,
   "metadata": {},
   "outputs": [],
   "source": [
    "# Task III.1 Immplementieren Sie die \"Feed-In Damping Strategie (FID)\"  für die Eigenverbrauchserhöhung. \n",
    "# Erstellen Sie eine Funktion, die das \"profile\" dataframe sowie Speicherleistung und -Kapazität einliest und \n",
    "# ein neues Dataframe mit den Zeitreihen für SOC und Batterieleistung ausgibt.\n",
    "# Überprüfen Sie im gesamten Betrieb, dass Leistung und SOC Limits nicht verletzt werden. \n",
    "# Die Lade-/Entladeverluste sind abermals auf  95% zu setzen.\n",
    "def feedin_damp(profile, capacity, max_power, eff=0.95, initial_soc=0.0):\n",
    "    df = profile.copy() # make a new copy of the dataframe\n",
    "    # add new empty columns to the dataframe\n",
    "    df[\"grid\"] = 0.0   # grid power in kW\n",
    "    df[\"power\"] = 0.0  # battery power in kW\n",
    "    df[\"soc\"]  = 0.0   # battery SOC in p.u.\n",
    "    \n",
    "    # task\n",
    "    ..."
   ]
  },
  {
   "cell_type": "code",
   "execution_count": null,
   "metadata": {},
   "outputs": [],
   "source": [
    "df_damp = feedin_damp(profile, capacity=capacity, max_power=max_power) # this will also take some time to compute"
   ]
  },
  {
   "cell_type": "code",
   "execution_count": null,
   "metadata": {},
   "outputs": [],
   "source": [
    "df_damp[[\"residual\", \"grid\", \"power\"]].plot(template=template)"
   ]
  },
  {
   "cell_type": "code",
   "execution_count": null,
   "metadata": {},
   "outputs": [],
   "source": [
    "# task III.2: Berechnen Sie Eigenverbrauch und Autarkiegrad der FID Strategie. Vergleichen Sie zum Basisszenario."
   ]
  },
  {
   "cell_type": "code",
   "execution_count": null,
   "metadata": {},
   "outputs": [],
   "source": [
    "# task III.3: BBerechnen Sie die Elektrizitätskosten und die Ersparnisse ggü. dem Referenzfall."
   ]
  },
  {
   "attachments": {},
   "cell_type": "markdown",
   "metadata": {},
   "source": [
    "### Vergelich *Greedy* vs. *Feed-in Damp*\n",
    "\n",
    "Nachdem beide Strategien impementiert wurden, lassen sich noch zahlreiche Analysen und Darstellungen durchführen - wir werden diese in der Vorlesung aufgreifen..."
   ]
  },
  {
   "cell_type": "code",
   "execution_count": null,
   "metadata": {},
   "outputs": [],
   "source": [
    "dfbat = pd.concat([df_greedy[\"power\"].rename(\"power - greedy\"), df_damp[\"power\"].rename(\"power - feed-in damp\")], axis=1)\n",
    "dfbat.plot(template=template, labels={\"value\": \"Power [kW]\"})"
   ]
  },
  {
   "cell_type": "code",
   "execution_count": null,
   "metadata": {},
   "outputs": [],
   "source": [
    "dfbat.plot.hist(template=template, log_y=True, labels={\"value\": \"Power [kW]\"}).update_layout(barmode='overlay').update_traces(opacity=0.75)"
   ]
  },
  {
   "cell_type": "code",
   "execution_count": null,
   "metadata": {},
   "outputs": [],
   "source": [
    "dfsoc = pd.concat([df_greedy[\"soc\"].rename(\"soc - greedy\"), df_damp[\"soc\"].rename(\"soc - feed-in damp\")], axis=1)\n",
    "dfsoc.plot(template=template, labels={\"value\": \"SOC\"})"
   ]
  },
  {
   "cell_type": "code",
   "execution_count": null,
   "metadata": {},
   "outputs": [],
   "source": [
    "dfsoc.plot.hist(template=template, log_y=True, labels={\"value\": \"SOC\"}).update_layout(barmode='overlay').update_traces(opacity=0.75)"
   ]
  },
  {
   "cell_type": "code",
   "execution_count": null,
   "metadata": {},
   "outputs": [],
   "source": [
    "dfgrid = pd.concat([df_greedy[\"grid\"].rename(\"soc - greedy\"), df_damp[\"grid\"].rename(\"soc - feed-in damp\")], axis=1)\n",
    "dfgrid.plot(template=template, labels={\"value\": \"Power [kW]\"})"
   ]
  },
  {
   "cell_type": "code",
   "execution_count": null,
   "metadata": {},
   "outputs": [],
   "source": [
    "dfgrid.plot.hist(template=template, log_y=True, labels={\"value\": \"Grid power [kW]\"}).update_layout(barmode='overlay').update_traces(opacity=0.75)"
   ]
  },
  {
   "attachments": {},
   "cell_type": "markdown",
   "metadata": {},
   "source": [
    "<div class=\"alert alert-block alert-info\">\n",
    "<b> Task IV </b> Vergelichen Sie die Strategien - Listen Sie vor und Nachteile der jew. Strategien auf, aus Perspektive des Netzbetreibers und auch aus Sicht des Eigentümers.\n",
    "</div>"
   ]
  },
  {
   "cell_type": "markdown",
   "metadata": {},
   "source": [
    "1. Vorteile von Greedy ggü. FID aus Sicht des Eigentümers:\n",
    "- \n",
    "- \n",
    "- \n",
    "2. Nachteile von Greedy ggü. FID aus Sicht des Eigentümers:\n",
    "- \n",
    "- \n",
    "- \n",
    "3. Vorteile von Greedy ggü. FID aus Sicht des Netzbetreibers:\n",
    "- \n",
    "- \n",
    "- \n",
    "4. Nachteile von Greedy ggü. FID aus Sicht des Netzbetreibers:\n",
    "- \n",
    "- \n",
    "- \n"
   ]
  },
  {
   "cell_type": "code",
   "execution_count": null,
   "metadata": {},
   "outputs": [],
   "source": []
  }
 ],
 "metadata": {
  "kernelspec": {
   "display_name": "STAT_bat",
   "language": "python",
   "name": "python3"
  },
  "language_info": {
   "codemirror_mode": {
    "name": "ipython",
    "version": 3
   },
   "file_extension": ".py",
   "mimetype": "text/x-python",
   "name": "python",
   "nbconvert_exporter": "python",
   "pygments_lexer": "ipython3",
   "version": "3.8.19"
  }
 },
 "nbformat": 4,
 "nbformat_minor": 4
}
