{
 "cells": [
  {
   "cell_type": "markdown",
   "metadata": {},
   "source": [
    "# Peak shaving und Optimierung\n",
    "\n",
    "Das Stromnetz ist dimensioneiert, um einen zuverlässigen Dienst zu erfüllen und dennoch in Kosten beherschbar zu bleiben. Das bedeutet oft, dass die Komponenten so dimensioniert sind, dass sie den höchsten *zu erwartenden* Bedarf decken, auch wenn dieser nur selten auftritt. Hohe Lastspitzen sind unerwünscht, da sie zu einer überdimensionierten und teuren Infrastruktur führen, um Netzunterbrechungen zu vermeiden.\n",
    "\n",
    "Um Großverbraucher dazu zu bewegen, ihre Leistungsspitzen zu reduzieren, werden auf ihrer Stromrechnung neben den regulären Energieverbrauchskosten auch Gebühren für die während des Abrechnungszeitraums (z.B. ein Jahr, z.T. auch ein Monat) gemessene Höchstleistung ausgewiesen.\n",
    "Die Verbraucher könnten diesen \"Leistungspries\" senken, indem sie  z.B. ihr Verbrauchsverhalten anpassen und flexible Lasten in verbrauchsarmen Zeiten verschieben.\n",
    "Eine Alternative, ist die Nutzung eines Batteriespeichersystems, um die zeitliche Abfolge der Lastbedarfs zu verschieben und Spitzen abzufangen.\n",
    "Im Ergebnis kann ein Lastprofil \"abgeflacht\" werden, während der Verbrauch gleich bleibt (bzw. sich wegend des Eigenverbrauchs des Speichers leicht erhöt).\n",
    "\n",
    "In diesem Jupyter Notebook werden wir:\n",
    "* Das Peak-Shaving mittels Batteriespeicherals als Möglichkeit zur Reduzierung der Stromspitzenkosten genauer analysieren.\n",
    "* Lineare Optimierungsmodelle einsetzen, um eine *Steuerungsstrategie* für das Batteriesystem zur Spitzenlastreduzierung zu entwerfen.\n",
    "* Das o.g. Modell erweitern um eine Möglichkeit auch die *Dimensionierung* unseres Speichersystems zu optimieren."
   ]
  },
  {
   "cell_type": "code",
   "execution_count": null,
   "metadata": {},
   "outputs": [],
   "source": [
    "import pandas as pd\n",
    "import pyomo.environ as opt\n",
    "import plotly.graph_objects as go"
   ]
  },
  {
   "cell_type": "code",
   "execution_count": null,
   "metadata": {},
   "outputs": [],
   "source": [
    "pd.options.plotting.backend = \"plotly\"\n",
    "template = \"plotly_white\"\n",
    "# template = \"plotly_dark\""
   ]
  },
  {
   "cell_type": "markdown",
   "metadata": {},
   "source": [
    "## Use case - dataset and base-scenario definition\n",
    "For our example we take an historic load profile from HS Kempten Campus. For simplicity, we will consider a single billing period of 1 year."
   ]
  },
  {
   "cell_type": "code",
   "execution_count": null,
   "metadata": {
    "tags": []
   },
   "outputs": [],
   "source": [
    "# use 15 min time step:\n",
    "# optimization time:\n",
    "#   task 1:     25s\n",
    "#   task 2:     3m11s * 2\n",
    "# profile =df_15min\n",
    "\n",
    "# use 1h time step:\n",
    "# optimization time:\n",
    "#   task 1:     5s\n",
    "#   task 2:     28s * 2 \n",
    "dt = 1 # h\n",
    "\n",
    "if dt == 0.25:    \n",
    "    # load profile: version: 1h / 15 min time step version\n",
    "    profile = pd.read_csv(\"..\\data\\HSK\\HSK_22_15min.csv\", index_col=['time_date'], parse_dates=True).drop(columns=['Unnamed: 0','time']).rename(columns={'pUser': 'load'})\n",
    "\n",
    "if dt == 1:\n",
    "    # load profile: version: 1h / 15 min time step version\n",
    "    profile = pd.read_csv(\"..\\data\\HSK\\HSK_22_1h.csv\", index_col=0, parse_dates=True).rename(columns={'pUser': 'load'})\n",
    "\n",
    "profile.plot(template=template, labels={\"value\": \"Power [kW]\"})"
   ]
  },
  {
   "cell_type": "code",
   "execution_count": null,
   "metadata": {},
   "outputs": [],
   "source": [
    "profile=profile.head()"
   ]
  },
  {
   "cell_type": "code",
   "execution_count": null,
   "metadata": {},
   "outputs": [],
   "source": [
    "profile.plot(template=template, labels={\"value\": \"Power [kW]\"})\n"
   ]
  },
  {
   "cell_type": "markdown",
   "metadata": {},
   "source": [
    "<div class=\"alert alert-block alert-info\">\n",
    "<b>Task IV </b> Calculate energy consumption, peak power and the resulting electricity bill.\n",
    "</div>"
   ]
  },
  {
   "cell_type": "markdown",
   "metadata": {},
   "source": [
    "<div class=\"alert alert-block alert-warning\">\n",
    "<b>Hint!</b> Hint! Pay attention when converting power to energy. </li>\n",
    "</div>"
   ]
  },
  {
   "cell_type": "code",
   "execution_count": null,
   "metadata": {
    "scrolled": true
   },
   "outputs": [],
   "source": [
    "# cost\n",
    "electricity_cost =   0.12 # €/kWh\n",
    "peak_power_cost  = 120.00 # €/kW"
   ]
  },
  {
   "cell_type": "code",
   "execution_count": null,
   "metadata": {},
   "outputs": [],
   "source": [
    "# task IV: Calculate energy consumption, peak power and the resulting electricity bill.\n",
    "def baseline_analysis(profile, electricity_cost, peak_power_cost):\n",
    "    demand = profile.sum() * 0.25\n",
    "    peak = profile.max()\n",
    "    cost = demand * electricity_cost + peak * peak_power_cost\n",
    "    print(f\"Consumption: {demand:10.2f} kWh\")\n",
    "    print(f\"Peak power:  {peak:10.2f} kW\")\n",
    "    print(f\"Total costs: {cost:10.2f} €\")"
   ]
  },
  {
   "cell_type": "code",
   "execution_count": null,
   "metadata": {},
   "outputs": [],
   "source": [
    "print(\"--- without storage ---\")\n",
    "baseline_analysis(profile[\"load\"]-profile.pPV, electricity_cost, peak_power_cost)"
   ]
  },
  {
   "cell_type": "markdown",
   "metadata": {},
   "source": [
    "## Optimization model - Operation\n",
    "\n",
    "An energy storage system can reduce costs by performing peak shaving. But how exactly should it operate? \n",
    "\n",
    "We can define a target maximum power peak and charge or discharge the storage depending on if the load is currently above or below this threshold.\n",
    "Defining a peak target could be nonetheless difficult, if the threshold is too high the storage system may not be used at its full potential, if it is too low, the storage system would not be able to fulfil it.\n",
    "\n",
    "We can instead use mathematical optimization techniques to find the optimal storage charge/discharge schedule to best fulfill the task. The [*pyomo* library](https://www.pyomo.org/) allows us to easily formulate *linear programming* models with python."
   ]
  },
  {
   "attachments": {},
   "cell_type": "markdown",
   "metadata": {},
   "source": [
    "<div class=\"alert alert-block alert-info\">\n",
    "<b>Task V</b> Formulate and optimize the model\n",
    "<ol>\n",
    "    <li> Formulate the optimization problem in a markdown cell using \\( \\LaTeX \\). </li>\n",
    "    <li> Create a function <code>build_model</code> that takes storage system parameters <code>storage_params</code>, load profile <code>load_profile</code>, electricity costs <code>electricity_cost</code>, peak costs <code>peak_power_cost</code> and returns a pyomo optimization model <code>model</code>. </li>\n",
    "    <li> Build the model based on the given storage parameters and optimize it with the GLPK solver. </li>\n",
    "    <li> Recover the optimization results. Combine the time series results togther in a dataframe with the load profile. Make the following plots:\n",
    "    <ol>\n",
    "        <li> Load profile and grid power in the same plot. </li>\n",
    "        <li> Storage power. </li>\n",
    "        <li> Storage energy content or SOC. </li>\n",
    "    </ol>\n",
    "    </li>\n",
    "    <li> Calculate the new total consumption, peak-power and total costs. Evaluate the improvements against the scenario without storage system. </li>\n",
    "    \n",
    "</ol>\n",
    "</div>"
   ]
  },
  {
   "attachments": {},
   "cell_type": "markdown",
   "metadata": {},
   "source": [
    "<div class=\"alert alert-block alert-info\">\n",
    "TASK V.1: Formulate the optimization problem in a markdown cell using \\( \\LaTeX \\)\n",
    "\n",
    "<b>Hint!</b> Read the <a href=\"https://pyomo.readthedocs.io/en/stable/\">pyomo documentation</a>. </li>\n",
    "</div>"
   ]
  },
  {
   "cell_type": "markdown",
   "metadata": {},
   "source": [
    "$$\n",
    "\\begin{aligned}\n",
    "&\\min \\sum_{T}(p^{grid,buy}_t \\cdot \\Delta t) \\cdot k^{electricity} + p^{peak} \\cdot k^{peak} \\\\\n",
    "s.t.  &  \\\\\n",
    "0 &\\leq p^{ch}_t, \\leq p^{N} \\quad &\\forall t \\in T \\\\\n",
    "0 &\\leq p^{dch}_t, \\leq p^{N} \\quad &\\forall t \\in T \\\\\n",
    "E^N \\cdot SOC^{min} &\\leq E^{bess}_t \\leq E^N \\cdot SOC^{max} \\quad &\\forall t \\in T \\\\\n",
    "E^{bess}_t &= E^{bess}_{t-1} + p^{ch}_t \\Delta t \\cdot \\eta^{ch} - p^{dch}_t \\Delta t \\cdot (1/\\eta^{dch}) \\quad &\\forall t \\in T \\\\\n",
    "E^{bess}_{t=0} &= E^{N} \\cdot SOC^{init} \\\\ \n",
    "E^{bess}_{t=end} &\\geq E^{N} \\cdot SOC^{init} \\\\ \n",
    "p^{grid,buy}_t + p^{dch}_t &= p^{load}_t + p^{ch}_t \\quad &\\forall t \\in T \\\\\n",
    "p^{grid,buy}_t &\\geq 0 \\quad &\\forall t \\in T \\\\\n",
    "p^{peak} &\\geq 0  \\\\\n",
    "p^{grid,buy}_t &\\leq p^{peak} \\quad &\\forall t \\in T \\\\\n",
    "\\end{aligned}\n",
    "$$\n",
    "\n",
    "**Variables**: Energy charge state at $t$ timestep $E^{bess}$, charge power at $t$ timestep $p^{ch}_t$, discharge power at $t$ timestep $p^{ch}_t$, grid power supply at $t$ timestep $p^{grid,buy}_t$, peak power $p^{peak}$.\n",
    "\n",
    "**Parameters**: Storage system installed capacity $E^{N}$, storage system installed power $p^{N}$, electricity cost $k^{electricity}$, peak power cost $p^{peak}$, lower SOC limit $SOC^{min}$, upper SOC limit $SOC^{min}$, start SOC value $SOC^{init}$, charge efficiency $\\eta^{ch}$, discharge efficiency $\\eta^{dch}$, power demand at $t$ timestep $p^{load}_t$."
   ]
  },
  {
   "cell_type": "code",
   "execution_count": null,
   "metadata": {},
   "outputs": [],
   "source": [
    "# Storage parameters - Definition as \"Dictionary\"\n",
    "storage_params = {\n",
    "    \"capacity\": 200.0,  # kWh\n",
    "    \"power\": 200.0,      # kW\n",
    "\n",
    "    \"soc_bounds\": (0.1, 0.9),\n",
    "    \"soc_start\": 0.1,\n",
    "\n",
    "    \"effc\": 0.9,     # charge efficiency\n",
    "    \"effd\": 0.9,     # discharge efficiency\n",
    "}"
   ]
  },
  {
   "cell_type": "code",
   "execution_count": null,
   "metadata": {},
   "outputs": [],
   "source": [
    "storage_params[\"effc\"]"
   ]
  },
  {
   "attachments": {},
   "cell_type": "markdown",
   "metadata": {},
   "source": [
    "<div class=\"alert alert-block alert-info\">\n",
    "\n",
    "### Task V.2:  Create a function <code>build_model</code> that takes storage system parameters <code>storage_params</code>, load profile <code>load_profile</code>, electricity costs <code>electricity_cost</code>, peak costs <code>peak_power_cost</code> and returns a pyomo optimization model <code>model</code>.\n"
   ]
  },
  {
   "cell_type": "code",
   "execution_count": null,
   "metadata": {},
   "outputs": [],
   "source": [
    "# Task V.2: Build the model based on the given storage parameters and optimize it with the GLPK solver.\n",
    "def build_model(storage_params, load_profile, electricity_cost, peak_power_cost):\n",
    "    # Optimization model\n",
    "    model = opt.ConcreteModel()\n",
    "    ## =====  Parameters  ===== ##\n",
    "    n = len(load_profile)   # number of timesteps\n",
    "    model.time = opt.RangeSet(0, n-1) # T\n",
    "    capacity  = storage_params[\"capacity\"]\n",
    "    max_power = storage_params[\"power\"]\n",
    "    \n",
    "    soc_min, soc_max = storage_params[\"soc_bounds\"]\n",
    "    soc_start = storage_params[\"soc_start\"]\n",
    "\n",
    "    effc  = storage_params[\"effc\"]\n",
    "    effd  = storage_params[\"effd\"]\n",
    "\n",
    "\n",
    "    ## =====  Variables  ===== ##\n",
    "    # BESS: power charge/discharge, energy content\n",
    "    model.power_charge    = opt.Var(model.time, bounds=(0.0, max_power))\n",
    "    model.power_discharge = opt.Var(model.time, bounds=(0.0, max_power))\n",
    "    model.energy_bess     = opt.Var(model.time, bounds=(soc_min * capacity, soc_max * capacity))\n",
    "\n",
    "    # Grid: power, peak-power limit (for peak-shaving)\n",
    "    model.grid_power = opt.Var(model.time, within=opt.NonNegativeReals)\n",
    "    model.peak_power = opt.Var(within=opt.NonNegativeReals)\n",
    "    ## =====  Objective  ===== ##\n",
    "    model.obj = opt.Objective(sense=opt.minimize, rule=sum(model.grid_power) * dt * electricity_cost + model.peak_power * peak_power_cost)\n",
    "\n",
    "    ## ===== Constraints ===== ##\n",
    "    # SOC balance\n",
    "    def energy_balance_rule(m, t):\n",
    "        if t == m.time.first(): #\n",
    "            return m.energy_bess[t] == soc_start * capacity + dt * (effc * m.power_charge[t] - (1/effd) * m.power_discharge[t])\n",
    "        return m.energy_bess[t] == m.energy_bess[t-1] + dt * (effc * m.power_charge[t] - (1/effd) * m.power_discharge[t])\n",
    "    \n",
    "    model.constraint_energy_balance = opt.Constraint(model.time, rule=energy_balance_rule)\n",
    "\n",
    "    # SOC end conditions\n",
    "    # def energy_end_rule(m):\n",
    "    #     return m.energy_bess[m.time.last()] >= soc_start * capacity\n",
    "    # \n",
    "    # model.constraint_energy_end = opt.Constraint(rule=energy_end_rule)\n",
    "\n",
    "    # power balance\n",
    "    def power_balance_rule(m, t):\n",
    "        return m.grid_power[t] + m.power_discharge[t] - m.power_charge[t] == load_profile.pRes[t]\n",
    "\n",
    "    model.constraint_power_balance = opt.Constraint(model.time, rule=power_balance_rule)\n",
    "\n",
    "    # peak\n",
    "    def peak_power_rule(m, t):\n",
    "        return m.grid_power[t] <= m.peak_power\n",
    "    \n",
    "    model.constraint_peak_power = opt.Constraint(model.time, rule=peak_power_rule)\n",
    "    return model"
   ]
  },
  {
   "cell_type": "code",
   "execution_count": null,
   "metadata": {},
   "outputs": [],
   "source": [
    "# task V.3: build model\n",
    "model = build_model(\n",
    "    storage_params=storage_params, \n",
    "    load_profile=profile, \n",
    "    electricity_cost=electricity_cost, \n",
    "    peak_power_cost=peak_power_cost\n",
    ")"
   ]
  },
  {
   "cell_type": "code",
   "execution_count": null,
   "metadata": {},
   "outputs": [],
   "source": [
    "model.pprint()"
   ]
  },
  {
   "cell_type": "code",
   "execution_count": null,
   "metadata": {},
   "outputs": [],
   "source": [
    "solver = opt.SolverFactory('glpk')  # glpk is an open source LP solver"
   ]
  },
  {
   "cell_type": "code",
   "execution_count": null,
   "metadata": {},
   "outputs": [],
   "source": [
    "status = solver.solve(model, tee=True)"
   ]
  },
  {
   "cell_type": "code",
   "execution_count": null,
   "metadata": {},
   "outputs": [],
   "source": [
    "opt.value(model.power_charge[1])"
   ]
  },
  {
   "cell_type": "code",
   "execution_count": null,
   "metadata": {},
   "outputs": [],
   "source": [
    "# taskV.4: recover results\n",
    "def recover_results(model, profile):\n",
    "    df = profile.copy() # Solutions dataframe\n",
    "    df[\"BESS_power\"] = [opt.value(model.power_charge[t]) - opt.value(model.power_discharge[t]) for t in model.time]\n",
    "    df[\"BESS_energy\"] = [opt.value(model.energy_bess[t]) for t in model.time]\n",
    "    df[\"grid_power\"] = [opt.value(model.grid_power[t]) for t in model.time]\n",
    "    return df"
   ]
  },
  {
   "cell_type": "code",
   "execution_count": null,
   "metadata": {},
   "outputs": [],
   "source": [
    "# task V.4: plot results \n",
    "\n",
    "def plot_storage_power(profile, model):\n",
    "    powerc = [opt.value(model.power_charge[t]) for t in model.time]\n",
    "    powerd = [- opt.value(model.power_discharge[t]) for t in model.time]\n",
    "    \n",
    "    fig = go.Figure()\n",
    "    fig.update_layout(template=template)\n",
    "    fig.add_trace(go.Scatter(x=profile.index, y=powerc, name=\"Power charge\"))\n",
    "    fig.add_trace(go.Scatter(x=profile.index, y=powerd, name=\"Power discharge\"))\n",
    "    fig.update_yaxes(title=\"Power [kW]\")\n",
    "    fig.update_traces(line_shape=\"hv\")\n",
    "    return fig"
   ]
  },
  {
   "cell_type": "code",
   "execution_count": null,
   "metadata": {},
   "outputs": [],
   "source": [
    "# PLOT: residual Load profile and grid power in the same plot.\n",
    "solution = recover_results(model, profile)\n",
    "\n",
    "solution[[\"pRes\", \"grid_power\"]].plot(template=template, labels={\"value\": \"Power [kW]\"})"
   ]
  },
  {
   "cell_type": "code",
   "execution_count": null,
   "metadata": {},
   "outputs": [],
   "source": [
    "# PLOT:  Storage power. \n",
    "plot_storage_power(profile, model)"
   ]
  },
  {
   "cell_type": "code",
   "execution_count": null,
   "metadata": {},
   "outputs": [],
   "source": [
    "# PLOT:  Storage energy content or SOE (i.e. State of Energy).\n",
    "solution[\"BESS_energy\"].plot(template=template, labels={\"value\": \"Energy [kWh]\"})"
   ]
  },
  {
   "cell_type": "code",
   "execution_count": null,
   "metadata": {},
   "outputs": [],
   "source": [
    "def analyze_results(df, electricity_cost, peak_power_cost):\n",
    "    peak = df[\"pRes\"].max()\n",
    "    demand = df[\"pRes\"].sum() * 0.25\n",
    "    cost = demand * electricity_cost + peak * peak_power_cost\n",
    "    \n",
    "    opt_peak = df[\"grid_power\"].max()\n",
    "    opt_demand = df[\"grid_power\"].sum() * 0.25\n",
    "    opt_cost = opt_demand * electricity_cost + opt_peak * peak_power_cost\n",
    "    \n",
    "    delta_cost = (opt_cost - cost)/cost\n",
    "    delta_peak = (opt_peak - peak)/peak\n",
    "    delta_demand = (opt_demand - demand)/demand\n",
    "    \n",
    "    print(f\"Consumption: {opt_demand:10.2f} kWh ({delta_demand:+7.2%})\")\n",
    "    print(f\"Peak power:  {opt_peak:10.2f} kW  ({delta_peak:+7.2%})\")\n",
    "    print(f\"Total costs: {opt_cost:10.2f} €   ({delta_cost:+7.2%})\")\n"
   ]
  },
  {
   "cell_type": "code",
   "execution_count": null,
   "metadata": {},
   "outputs": [],
   "source": [
    "analyze_results(solution, electricity_cost, peak_power_cost)"
   ]
  },
  {
   "cell_type": "markdown",
   "metadata": {},
   "source": [
    "<div class=\"alert alert-block alert-success\">\n",
    "Weitere Tasks erst ab kommender Stunde!\n"
   ]
  },
  {
   "cell_type": "markdown",
   "metadata": {},
   "source": [
    "## System dimension\n",
    "\n",
    "We have succesfully optimized our storage operation to minimizes costs. This was done with a predefined system. But what if we find ourselfs on the planning stage, contemplating the idea of aquiring a storage system to perform peak shaving? The storage system comes with respective investment costs, so me might want to \n",
    "re-formulate the optimization problem with a further degree of freedom to find the best system size that minimizes the total costs.\n",
    "\n",
    "Two storage system are considered, their specific costs and efficiency are described in the following table:\n",
    "\n",
    "|                                   | Storage System 1  | Sotrage System 2  |\n",
    "|:---------------------------------:|:-----------------:|:-----------------:|\n",
    "| Specific capacity costs           | 50.00 €/kWh       | 15.00 €/kWh       |\n",
    "| Specific power costs              | 20.00 €/kW        | 45.00 €/kW        |\n",
    "| Efficiency charge ; discharge     | 95% ; 95%         | 90%  ; 90%        |"
   ]
  },
  {
   "attachments": {},
   "cell_type": "markdown",
   "metadata": {},
   "source": [
    "<div class=\"alert alert-block alert-info\">\n",
    "<b>Task!</b> Formulate and optimize the dimensioning model\n",
    "<ol>\n",
    "    <li> Formulate the optimal sizing problem in a markdown cell using \\( \\LaTeX \\). </li>\n",
    "    <li> Create a function <code>build_dimension_model</code> that takes storage system parameters <code>storage_params</code>, load profile <code>load_profile</code>, electricity costs <code>electricity_cost</code>, peak costs <code>peak_power_cost</code> and returns a pyomo optimization model <code>model</code>. </li>\n",
    "    <li> Build the model based on the given storage parameters and optimize it with the GLPK solver. </li>\n",
    "    <li> Recover the optimization results. Combine the load profile and the time series results of both storage systems in a dataframe. Make the following plots:\n",
    "    <ol>\n",
    "        <li> Load profile and grid power in the same plot. </li>\n",
    "        <li> Storage power. </li>\n",
    "        <li> Storage energy content or SOC. </li>\n",
    "    </ol>\n",
    "    </li>\n",
    "    <li> Calculate the new total consumption, peak-power and total costs for both systems. Which system would you choose? Give your arguments in a markdown cell. </li>\n",
    "    \n",
    "</ol>\n",
    "</div>"
   ]
  },
  {
   "attachments": {},
   "cell_type": "markdown",
   "metadata": {},
   "source": [
    "TASK 1: LATEX\n",
    "\n",
    "\n",
    "\n",
    "**Variables**: Storage system installed capacity $E^{N}$, storage system installed power $p^{N}$, energy charge state at $t$ timestep $E^{bess}$, charge power at $t$ timestep $p^{ch}_t$, discharge power at $t$ timestep $p^{ch}_t$, grid power supply at $t$ timestep $p^{grid,buy}_t$, peak power $p^{peak}$.\n",
    "\n",
    "**Parameters**: Energy capacity specific investment costs $k^{inv,E}$, power specific investment costs $k^{inv,E}$, electricity cost $k^{electricity}$, peak power cost $p^{peak}$, lower SOC limit $SOC^{min}$, upper SOC limit $SOC^{min}$, start SOC value $SOC^{init}$, charge efficiency $\\eta^{ch}$, discharge efficiency $\\eta^{dch}$, power demand at $t$ timestep $p^{load}_t$.\n"
   ]
  },
  {
   "cell_type": "code",
   "execution_count": null,
   "metadata": {},
   "outputs": [],
   "source": [
    "# Storage parameters\n",
    "storage1_params = {\n",
    "    \"capacity_cost\": 50.00,  # €/kWh\n",
    "    \"power_cost\": 20.00,     # €/kW\n",
    "\n",
    "    \"soc_bounds\": (0.1, 0.9),\n",
    "    \"soc_start\": 0.0,\n",
    "\n",
    "    \"effc\": 0.95,     # charge efficiency\n",
    "    \"effd\": 0.95,     # discharge efficiency\n",
    "}\n",
    "\n",
    "storage2_params = {\n",
    "    \"capacity_cost\": 15.00,  # €/kWh\n",
    "    \"power_cost\": 45.00,     # €/kW\n",
    "\n",
    "    \"soc_bounds\": (0.1, 0.9),\n",
    "    \"soc_start\": 0.0,\n",
    "\n",
    "    \"effc\": 0.9,     # charge efficiency\n",
    "    \"effd\": 0.9,     # discharge efficiency\n",
    "}"
   ]
  },
  {
   "cell_type": "code",
   "execution_count": null,
   "metadata": {},
   "outputs": [],
   "source": [
    "def build_dimension_model(storage_params, load_profile, electricity_cost, peak_power_cost):\n",
    "    # task\n",
    "    ...\n",
    "\n",
    "    return model"
   ]
  },
  {
   "cell_type": "code",
   "execution_count": null,
   "metadata": {},
   "outputs": [],
   "source": [
    "model_dim1 = build_dimension_model(\n",
    "    ...\n",
    ")\n",
    "\n"
   ]
  },
  {
   "cell_type": "code",
   "execution_count": null,
   "metadata": {},
   "outputs": [],
   "source": [
    "#solve model 1\n",
    "status = solver.solve(model_dim1, tee=True)"
   ]
  },
  {
   "cell_type": "code",
   "execution_count": null,
   "metadata": {},
   "outputs": [],
   "source": [
    "model_dim2 = build_dimension_model(\n",
    "    ...\n",
    ")"
   ]
  },
  {
   "cell_type": "code",
   "execution_count": null,
   "metadata": {},
   "outputs": [],
   "source": [
    "#solve model 2\n",
    "status = solver.solve(model_dim2, tee=True)"
   ]
  },
  {
   "cell_type": "code",
   "execution_count": null,
   "metadata": {},
   "outputs": [],
   "source": [
    "# recover results\n",
    "res_dim1 = recover_results(model_dim1, profile)\n",
    "res_dim2 = recover_results(model_dim2, profile)"
   ]
  },
  {
   "cell_type": "code",
   "execution_count": null,
   "metadata": {},
   "outputs": [],
   "source": [
    "res_dim1.head()"
   ]
  },
  {
   "cell_type": "code",
   "execution_count": null,
   "metadata": {},
   "outputs": [],
   "source": [
    "# task: analyze results\n",
    "def analyze_dimension_results(...):\n",
    "    # system dimension\n",
    "    ...\n",
    "    # operation\n",
    "    ...\n",
    "    \n",
    "    \n",
    "    print(f\"Installed capacity: {capacity:7.2f} kWh\")\n",
    "    print(f\"Installed power:    {power:7.2f} kW\")\n",
    "    print(f\"System costs:       {system_cost:7.2f} €\\n\")\n",
    "    \n",
    "    print(f\"Consumption: {opt_demand:10.2f} kWh ({delta_demand:+7.2%})\")\n",
    "    print(f\"Peak power:  {opt_peak:10.2f} kW  ({delta_peak:+7.2%})\")\n",
    "    print(f\"Total costs: {opt_cost:10.2f} €   ({delta_cost:+7.2%})\")\n"
   ]
  },
  {
   "cell_type": "code",
   "execution_count": null,
   "metadata": {},
   "outputs": [],
   "source": [
    "# task: analyze resuls\n",
    "print(\"--- storage 1 ---\")\n",
    "analyze_dimension_results(res_dim1, model_dim1, storage1_params, electricity_cost, peak_power_cost)\n",
    "print()\n",
    "print(\"--- storage 2 ---\")\n",
    "analyze_dimension_results(res_dim2, model_dim2, storage2_params, electricity_cost, peak_power_cost)"
   ]
  },
  {
   "cell_type": "code",
   "execution_count": null,
   "metadata": {},
   "outputs": [],
   "source": [
    "# task: plot results\n",
    "res_dim = res_dim1.join(res_dim2.drop(\"load\", axis=1), lsuffix='_1', rsuffix='_2')"
   ]
  },
  {
   "cell_type": "code",
   "execution_count": null,
   "metadata": {},
   "outputs": [],
   "source": [
    "res_dim.loc[:, [\"load\", \"grid_power_1\", \"grid_power_2\"]].plot(template=template)"
   ]
  },
  {
   "cell_type": "code",
   "execution_count": null,
   "metadata": {},
   "outputs": [],
   "source": [
    "res_dim.loc[:, [\"BESS_power_1\", \"BESS_power_2\"]].plot(template=template)"
   ]
  },
  {
   "cell_type": "markdown",
   "metadata": {},
   "source": [
    "TASK: add a short discussion of what you opserved"
   ]
  },
  {
   "cell_type": "markdown",
   "metadata": {},
   "source": []
  }
 ],
 "metadata": {
  "kernelspec": {
   "display_name": "Python 3 (ipykernel)",
   "language": "python",
   "name": "python3"
  },
  "language_info": {
   "codemirror_mode": {
    "name": "ipython",
    "version": 3
   },
   "file_extension": ".py",
   "mimetype": "text/x-python",
   "name": "python",
   "nbconvert_exporter": "python",
   "pygments_lexer": "ipython3",
   "version": "3.8.19"
  },
  "vscode": {
   "interpreter": {
    "hash": "6a41cf45b2bd78bebbe5ff69d73815f9ebec36634ee9b167acd479bf9a87d18c"
   }
  }
 },
 "nbformat": 4,
 "nbformat_minor": 4
}
