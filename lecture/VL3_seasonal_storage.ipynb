{
 "cells": [
  {
   "attachments": {},
   "cell_type": "markdown",
   "metadata": {},
   "source": [
    "# Vorlesung 4: Notebook Saisonale Speicherung\n",
    "\n",
    "This notebook explores large scale integration of renewables sources in our energy system. The challenges of the consequent supply and demand balance, and how seasonal storage might help."
   ]
  },
  {
   "cell_type": "code",
   "execution_count": null,
   "metadata": {},
   "outputs": [],
   "source": [
    "import numpy as np\n",
    "import pandas as pd\n",
    "import plotly.graph_objects as go"
   ]
  },
  {
   "cell_type": "code",
   "execution_count": null,
   "metadata": {},
   "outputs": [],
   "source": [
    "pd.options.plotting.backend = \"plotly\"\n",
    "template = \"plotly_white\"\n",
    "# template = \"plotly_dark\""
   ]
  },
  {
   "cell_type": "markdown",
   "metadata": {},
   "source": [
    "## Data\n",
    "We use again the [Open Power System Dataset](https://data.open-power-system-data.org/time_series) for our toy-model. First we load the dataset and take only the power demand and renewable generation profiles from Germany (in federal level)."
   ]
  },
  {
   "cell_type": "code",
   "execution_count": null,
   "metadata": {},
   "outputs": [],
   "source": [
    "data = pd.read_csv(\"../data/time_series_60min_singleindex_filtered.csv\", index_col=0, parse_dates=True)\n",
    "data.index = data.index.tz_convert(\"Europe/Berlin\") # convert timestap from UTC to local time"
   ]
  },
  {
   "cell_type": "code",
   "execution_count": null,
   "metadata": {},
   "outputs": [],
   "source": [
    "# function to filter and clean the dataset\n",
    "def tso_dataframe(profile, tso):\n",
    "    wind_columns = [\n",
    "        f\"{tso}_wind_onshore_generation_actual\",\n",
    "        f\"{tso}_wind_offshore_generation_actual\",\n",
    "    ]\n",
    "    wind_columns = profile.columns.intersection(wind_columns)   # some TSO regions have no offshore wind\n",
    "    df_wind = profile[wind_columns].sum(axis=1)\n",
    "    df_wind = df_wind.rename(\"wind\")\n",
    "\n",
    "    df_solar = profile[f\"{tso}_solar_generation_actual\"]\n",
    "    df_solar = df_solar.rename(\"solar\")\n",
    "\n",
    "    df_load = profile[f\"{tso}_load_actual_entsoe_transparency\"]\n",
    "    df_load = df_load.rename(\"load\")\n",
    "\n",
    "    df = pd.concat([df_load, df_solar, df_wind], axis=1) # join load, solar and wind data\n",
    "    return df"
   ]
  },
  {
   "cell_type": "code",
   "execution_count": null,
   "metadata": {
    "pycharm": {
     "name": "#%%\n"
    }
   },
   "outputs": [],
   "source": [
    "df_DE = tso_dataframe(data, \"DE\")"
   ]
  },
  {
   "cell_type": "code",
   "execution_count": null,
   "metadata": {},
   "outputs": [],
   "source": [
    "df_DE.head()"
   ]
  },
  {
   "cell_type": "markdown",
   "metadata": {},
   "source": [
    "## Residual load with increasing renewable penetration\n",
    "\n",
    "To achieve the goals of decarbonization, Germany and many countries around the world plan to continue integrating renewable power sources to the grid. While today, roughly a third of the electricity consumption is covered by solar and wind, [the German government is targeting](https://www.iea.org/reports/germany-2020) on providing 65% of electricity from renewable sources on 2030 and over 80% in 2050. In the long term a 100% share would be desirable. \n",
    "\n",
    "Let's explore how increasing today's installed capacity of renewables affects the energy supply/demand balance, and try to answer under the assumption of self-sufficient system (no imports/exports): how much more renewables are required, compared with today (factor)?"
   ]
  },
  {
   "cell_type": "markdown",
   "metadata": {},
   "source": [
    "### Residual load\n",
    "\n",
    "Just as in the previous notebook, let's take a look at the residual load $P_{res}$ for Germany in the year 2019. This gives us an insight on the current state of renewable technologies' integration in our system. For the year 2019, Germany completed an installed capacity of solar PV of around 30 GW and a wind-power installed capacity of about 45 GW, while its peak load reached over 76 GW."
   ]
  },
  {
   "cell_type": "code",
   "execution_count": null,
   "metadata": {},
   "outputs": [],
   "source": [
    "max_load = df_DE[\"load\"].max() / 1e3\n",
    "max_solar = df_DE[\"solar\"].max() / 1e3\n",
    "max_wind = df_DE[\"wind\"].max() / 1e3\n",
    "share = (df_DE[\"solar\"].sum() + df_DE[\"wind\"].sum()) / df_DE[\"load\"].sum() * 100\n",
    "\n",
    "print(\"Germany 2019:\")\n",
    "print(\"-------------\")\n",
    "print(f\"Peak load:                {max_load:.2f} GW\")\n",
    "print(f\"Solar installed capacity: {max_solar:.2f} GW\")\n",
    "print(f\"Wind installed capacity:  {max_wind:.2f} GW\")\n",
    "print(f\"Share of renewables:      {share:.2f} %\") # Share of renewables in gross electricity consumption"
   ]
  },
  {
   "cell_type": "code",
   "execution_count": null,
   "metadata": {},
   "outputs": [],
   "source": [
    "def residual(df):\n",
    "    df[\"residual\"] = df[\"load\"] - df[\"solar\"] - df[\"wind\"]\n",
    "    return df"
   ]
  },
  {
   "cell_type": "code",
   "execution_count": null,
   "metadata": {},
   "outputs": [],
   "source": [
    "def plot_residual_curves(df, **kwargs):\n",
    "    fig = go.Figure()\n",
    "    fig.update_layout(xaxis_title=\"Time [h]\", yaxis_title=\"Power [MW]\", **kwargs)\n",
    "    fig.add_trace(go.Scatter(x=np.arange(8760), y=np.zeros(8760), line={\"color\": \"grey\", \"dash\": \"dash\"}, opacity=0.7, showlegend=False, name=0))\n",
    "    for name, residual in df.items():\n",
    "        aggregated_residual = residual.sort_values(ascending=False).values\n",
    "        time_hours = np.arange(aggregated_residual.size)\n",
    "        fig.add_trace(go.Scatter(x=time_hours, y=aggregated_residual, name=name))\n",
    "    return fig\n"
   ]
  },
  {
   "cell_type": "code",
   "execution_count": null,
   "metadata": {},
   "outputs": [],
   "source": [
    "df_DE = residual(df_DE)"
   ]
  },
  {
   "cell_type": "code",
   "execution_count": null,
   "metadata": {},
   "outputs": [],
   "source": [
    "plot_residual_curves(df_DE[[\"residual\"]], title=\"Residual load duration curve (Germany, 2019)\", width=700, height=600, template=template)"
   ]
  },
  {
   "cell_type": "markdown",
   "metadata": {},
   "source": [
    "### Residual load with increasing renewables\n",
    "\n",
    "Now let's quantify, how the residual load shifts under different expansion scenarios."
   ]
  },
  {
   "cell_type": "code",
   "execution_count": null,
   "metadata": {
    "pycharm": {
     "name": "#%%\n"
    }
   },
   "outputs": [],
   "source": [
    "# function to re-calculate the residual with increasing wind and PV penetration, represented with scaled factors\n",
    "def scale_renewables(df, scales):\n",
    "    df_out = df[[\"residual\"]]\n",
    "    for scale in scales:\n",
    "        df_scaled = df.copy()\n",
    "        df_scaled[\"solar\"] *= scale\n",
    "        df_scaled[\"wind\"]  *= scale\n",
    "        residual(df_scaled)\n",
    "        df_scaled_res = df_scaled[\"residual\"].rename(f\"residual: scale x{scale}\")\n",
    "        df_out = pd.concat([df_out, df_scaled_res], axis=1)\n",
    "\n",
    "    return df_out"
   ]
  },
  {
   "cell_type": "code",
   "execution_count": null,
   "metadata": {},
   "outputs": [],
   "source": [
    "df_scaled=scale_renewables(df_DE, np.arange(2, 6))"
   ]
  },
  {
   "cell_type": "code",
   "execution_count": null,
   "metadata": {},
   "outputs": [],
   "source": [
    "plot_residual_curves(df_scaled, title=\"Residual load duration curve with increasing renewable penetration\", width=800, height=600, template=template)"
   ]
  },
  {
   "cell_type": "markdown",
   "metadata": {},
   "source": [
    "### Generation/consumption balance\n",
    "\n",
    "The residual load duration curves show a significant amount of *\"negative residuals\"* with increasing renewables. What this means in therms of deficit/surplus energy balance is shown in the following section."
   ]
  },
  {
   "cell_type": "code",
   "execution_count": null,
   "metadata": {
    "collapsed": false,
    "pycharm": {
     "name": "#%%\n"
    }
   },
   "outputs": [],
   "source": [
    "df_scaled=scale_renewables(df_DE, np.arange(1.5, 6.0, 0.5))"
   ]
  },
  {
   "cell_type": "code",
   "execution_count": null,
   "metadata": {},
   "outputs": [],
   "source": [
    "pd.concat([\n",
    "    df_scaled.sum().rename(\"Energy Balance [TWh]\") / 1e6, \n",
    "    df_scaled.min().rename(\"Min. Power [GW]\") / 1e3,\n",
    "    df_scaled.max().rename(\"Max. Power [GW]\") / 1e3\n",
    "    ], \n",
    "    axis=1\n",
    ")"
   ]
  },
  {
   "cell_type": "code",
   "execution_count": null,
   "metadata": {},
   "outputs": [],
   "source": [
    "# building a dataframe with columns \"demand\" & \"surplus\" that split the energy \n",
    "# deficit and surplus caused from the demand and renewable generation\n",
    "def energy_balance(df_scaled):\n",
    "    df = df_scaled[\"residual\"].copy()\n",
    "    deficit = list()\n",
    "    surplus = list()\n",
    "    names = list()\n",
    "    for name, df in df_scaled.items():\n",
    "        p = df.loc[df > 0].sum() / 1e6 # MWh -> TWh\n",
    "        n = df.loc[df < 0].sum() / 1e6\n",
    "        deficit.append(p)\n",
    "        surplus.append(n)\n",
    "        names.append(name)\n",
    "\n",
    "    return pd.DataFrame(data={\n",
    "        \"demand\": deficit,\n",
    "        \"surplus\": surplus,\n",
    "    }, index = names\n",
    "    )"
   ]
  },
  {
   "cell_type": "code",
   "execution_count": null,
   "metadata": {
    "collapsed": false,
    "pycharm": {
     "name": "#%%\n"
    }
   },
   "outputs": [],
   "source": [
    "energy_balance(df_scaled).plot.bar(template=template, labels={\"value\": \"Energy [TWh]\", \"index\": \"Scenario\"}, title=\"Energy balance with increasing grenewable penetration\")"
   ]
  },
  {
   "cell_type": "markdown",
   "metadata": {
    "collapsed": false,
    "pycharm": {
     "name": "#%% md\n"
    }
   },
   "source": [
    "In the reference year 2019, the residual load is still at all times `> 0`, no surplus occurs. Then, with an increasing factor of wind and PV penetration, we observe in the balance an increasing in surplus renewable supply and decreasing demand deficit. But even in the most aggressive scenario with `scale = 5.5` the renewables do not manage to by itself to cover the demand at all times, despite a huge excess of generation for most of the year. \n",
    "\n"
   ]
  },
  {
   "cell_type": "markdown",
   "metadata": {},
   "source": [
    "## Balancing residual load through gross storage\n",
    "\n",
    "We want to use energy storage to provide a 100 % supply from renewable energy sources. Let's estimate how much more renewables are needed (compared to the base scenario `\"2019\"`) and how big should the storage capacity be, to fulfill the requirements. "
   ]
  },
  {
   "cell_type": "code",
   "execution_count": null,
   "metadata": {},
   "outputs": [],
   "source": [
    "# First, set surplus production equal to residual energy demand (storage would have to be 100% efficient).\n",
    "res_frac = (df_DE[\"solar\"].sum() + df_DE[\"wind\"].sum()) / df_DE[\"load\"].sum()\n",
    "scale = 1 / res_frac\n",
    "print(f\"Factor: {scale:.2f} required scale to 100% renewable\")"
   ]
  },
  {
   "cell_type": "markdown",
   "metadata": {},
   "source": [
    "### Assuming an *\"ideal\"* storage system with no losses"
   ]
  },
  {
   "cell_type": "code",
   "execution_count": null,
   "metadata": {},
   "outputs": [],
   "source": [
    "# scale renewables for a 100 % renewable supply\n",
    "df_ideal_storage = df_DE.copy()\n",
    "df_ideal_storage[\"solar\"] *= scale\n",
    "df_ideal_storage[\"wind\"]  *= scale\n",
    "residual(df_ideal_storage)\n",
    "\n",
    "# derive storage need for balancing the residual load\n",
    "storage_power=-df_ideal_storage[\"residual\"]\n",
    "energy_level = storage_power.cumsum() * 1e6"
   ]
  },
  {
   "cell_type": "code",
   "execution_count": null,
   "metadata": {},
   "outputs": [],
   "source": [
    "storage_power.plot(template=template, labels={\"value\": \"Storage Power in MW\"})"
   ]
  },
  {
   "cell_type": "code",
   "execution_count": null,
   "metadata": {
    "collapsed": false,
    "pycharm": {
     "name": "#%%\n"
    }
   },
   "outputs": [],
   "source": [
    "energy_level.plot(template=template, labels={\"value\": \"Energy in Wh\"})"
   ]
  },
  {
   "cell_type": "code",
   "execution_count": null,
   "metadata": {
    "collapsed": false,
    "pycharm": {
     "name": "#%%\n"
    }
   },
   "outputs": [],
   "source": [
    "ideal_storage_cap=(energy_level.max() - energy_level.min())*1e-12\n",
    "print(f\"Ideal storage capacity in TWh: {ideal_storage_cap:.2f}\")"
   ]
  },
  {
   "cell_type": "markdown",
   "metadata": {
    "collapsed": false,
    "pycharm": {
     "name": "#%% md\n"
    }
   },
   "source": [
    "### Simulating a *\"real\"* storage with limited capacity, power and losses "
   ]
  },
  {
   "cell_type": "code",
   "execution_count": null,
   "metadata": {},
   "outputs": [],
   "source": [
    "# simulate the operation with a fixed storage capacity and power, and charge/discharge efficiency (eta_in, eta_out) \n",
    "# - which fraction of el. need can we cover with this type of storage\n",
    "def simulate_bucket_storage(df, capacity, max_p_stor, eta_in, eta_out):\n",
    "    df[\"energy\"] = 0   # energy\n",
    "    df[\"power_DC\"] = 0 # power to charge/discharge the storage\n",
    "    df[\"power_AC\"] = 0 # power from the grid perspective: account for losses\n",
    "\n",
    "    soe_old = capacity * 0.5 # initial state of energy\n",
    "    p_stor = 0\n",
    "    for i, row in df.iterrows():\n",
    "        # if i == df.index[0]:\n",
    "        #     row.soe = soe_old\n",
    "            # continue\n",
    "        if row.residual > 0:\n",
    "            # discharge\n",
    "            p_stor = row.residual / eta_out\n",
    "        else:\n",
    "            # charge\n",
    "            p_stor = max(row.residual * eta_in, - max_p_stor) # limit charge power\n",
    "        soe_new = soe_old - p_stor * 1            # power to energy for 1 hour sampling\n",
    "        soe_new = min(max(soe_new, 0), capacity)  # limit storage energy level\n",
    "        df.loc[i, \"power_DC\"] = soe_new - soe_old # real power considering SOE limits\n",
    "        if row.residual > 0:\n",
    "            power_ac = (soe_new - soe_old) * eta_out \n",
    "        else:\n",
    "            power_ac = (soe_new - soe_old) / eta_in\n",
    "        df.loc[i, \"power_AC\"] = power_ac # power \n",
    "        df.loc[i, \"energy\"] = soe_new\n",
    "        soe_old = soe_new\n",
    "\n",
    "    return df"
   ]
  },
  {
   "cell_type": "code",
   "execution_count": null,
   "metadata": {
    "collapsed": false,
    "pycharm": {
     "name": "#%%\n"
    }
   },
   "outputs": [],
   "source": [
    "scale = 3.7 # overdimension the renewables to compensate for losses\n",
    "df_PtG_storage = df_DE.copy()\n",
    "df_PtG_storage[\"solar\"] *= scale\n",
    "df_PtG_storage[\"wind\"]  *= scale\n",
    "residual(df_PtG_storage)\n",
    "\n",
    "df_PtG_storage = simulate_bucket_storage(df_PtG_storage, 20e6, 80e3, 0.6, 0.6)"
   ]
  },
  {
   "cell_type": "code",
   "execution_count": null,
   "metadata": {},
   "outputs": [],
   "source": [
    "df_PtG_storage[\"power_DC\"].plot(template=template, labels={\"value\": \"Power [MW]\"})"
   ]
  },
  {
   "cell_type": "code",
   "execution_count": null,
   "metadata": {
    "collapsed": false,
    "pycharm": {
     "name": "#%%\n"
    }
   },
   "outputs": [],
   "source": [
    "df_PtG_storage[\"energy\"].plot(template=template, labels={\"value\": \"Energy [MWh]\"})"
   ]
  },
  {
   "cell_type": "code",
   "execution_count": null,
   "metadata": {},
   "outputs": [],
   "source": [
    "# Analyse der Leistung und des Anteils der Energie, der abgeregelt wurde bzw. nicht gespeichert werden konnte\n",
    "df_PtG_storage[\"storage power\"] =  -df_PtG_storage[\"power_AC\"]\n",
    "df_PtG_storage[[\"residual\", \"storage power\"]].plot(template=template, labels={\"value\": \"Power [MW]\"})"
   ]
  },
  {
   "cell_type": "code",
   "execution_count": null,
   "metadata": {},
   "outputs": [],
   "source": [
    "fulfillment = (df_PtG_storage[\"storage power\"] / df_PtG_storage[\"residual\"]).sum() / df_PtG_storage.shape[0]\n",
    "print(f\"Fulfillment factor: {fulfillment*100:.2f} %\")"
   ]
  },
  {
   "cell_type": "code",
   "execution_count": null,
   "metadata": {},
   "outputs": [],
   "source": [
    "balance = (df_PtG_storage[df_PtG_storage[\"residual\"] >0][\"residual\"].sum() / df_PtG_storage[df_PtG_storage[\"residual\"] <0][\"residual\"].abs().sum())\n",
    "print(f\"Balance demand/surplus: {balance*100:.2f} %\")"
   ]
  },
  {
   "cell_type": "markdown",
   "metadata": {},
   "source": [
    "## Analysis of storage operations and considerations for hybrid storage solutions\n",
    "\n",
    "As discussed in this lecture, there is no one-fits-all energy storage solution. Instead, the optimal results from a combination of different technologies, each with their own advantages and shortcoming: specific capacity/power costs, efficiency and power ramp dynamics.\n",
    "\n",
    "To emulate the combination of different storage technologies we assume they take care of 3 different time intervals:\n",
    "* Long-term (week-average)\n",
    "* Mid-term (day-average)\n",
    "* Short-term (real-time)\n",
    "\n",
    "What are the new capacity requirements? And what is the characteristic operation for each technology?"
   ]
  },
  {
   "cell_type": "code",
   "execution_count": null,
   "metadata": {},
   "outputs": [],
   "source": [
    "# We create a copy of the residual load data and store the rolling average\n",
    "df_tech = df_ideal_storage[[\"residual\"]].copy()\n",
    "df_tech[\"energy\"] = df_tech[\"residual\"].cumsum() * 1e-6"
   ]
  },
  {
   "cell_type": "code",
   "execution_count": null,
   "metadata": {},
   "outputs": [],
   "source": [
    "df_tech[\"energy_week_roll\"] = df_tech[\"energy\"].rolling(pd.Timedelta(days=7)).mean()\n",
    "df_tech[[\"energy\", \"energy_week_roll\"]].plot(template=template, labels={\"value\": \"Energy in TWh\"})"
   ]
  },
  {
   "cell_type": "code",
   "execution_count": null,
   "metadata": {},
   "outputs": [],
   "source": [
    "# der Rollierende Mittelwert wird über verschiedene Mittlungs-Zeiträume gespeichert\n",
    "df_tech[\"energy_delta_week_roll\"] = df_tech[\"energy\"] - df_tech[\"energy_week_roll\"]\n",
    "# df_tech[[\"energy\", \"energy_delta_week_roll\"]].plot(template=template)\n",
    "\n",
    "df_tech[\"energy_day_roll\"] = df_tech[\"energy_delta_week_roll\"].rolling(pd.Timedelta(days=1)).mean()\n",
    "df_tech[\"energy_delta_day_roll\"] = df_tech[\"energy_delta_week_roll\"] - df_tech[\"energy_day_roll\"]\n",
    "# df_tech[[\"energy\", \"energy_delta_week_roll\", \"energy_delta_day_roll\"]].plot(template=template)\n",
    "\n",
    "df_tech[\"energy_hour_roll\"] = df_tech[\"energy\"] - (df_tech[\"energy_day_roll\"] + df_tech[\"energy_week_roll\"])\n",
    "# df_tech[\"energy_hour_roll\"].plot(template=template)"
   ]
  },
  {
   "cell_type": "code",
   "execution_count": null,
   "metadata": {},
   "outputs": [],
   "source": [
    "df_tech[\"energy week + day\"] = df_tech[\"energy_week_roll\"] + df_tech[\"energy_day_roll\"] # + df_tech[\"energy_hour_roll\"]\n",
    "df_tech[[\"energy\", \"energy week + day\"]].plot(template=template)"
   ]
  },
  {
   "cell_type": "code",
   "execution_count": null,
   "metadata": {},
   "outputs": [],
   "source": [
    "df_tech[[\"energy_hour_roll\", \"energy_day_roll\", \"energy_week_roll\"]].plot(\n",
    "    template=template, \n",
    "    labels={\"value\": \"Energy in TWh\"}\n",
    ")"
   ]
  },
  {
   "cell_type": "code",
   "execution_count": null,
   "metadata": {},
   "outputs": [],
   "source": [
    "# Energy need\n",
    "df_tech[[\"energy\", \"energy_hour_roll\", \"energy_day_roll\", \"energy_week_roll\"]].abs().max()"
   ]
  },
  {
   "cell_type": "code",
   "execution_count": null,
   "metadata": {},
   "outputs": [],
   "source": [
    "# Energy throughput\n",
    "df_tech[[\"energy\", \"energy_hour_roll\", \"energy_day_roll\", \"energy_week_roll\"]].diff().abs().sum()"
   ]
  },
  {
   "cell_type": "code",
   "execution_count": null,
   "metadata": {},
   "outputs": [],
   "source": [
    "# Power max\n",
    "df_tech[[\"energy\", \"energy_hour_roll\", \"energy_day_roll\", \"energy_week_roll\"]].diff().abs().max()"
   ]
  },
  {
   "cell_type": "code",
   "execution_count": null,
   "metadata": {},
   "outputs": [],
   "source": [
    "# power time-series\n",
    "df_tech[[\"energy\", \"energy_hour_roll\", \"energy_day_roll\", \"energy_week_roll\"]].diff().plot(template=template, labels={\"value\": \"Power [TW]\"})"
   ]
  },
  {
   "cell_type": "code",
   "execution_count": null,
   "metadata": {},
   "outputs": [],
   "source": [
    "# Analysis of the energy levels of the hybrid storage\n",
    "df_tech[[\"energy_week_roll\", \"energy_day_roll\", \"energy_hour_roll\"]].plot.hist(labels={\"value\": \"Energy [TWh]\"}).update_layout(barmode='overlay').update_traces(opacity=0.75)\n"
   ]
  },
  {
   "cell_type": "code",
   "execution_count": null,
   "metadata": {},
   "outputs": [],
   "source": [
    "# Analyse of the driven power\n",
    "df_tech[[\"energy_week_roll\", \"energy_day_roll\", \"energy_hour_roll\"]].diff().plot.hist(labels={\"value\": \"Power [TW]\"}).update_layout(barmode='overlay').update_traces(opacity=0.75)"
   ]
  },
  {
   "cell_type": "code",
   "execution_count": null,
   "metadata": {},
   "outputs": [],
   "source": [
    "# function to find \n",
    "def group_cluster(series):\n",
    "    df = series.to_frame()\n",
    "    counter = 0\n",
    "    first_zero = True\n",
    "    df[\"tag\"] = 0\n",
    "\n",
    "    for i, v in series.items():\n",
    "        if v == 0:\n",
    "            t = 0\n",
    "            if first_zero:\n",
    "                counter += 1\n",
    "                first_zero = False\n",
    "        else:\n",
    "            t = counter\n",
    "            first_zero = True\n",
    "\n",
    "        df.loc[i, \"tag\"] = t\n",
    "\n",
    "    return df.groupby(\"tag\")"
   ]
  },
  {
   "cell_type": "code",
   "execution_count": null,
   "metadata": {},
   "outputs": [],
   "source": [
    "groups = dict()\n",
    "for name, series in df_tech[[\"energy_week_roll\", \"energy_day_roll\", \"energy_hour_roll\"]].diff().items():\n",
    "    df = pd.Series([max(v, 0) for v in series], name=name)\n",
    "    groups[name] = group_cluster(df)"
   ]
  },
  {
   "cell_type": "code",
   "execution_count": null,
   "metadata": {},
   "outputs": [],
   "source": [
    "# amount of energy\n",
    "sums = pd.DataFrame()\n",
    "for name, group in groups.items():\n",
    "    group_sum = group.sum()[name]\n",
    "    group_sum = group_sum.loc[group_sum.index != 0]\n",
    "    group_sum = group_sum.sort_values(ascending=False).reset_index(drop=True)\n",
    "    # group_sum = group_sum.reset_index(drop=True)\n",
    "    sums = pd.concat([sums, group_sum], axis=1)"
   ]
  },
  {
   "cell_type": "code",
   "execution_count": null,
   "metadata": {},
   "outputs": [],
   "source": [
    "sums.plot.bar(facet_row=\"variable\", height=600, labels={\"value\": \"Energy [MWh]\", \"index\": \"counts\"})"
   ]
  },
  {
   "cell_type": "code",
   "execution_count": null,
   "metadata": {},
   "outputs": [],
   "source": [
    "# time duration\n",
    "durations = pd.DataFrame()\n",
    "for name, group in groups.items():\n",
    "    group_count = group.count()[name]\n",
    "    group_count = group_count.loc[group_count.index != 0]\n",
    "    group_count = group_count.sort_values(ascending=False).reset_index(drop=True)\n",
    "    # group_count = group_count.reset_index(drop=True)\n",
    "    durations = pd.concat([durations, group_count], axis=1)"
   ]
  },
  {
   "cell_type": "code",
   "execution_count": null,
   "metadata": {},
   "outputs": [],
   "source": [
    "durations.plot.bar(facet_row=\"variable\", height=600, labels={\"value\": \"Duration [h]\", \"index\": \"counts\"})"
   ]
  },
  {
   "cell_type": "code",
   "execution_count": null,
   "metadata": {},
   "outputs": [],
   "source": []
  }
 ],
 "metadata": {
  "interpreter": {
   "hash": "6a41cf45b2bd78bebbe5ff69d73815f9ebec36634ee9b167acd479bf9a87d18c"
  },
  "kernelspec": {
   "display_name": "Python 3.9.7 ('nse-nb2')",
   "language": "python",
   "name": "python3"
  },
  "language_info": {
   "codemirror_mode": {
    "name": "ipython",
    "version": 3
   },
   "file_extension": ".py",
   "mimetype": "text/x-python",
   "name": "python",
   "nbconvert_exporter": "python",
   "pygments_lexer": "ipython3",
   "version": "3.8.16"
  }
 },
 "nbformat": 4,
 "nbformat_minor": 2
}
