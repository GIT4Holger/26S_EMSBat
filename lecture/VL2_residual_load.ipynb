{
 "cells": [
  {
   "attachments": {},
   "cell_type": "markdown",
   "metadata": {},
   "source": [
    "# Vorlesung 3: Erneuerbare und Speicheroptionen\n",
    "## Übersicht Residuallast und Ausblick Speicherbedarf\n",
    "\n",
    "In diesem Notebook werden Daten zur Stromerzeugung / -verbrauch in Deutschlangd analysiert (Quelle: Open Power System Data) "
   ]
  },
  {
   "cell_type": "code",
   "execution_count": null,
   "metadata": {},
   "outputs": [],
   "source": [
    "import pandas as pd\n",
    "import numpy as np\n",
    "import plotly.graph_objects as go"
   ]
  },
  {
   "cell_type": "code",
   "execution_count": null,
   "metadata": {},
   "outputs": [],
   "source": [
    "# Plotting options\n",
    "pd.options.plotting.backend = \"plotly\"\n",
    "template = \"plotly_white\"\n",
    "# template = \"plotly_dark\""
   ]
  },
  {
   "cell_type": "markdown",
   "metadata": {},
   "source": [
    "## Data\n",
    "To explore this relation, we will use the time-series dataset from the Open Power System Data Based: [https://data.open-power-system-data.org/time_series](https://data.open-power-system-data.org/time_series)\n",
    "\n",
    "It is curated from data published by ENTSO-E and includes load and renewable generation profiles from various regions within the European synchronized network. For now, we will focus on Germany in the year 2019."
   ]
  },
  {
   "cell_type": "code",
   "execution_count": null,
   "metadata": {},
   "outputs": [],
   "source": [
    "data = pd.read_csv(\"../data/time_series_60min_singleindex_filtered.csv\", index_col=0, parse_dates=True)\n",
    "data.index = data.index.tz_convert(\"Europe/Berlin\") # convert timestap from UTC to local time"
   ]
  },
  {
   "cell_type": "code",
   "execution_count": null,
   "metadata": {},
   "outputs": [],
   "source": [
    "# function to extract and pre-process the dataset for one specific region (a country or TSO).\n",
    "def tso_dataframe(df, tso):\n",
    "    wind_columns = [\n",
    "        f\"{tso}_wind_onshore_generation_actual\",\n",
    "        f\"{tso}_wind_offshore_generation_actual\",\n",
    "    ]\n",
    "    wind_columns = df.columns.intersection(wind_columns)   # some TSO regions have no offshore wind\n",
    "    df_wind = df[wind_columns].sum(axis=1)                 # aggregate on- and off-shore wind generation\n",
    "    df_wind = df_wind.rename(\"wind\")\n",
    "\n",
    "    df_solar = df[f\"{tso}_solar_generation_actual\"]\n",
    "    df_solar = df_solar.rename(\"solar\")\n",
    "\n",
    "    df_load = df[f\"{tso}_load_actual_entsoe_transparency\"]\n",
    "    df_load = df_load.rename(\"load\")\n",
    "\n",
    "    df = pd.concat([df_load, df_solar, df_wind], axis=1) # join load, solar and wind data\n",
    "    return df"
   ]
  },
  {
   "cell_type": "markdown",
   "metadata": {},
   "source": [
    "## Electricity demand and renewable generation in Germany.\n",
    "\n",
    "The intermittent nature of renewable generation and the inflexible electricity consumption make it difficult to fit one into each other. Let's explore their temporal relationships. We can do so, by plotting the data in the form of time series, heatmaps and histograms."
   ]
  },
  {
   "cell_type": "code",
   "execution_count": null,
   "metadata": {},
   "outputs": [],
   "source": [
    "# read the 'Germany' dataset\n",
    "df_DE = tso_dataframe(data, \"DE\")"
   ]
  },
  {
   "cell_type": "code",
   "execution_count": null,
   "metadata": {},
   "outputs": [],
   "source": [
    "df_DE"
   ]
  },
  {
   "cell_type": "code",
   "execution_count": null,
   "metadata": {},
   "outputs": [],
   "source": [
    "# function to plot load profile and aggregated renewable generation profiles\n",
    "def plot_load_generation(df, **kwargs):\n",
    "    fig = go.Figure()\n",
    "    fig.update_layout(xaxis_title=\"Time\", yaxis_title=\"Power [MW]\", **kwargs)\n",
    "    fig.add_trace(go.Scatter(x=df.index, y=df[\"load\"],  name=\"load\"))\n",
    "    fig.add_trace(go.Scatter(x=df.index, y=df[\"solar\"], name=\"solar\", stackgroup=\"renewables\"))\n",
    "    fig.add_trace(go.Scatter(x=df.index, y=df[\"wind\"],  name=\"wind\",  stackgroup=\"renewables\"))\n",
    "    if \"residual\" in df.columns:\n",
    "        fig.add_trace(go.Scatter(x=df.index, y=df[\"residual\"],  name=\"residual\"))\n",
    "\n",
    "    return fig"
   ]
  },
  {
   "cell_type": "code",
   "execution_count": null,
   "metadata": {},
   "outputs": [],
   "source": [
    "# function to plot heatmaps\n",
    "def datetime_heatmap(df):\n",
    "    fig = go.Figure(data=go.Heatmap(\n",
    "        z=df,\n",
    "        x=df.index.date,\n",
    "        y=df.index.time,\n",
    "        colorscale='RdBu_r'\n",
    "    ))\n",
    "    return fig"
   ]
  },
  {
   "cell_type": "code",
   "execution_count": null,
   "metadata": {},
   "outputs": [],
   "source": [
    "plot_load_generation(df_DE.loc[\"2019-07\"], template=template)"
   ]
  },
  {
   "cell_type": "code",
   "execution_count": null,
   "metadata": {},
   "outputs": [],
   "source": [
    "datetime_heatmap(df_DE[\"load\"]).update_layout(template=template, title=\"Power demand [MW] - Germany 2019\")"
   ]
  },
  {
   "cell_type": "code",
   "execution_count": null,
   "metadata": {},
   "outputs": [],
   "source": [
    "datetime_heatmap(df_DE[\"wind\"]).update_layout(template=template, title=\"Wind power generation [MW]- Germany 2019\")"
   ]
  },
  {
   "cell_type": "code",
   "execution_count": null,
   "metadata": {},
   "outputs": [],
   "source": [
    "datetime_heatmap(df_DE[\"solar\"]).update_layout(template=template, title=\"Solar power generation [MW] - Germany 2019\")"
   ]
  },
  {
   "cell_type": "code",
   "execution_count": null,
   "metadata": {},
   "outputs": [],
   "source": [
    "df_DE[[\"wind\", \"solar\"]].plot.hist(template=template, log_y=True, histnorm=\"percent\", labels={\"value\": \"Power [MW]\"}).update_layout(barmode='overlay').update_traces(opacity=0.75)"
   ]
  },
  {
   "attachments": {},
   "cell_type": "markdown",
   "metadata": {},
   "source": [
    "## Residual load\n",
    "\n",
    "Now that we have examined their individual features, let's see how load and renewable generation stand against each other. Our metric is the residual load, which is defined by subtracting the renewable generation to the power demand.\n",
    "\n",
    "$$P_{res}(t) = P_{load}(t) - P_{solar}(t) - P_{wind}(t) \\qquad \\text{(F 1.7)}$$\n",
    "\n",
    "From that we can derive the residual load duration curve, which may give us an insight into the relative magnitude and the utilization of the renewable generation."
   ]
  },
  {
   "cell_type": "code",
   "execution_count": null,
   "metadata": {},
   "outputs": [],
   "source": [
    "# function to add residual in a new column\n",
    "def add_residual(df):\n",
    "    df[\"residual\"] = df[\"load\"] - df[\"solar\"] - df[\"wind\"]\n",
    "    return df"
   ]
  },
  {
   "cell_type": "code",
   "execution_count": null,
   "metadata": {},
   "outputs": [],
   "source": [
    "df_DE = add_residual(df_DE)"
   ]
  },
  {
   "cell_type": "code",
   "execution_count": null,
   "metadata": {},
   "outputs": [],
   "source": [
    "plot_load_generation(df_DE.loc[\"2019-07\"], template=template)"
   ]
  },
  {
   "cell_type": "code",
   "execution_count": null,
   "metadata": {},
   "outputs": [],
   "source": [
    "# function to plot the residual load duration curve for Germany\n",
    "def plot_residual_curve_DE(df, **kwargs):\n",
    "    fig = go.Figure()\n",
    "    fig.update_layout(title=\"Residual load duration curve - 2019\", xaxis_title=\"Time [h]\", yaxis_title=\"Power [MW]\", width=800, height=600, **kwargs)\n",
    "    fig.add_trace(go.Scatter(x=np.arange(8760), y=np.zeros(8760), line={\"color\": \"grey\", \"dash\": \"dash\"}, opacity=0.7, showlegend=False))\n",
    "    # fig.update_yaxes(exponentformat=\"power\")\n",
    "    aggregated_residual = df[\"residual\"].sort_values(ascending=False).values\n",
    "    time_hours = np.arange(aggregated_residual.size)\n",
    "    fig.add_trace(go.Scatter(x=time_hours, y=aggregated_residual, name=\"Germany\", line={\"color\": \"#19d3f3\"}))\n",
    "    return fig"
   ]
  },
  {
   "cell_type": "code",
   "execution_count": null,
   "metadata": {},
   "outputs": [],
   "source": [
    "plot_residual_curve_DE(df_DE, template=template)"
   ]
  },
  {
   "cell_type": "markdown",
   "metadata": {},
   "source": [
    "## Electricty demand and renewable generation in Germany - Regional level\n",
    "\n",
    "<img src=\"https://upload.wikimedia.org/wikipedia/commons/8/82/Regelzonen_mit_%C3%9Cbertragungsnetzbetreiber_in_Deutschland.png\" align=\"left\" width=\"400\" alt=\"DE-TSOs-map\">\n",
    "\n",
    "On the figure left we can see the landscape of the Transmission system operators (TSOs) in Germany. The four TSOs in Germany are:\n",
    "- Amprion\n",
    "- Tennet\n",
    "- Transnet BW\n",
    "- 50hertz\n",
    "\n",
    "Each TSO is responsible for providing the electric power transmission in their corresponding region and securing the reliability of the system by coordinating the operations and managing their power transmission infrastructure.\n",
    "\n",
    "Disaggregating the data and can give us an insight on how the German power sector works in a regional level. Let's take a look and plot the residual load duration curve to compare."
   ]
  },
  {
   "cell_type": "code",
   "execution_count": null,
   "metadata": {},
   "outputs": [],
   "source": [
    "# create a dictionary with a dataframe to each TSO\n",
    "df_tso = {tso: tso_dataframe(data, tso) for tso in (\"DE_tennet\", \"DE_50hertz\", \"DE_amprion\", \"DE_transnetbw\")}\n",
    "df_tso[\"Germany\"] = df_DE # also include the Germany-wide aggregated data"
   ]
  },
  {
   "cell_type": "code",
   "execution_count": null,
   "metadata": {},
   "outputs": [],
   "source": [
    "# 50hertz's demand and generation in July 2019 as an example\n",
    "plot_load_generation(df_tso[\"DE_50hertz\"].loc[\"2019-07\"], template=template)"
   ]
  },
  {
   "cell_type": "code",
   "execution_count": null,
   "metadata": {},
   "outputs": [],
   "source": [
    "# calculate the residual to all TSOs\n",
    "df_tso = {tso: add_residual(df) for tso, df in df_tso.items()}"
   ]
  },
  {
   "cell_type": "code",
   "execution_count": null,
   "metadata": {},
   "outputs": [],
   "source": [
    "# function to plot the residual load duration curve for the TSOs\n",
    "def plot_residual_curve(profiles, year=\"2019\", **kwargs):\n",
    "    fig = go.Figure()\n",
    "    fig.update_layout(title=\"Residual load duration curve - \"+year, xaxis_title=\"Time [h]\", yaxis_title=\"Power [MW]\", width=800, height=600, **kwargs)\n",
    "    fig.add_trace(go.Scatter(x=np.arange(8760), y=np.zeros(8760), line={\"color\": \"grey\", \"dash\": \"dash\"}, opacity=0.7, showlegend=False, name=0))\n",
    "    # fig.update_yaxes(exponentformat=\"power\")\n",
    "    for tso, df in profiles.items():\n",
    "        aggregated_residual = df.loc[year, \"residual\"].sort_values(ascending=False).values\n",
    "        time_hours = np.arange(aggregated_residual.size)\n",
    "        fig.add_trace(go.Scatter(x=time_hours, y=aggregated_residual, name=tso))\n",
    "    return fig"
   ]
  },
  {
   "cell_type": "code",
   "execution_count": null,
   "metadata": {},
   "outputs": [],
   "source": [
    "plot_residual_curve(df_tso, template=template)"
   ]
  }
 ],
 "metadata": {
  "interpreter": {
   "hash": "8062df7c7545cf17a5e2a2318fdc0042fe07269ff0e9060ce028d79e49f182e9"
  },
  "kernelspec": {
   "display_name": "Python 3 (ipykernel)",
   "language": "python",
   "name": "python3"
  },
  "language_info": {
   "codemirror_mode": {
    "name": "ipython",
    "version": 3
   },
   "file_extension": ".py",
   "mimetype": "text/x-python",
   "name": "python",
   "nbconvert_exporter": "python",
   "pygments_lexer": "ipython3",
   "version": "3.8.16"
  }
 },
 "nbformat": 4,
 "nbformat_minor": 4
}
