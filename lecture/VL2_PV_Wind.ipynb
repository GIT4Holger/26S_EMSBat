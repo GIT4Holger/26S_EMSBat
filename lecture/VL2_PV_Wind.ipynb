{
 "cells": [
  {
   "attachments": {},
   "cell_type": "markdown",
   "metadata": {},
   "source": [
    "# Vorlesung 3: Erneuerbare und Speicheroptionen\n",
    "## Übersicht EE Volatilität, Residuallast und Ausblick Speicherbedarf\n",
    "\n",
    "In diesem Notebook werden beispielhaft Zeitreihen einzelner Erzeugungsanlagen (Photovoltaik - PV,Windkraftanlage - WKA) vorgestellt."
   ]
  },
  {
   "cell_type": "code",
   "execution_count": null,
   "metadata": {},
   "outputs": [],
   "source": [
    "import pandas as pd"
   ]
  },
  {
   "cell_type": "code",
   "execution_count": null,
   "metadata": {},
   "outputs": [],
   "source": [
    "pd.options.plotting.backend = \"plotly\"\n",
    "template = \"plotly_white\"\n",
    "# template = \"plotly_dark\""
   ]
  },
  {
   "attachments": {},
   "cell_type": "markdown",
   "metadata": {},
   "source": [
    "## Beispiel Windkraftanlage\n",
    "\n",
    "Profil einer Offshore Windturbine auf Basis eines Datensatzes der Technischen Univesität München - Wind Energy Institute (Prof. Botasso)."
   ]
  },
  {
   "cell_type": "code",
   "execution_count": null,
   "metadata": {},
   "outputs": [],
   "source": [
    "df_wind = pd.read_csv(\"../data/windturbine_profile.csv\", index_col=0, parse_dates=True)"
   ]
  },
  {
   "cell_type": "code",
   "execution_count": null,
   "metadata": {},
   "outputs": [],
   "source": [
    "df_wind.plot(template=template, labels={\"value\": \"Power [MW]\"})"
   ]
  },
  {
   "attachments": {},
   "cell_type": "markdown",
   "metadata": {},
   "source": [
    "## Beispielanlage Photovoltaik\n",
    "\n",
    "Profildaten einer Beispeilanlage der Technischen Universität München - Ehem. Lehrstuhl Energiewandlungstechnik"
   ]
  },
  {
   "cell_type": "code",
   "execution_count": null,
   "metadata": {},
   "outputs": [],
   "source": [
    "df_solar = pd.read_csv(\"../data/pv_profile.csv\", index_col=0, parse_dates=True)"
   ]
  },
  {
   "cell_type": "code",
   "execution_count": null,
   "metadata": {},
   "outputs": [],
   "source": [
    "df_solar.plot(template=template, color_discrete_sequence=[\"#EF553B\"], labels={\"value\": \"Power [W]\"})"
   ]
  }
 ],
 "metadata": {
  "interpreter": {
   "hash": "8062df7c7545cf17a5e2a2318fdc0042fe07269ff0e9060ce028d79e49f182e9"
  },
  "kernelspec": {
   "display_name": "Python 3 (ipykernel)",
   "language": "python",
   "name": "python3"
  },
  "language_info": {
   "codemirror_mode": {
    "name": "ipython",
    "version": 3
   },
   "file_extension": ".py",
   "mimetype": "text/x-python",
   "name": "python",
   "nbconvert_exporter": "python",
   "pygments_lexer": "ipython3",
   "version": "3.8.16"
  }
 },
 "nbformat": 4,
 "nbformat_minor": 4
}
